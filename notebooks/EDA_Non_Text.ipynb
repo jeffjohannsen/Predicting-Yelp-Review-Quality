{
 "cells": [
  {
   "cell_type": "markdown",
   "id": "lovely-ambassador",
   "metadata": {},
   "source": [
    "# Exploratory Data Analysis Non-Text Data - Yelp 2021"
   ]
  },
  {
   "cell_type": "markdown",
   "id": "minor-admission",
   "metadata": {},
   "source": [
    "### Imports and Global Settings"
   ]
  },
  {
   "cell_type": "code",
   "execution_count": 1,
   "id": "authentic-enzyme",
   "metadata": {},
   "outputs": [],
   "source": [
    "import numpy as np\n",
    "import pandas as pd\n",
    "import matplotlib.pyplot as plt\n",
    "import seaborn as sns\n"
   ]
  },
  {
   "cell_type": "markdown",
   "id": "accepted-scene",
   "metadata": {},
   "source": [
    "### Import Data"
   ]
  },
  {
   "cell_type": "code",
   "execution_count": 2,
   "id": "pretty-provincial",
   "metadata": {},
   "outputs": [],
   "source": [
    "file_location = \"../data/full_data/analytics_ready/\"\n",
    "filename = \"non_text_data.csv\""
   ]
  },
  {
   "cell_type": "code",
   "execution_count": 3,
   "id": "nuclear-circular",
   "metadata": {},
   "outputs": [],
   "source": [
    "# 6907890 records available\n",
    "num_records_to_load = 6907890"
   ]
  },
  {
   "cell_type": "code",
   "execution_count": 4,
   "id": "lovely-nicholas",
   "metadata": {},
   "outputs": [],
   "source": [
    "df = pd.read_csv(file_location + filename, nrows=num_records_to_load)"
   ]
  },
  {
   "cell_type": "markdown",
   "id": "scenic-beach",
   "metadata": {},
   "source": [
    "### Basic Info"
   ]
  },
  {
   "cell_type": "code",
   "execution_count": 5,
   "id": "played-domestic",
   "metadata": {},
   "outputs": [
    {
     "name": "stdout",
     "output_type": "stream",
     "text": [
      "<class 'pandas.core.frame.DataFrame'>\n",
      "RangeIndex: 6907890 entries, 0 to 6907889\n",
      "Data columns (total 24 columns):\n",
      " #   Column                 Dtype  \n",
      "---  ------                 -----  \n",
      " 0   review_id              object \n",
      " 1   user_id                object \n",
      " 2   business_id            object \n",
      " 3   review_stars           float64\n",
      " 4   biz_avg_stars          float64\n",
      " 5   biz_review_count       int64  \n",
      " 6   biz_checkin_count      float64\n",
      " 7   biz_max_checkin_date   object \n",
      " 8   biz_min_checkin_date   object \n",
      " 9   biz_latitude           float64\n",
      " 10  biz_longitude          float64\n",
      " 11  biz_postal_code        object \n",
      " 12  biz_state              object \n",
      " 13  user_avg_stars         float64\n",
      " 14  user_review_count      int64  \n",
      " 15  user_friend_count      int64  \n",
      " 16  user_fan_count         int64  \n",
      " 17  user_compliment_count  int64  \n",
      " 18  user_elite_count       int64  \n",
      " 19  user_elite_max         float64\n",
      " 20  user_elite_min         float64\n",
      " 21  user_yelping_since     object \n",
      " 22  target_ufc_bool        bool   \n",
      " 23  target_ufc_count       int64  \n",
      "dtypes: bool(1), float64(8), int64(7), object(8)\n",
      "memory usage: 1.2+ GB\n"
     ]
    }
   ],
   "source": [
    "df.info()"
   ]
  },
  {
   "cell_type": "code",
   "execution_count": null,
   "id": "fresh-lesbian",
   "metadata": {},
   "outputs": [],
   "source": []
  }
 ],
 "metadata": {
  "kernelspec": {
   "display_name": "Python 3",
   "language": "python",
   "name": "python3"
  },
  "language_info": {
   "codemirror_mode": {
    "name": "ipython",
    "version": 3
   },
   "file_extension": ".py",
   "mimetype": "text/x-python",
   "name": "python",
   "nbconvert_exporter": "python",
   "pygments_lexer": "ipython3",
   "version": "3.7.7"
  }
 },
 "nbformat": 4,
 "nbformat_minor": 5
}
