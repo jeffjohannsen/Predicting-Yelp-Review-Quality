{
 "cells": [
  {
   "cell_type": "markdown",
   "metadata": {},
   "source": [
    "# Split Data Train/Test Text/Non-Text"
   ]
  },
  {
   "cell_type": "markdown",
   "metadata": {},
   "source": [
    "### Setting Up Spark"
   ]
  },
  {
   "cell_type": "code",
   "execution_count": 1,
   "metadata": {},
   "outputs": [],
   "source": [
    "import pyspark as ps\n",
    "from pyspark.sql import functions as F\n",
    "from pyspark.sql.types import TimestampType, ArrayType"
   ]
  },
  {
   "cell_type": "code",
   "execution_count": 2,
   "metadata": {},
   "outputs": [],
   "source": [
    "spark = (ps.sql.SparkSession.builder\n",
    "        .appName(\"Split_Data\")\n",
    "        .master('local[4]')\n",
    "        .getOrCreate()\n",
    "        )\n",
    "\n",
    "sc = spark.sparkContext"
   ]
  },
  {
   "cell_type": "code",
   "execution_count": 3,
   "metadata": {},
   "outputs": [
    {
     "data": {
      "text/html": [
       "\n",
       "            <div>\n",
       "                <p><b>SparkSession - in-memory</b></p>\n",
       "                \n",
       "        <div>\n",
       "            <p><b>SparkContext</b></p>\n",
       "\n",
       "            <p><a href=\"http://ea88de276ecc:4040\">Spark UI</a></p>\n",
       "\n",
       "            <dl>\n",
       "              <dt>Version</dt>\n",
       "                <dd><code>v3.0.1</code></dd>\n",
       "              <dt>Master</dt>\n",
       "                <dd><code>local[4]</code></dd>\n",
       "              <dt>AppName</dt>\n",
       "                <dd><code>Split_Data</code></dd>\n",
       "            </dl>\n",
       "        </div>\n",
       "        \n",
       "            </div>\n",
       "        "
      ],
      "text/plain": [
       "<pyspark.sql.session.SparkSession at 0x7f047c4436a0>"
      ]
     },
     "execution_count": 3,
     "metadata": {},
     "output_type": "execute_result"
    }
   ],
   "source": [
    "spark"
   ]
  },
  {
   "cell_type": "markdown",
   "metadata": {},
   "source": [
    "### Connecting To Data"
   ]
  },
  {
   "cell_type": "code",
   "execution_count": 4,
   "metadata": {},
   "outputs": [],
   "source": [
    "data_location = \"/home/jovyan/work/Documents/Data_Science_Projects/Yelp_Reviews/data/full_data/analytics_ready/\""
   ]
  },
  {
   "cell_type": "code",
   "execution_count": 5,
   "metadata": {},
   "outputs": [],
   "source": [
    "filename = \"all_data.json\""
   ]
  },
  {
   "cell_type": "code",
   "execution_count": 6,
   "metadata": {},
   "outputs": [],
   "source": [
    "all_data = spark.read.json(data_location + filename)"
   ]
  },
  {
   "cell_type": "markdown",
   "metadata": {},
   "source": [
    "### Explore all_data"
   ]
  },
  {
   "cell_type": "code",
   "execution_count": 7,
   "metadata": {},
   "outputs": [
    {
     "name": "stdout",
     "output_type": "stream",
     "text": [
      "root\n",
      " |-- biz_avg_stars: double (nullable = true)\n",
      " |-- biz_checkin_count: long (nullable = true)\n",
      " |-- biz_latitude: double (nullable = true)\n",
      " |-- biz_longitude: double (nullable = true)\n",
      " |-- biz_max_checkin_date: string (nullable = true)\n",
      " |-- biz_min_checkin_date: string (nullable = true)\n",
      " |-- biz_postal_code: string (nullable = true)\n",
      " |-- biz_review_count: long (nullable = true)\n",
      " |-- biz_state: string (nullable = true)\n",
      " |-- business_id: string (nullable = true)\n",
      " |-- review_id: string (nullable = true)\n",
      " |-- review_stars: double (nullable = true)\n",
      " |-- review_text: string (nullable = true)\n",
      " |-- target_ufc_bool: string (nullable = true)\n",
      " |-- target_ufc_count: long (nullable = true)\n",
      " |-- user_avg_stars: double (nullable = true)\n",
      " |-- user_compliment_count: long (nullable = true)\n",
      " |-- user_elite_count: long (nullable = true)\n",
      " |-- user_elite_max: string (nullable = true)\n",
      " |-- user_elite_min: string (nullable = true)\n",
      " |-- user_fan_count: long (nullable = true)\n",
      " |-- user_friend_count: long (nullable = true)\n",
      " |-- user_id: string (nullable = true)\n",
      " |-- user_review_count: long (nullable = true)\n",
      " |-- user_yelping_since: string (nullable = true)\n",
      "\n"
     ]
    }
   ],
   "source": [
    "all_data.printSchema()"
   ]
  },
  {
   "cell_type": "code",
   "execution_count": 8,
   "metadata": {},
   "outputs": [
    {
     "name": "stdout",
     "output_type": "stream",
     "text": [
      "+-------------+-----------------+------------+-------------+--------------------+--------------------+---------------+----------------+---------+--------------------+--------------------+------------+--------------------+---------------+----------------+--------------+---------------------+----------------+--------------+--------------+--------------+-----------------+--------------------+-----------------+--------------------+\n",
      "|biz_avg_stars|biz_checkin_count|biz_latitude|biz_longitude|biz_max_checkin_date|biz_min_checkin_date|biz_postal_code|biz_review_count|biz_state|         business_id|           review_id|review_stars|         review_text|target_ufc_bool|target_ufc_count|user_avg_stars|user_compliment_count|user_elite_count|user_elite_max|user_elite_min|user_fan_count|user_friend_count|             user_id|user_review_count|  user_yelping_since|\n",
      "+-------------+-----------------+------------+-------------+--------------------+--------------------+---------------+----------------+---------+--------------------+--------------------+------------+--------------------+---------------+----------------+--------------+---------------------+----------------+--------------+--------------+--------------+-----------------+--------------------+-----------------+--------------------+\n",
      "|          2.0|              319|  45.6412317| -122.5571137|2020-11-08T17:48:...|2010-09-27T22:07:...|          98684|              28|       WA|-36nnCT71XE0InJXK...|8u57Miw3BXhwKRf6A...|         1.0|Deli refuses to l...|          False|               0|          4.04|                    3|               1|              |              |             0|                1|ofyOSbE04KsDt7e9T...|               26|2011-05-31T02:30:...|\n",
      "|          2.0|              319|  45.6412317| -122.5571137|2020-11-08T17:48:...|2010-09-27T22:07:...|          98684|              28|       WA|-36nnCT71XE0InJXK...|k4-m65kRrLkRR1YU-...|         2.0|They keep it clea...|           True|               1|          3.72|                  110|               3|          2017|          2015|             9|              109|oLd1zN3dy5cmPCCnd...|              186|2013-04-24T04:05:...|\n",
      "|          2.0|              319|  45.6412317| -122.5571137|2020-11-08T17:48:...|2010-09-27T22:07:...|          98684|              28|       WA|-36nnCT71XE0InJXK...|YFlgwm1WqI-bxpe7g...|         1.0|Customer service ...|          False|               0|          2.58|                    6|               1|              |              |             1|                1|Xg7RVVk9zNXTXyvCZ...|               36|2010-08-04T15:33:...|\n",
      "|          2.0|              319|  45.6412317| -122.5571137|2020-11-08T17:48:...|2010-09-27T22:07:...|          98684|              28|       WA|-36nnCT71XE0InJXK...|j5seBC5B7KRRkCmFU...|         4.0|I wasn't going to...|          False|               0|          4.67|                    0|               1|              |              |             0|                1|Hi_DpLJZIzCEARnK2...|                3|2017-10-23T21:20:...|\n",
      "|          2.0|              319|  45.6412317| -122.5571137|2020-11-08T17:48:...|2010-09-27T22:07:...|          98684|              28|       WA|-36nnCT71XE0InJXK...|l0VvXStxwvbp-CkIY...|         2.0|This store is clo...|          False|               0|          1.42|                    0|               1|              |              |             0|                1|6E4iiEkZFGEVIo_Wh...|               10|2017-01-10T21:00:...|\n",
      "+-------------+-----------------+------------+-------------+--------------------+--------------------+---------------+----------------+---------+--------------------+--------------------+------------+--------------------+---------------+----------------+--------------+---------------------+----------------+--------------+--------------+--------------+-----------------+--------------------+-----------------+--------------------+\n",
      "only showing top 5 rows\n",
      "\n"
     ]
    }
   ],
   "source": [
    "all_data.show(5)"
   ]
  },
  {
   "cell_type": "code",
   "execution_count": 9,
   "metadata": {},
   "outputs": [
    {
     "data": {
      "text/plain": [
       "8635403"
      ]
     },
     "execution_count": 9,
     "metadata": {},
     "output_type": "execute_result"
    }
   ],
   "source": [
    "all_data.count()"
   ]
  },
  {
   "cell_type": "code",
   "execution_count": 10,
   "metadata": {},
   "outputs": [],
   "source": [
    "all_data.createOrReplaceTempView(\"all_data\")"
   ]
  },
  {
   "cell_type": "markdown",
   "metadata": {},
   "source": [
    "### Split Data Into Working and Holdout Sets"
   ]
  },
  {
   "cell_type": "code",
   "execution_count": 11,
   "metadata": {},
   "outputs": [],
   "source": [
    "working_data, holdout_data = all_data.randomSplit([0.8, 0.2], seed=12345)"
   ]
  },
  {
   "cell_type": "code",
   "execution_count": 12,
   "metadata": {},
   "outputs": [
    {
     "data": {
      "text/plain": [
       "6907890"
      ]
     },
     "execution_count": 12,
     "metadata": {},
     "output_type": "execute_result"
    }
   ],
   "source": [
    "working_data.count()"
   ]
  },
  {
   "cell_type": "code",
   "execution_count": 13,
   "metadata": {},
   "outputs": [
    {
     "data": {
      "text/plain": [
       "1727513"
      ]
     },
     "execution_count": 13,
     "metadata": {},
     "output_type": "execute_result"
    }
   ],
   "source": [
    "holdout_data.count()"
   ]
  },
  {
   "cell_type": "markdown",
   "metadata": {},
   "source": [
    "### Split Data Into Text and Non-Text"
   ]
  },
  {
   "cell_type": "code",
   "execution_count": 15,
   "metadata": {},
   "outputs": [],
   "source": [
    "working_data.createOrReplaceTempView(\"working_data\")"
   ]
  },
  {
   "cell_type": "code",
   "execution_count": 16,
   "metadata": {},
   "outputs": [],
   "source": [
    "text_data = spark.sql('''\n",
    "                          SELECT review_id,\n",
    "                              review_stars,\n",
    "                              review_text,\n",
    "                              target_ufc_bool,\n",
    "                              target_ufc_count\n",
    "                          FROM working_data\n",
    "                      ''')"
   ]
  },
  {
   "cell_type": "code",
   "execution_count": 17,
   "metadata": {},
   "outputs": [
    {
     "name": "stdout",
     "output_type": "stream",
     "text": [
      "root\n",
      " |-- review_id: string (nullable = true)\n",
      " |-- review_stars: double (nullable = true)\n",
      " |-- review_text: string (nullable = true)\n",
      " |-- target_ufc_bool: string (nullable = true)\n",
      " |-- target_ufc_count: long (nullable = true)\n",
      "\n"
     ]
    }
   ],
   "source": [
    "text_data.printSchema()"
   ]
  },
  {
   "cell_type": "code",
   "execution_count": 18,
   "metadata": {},
   "outputs": [
    {
     "data": {
      "text/plain": [
       "6907890"
      ]
     },
     "execution_count": 18,
     "metadata": {},
     "output_type": "execute_result"
    }
   ],
   "source": [
    "text_data.count()"
   ]
  },
  {
   "cell_type": "code",
   "execution_count": 22,
   "metadata": {},
   "outputs": [
    {
     "name": "stdout",
     "output_type": "stream",
     "text": [
      "+--------------------+------------+--------------------+---------------+----------------+\n",
      "|           review_id|review_stars|         review_text|target_ufc_bool|target_ufc_count|\n",
      "+--------------------+------------+--------------------+---------------+----------------+\n",
      "|HfHK-fFTRfIIyQqPm...|         1.0|For some reason i...|           True|               1|\n",
      "|KJi3rMjdADYFM04us...|         1.0|I wish there was ...|           True|               1|\n",
      "|RkSTjgrwEuLsNCaqZ...|         1.0|The doctor was EX...|           True|               1|\n",
      "|bfzrGhNHUmwIjG-xj...|         1.0|I tried to find a...|           True|               4|\n",
      "|jJavFkU09T_aAcEuv...|         1.0|I have been at th...|          False|               0|\n",
      "+--------------------+------------+--------------------+---------------+----------------+\n",
      "only showing top 5 rows\n",
      "\n"
     ]
    }
   ],
   "source": [
    "text_data.show(5)"
   ]
  },
  {
   "cell_type": "code",
   "execution_count": 26,
   "metadata": {},
   "outputs": [],
   "source": [
    "non_text_data = spark.sql('''\n",
    "                              SELECT review_id,\n",
    "                                  user_id,\n",
    "                                  business_id,\n",
    "                                  review_stars,\n",
    "                                  biz_avg_stars,\n",
    "                                  biz_review_count,\n",
    "                                  biz_checkin_count,\n",
    "                                  biz_max_checkin_date,\n",
    "                                  biz_min_checkin_date,\n",
    "                                  biz_latitude,\n",
    "                                  biz_longitude,\n",
    "                                  biz_postal_code,\n",
    "                                  biz_state,\n",
    "                                  user_avg_stars,\n",
    "                                  user_review_count,\n",
    "                                  user_friend_count,\n",
    "                                  user_fan_count,\n",
    "                                  user_compliment_count,\n",
    "                                  user_elite_count,\n",
    "                                  user_elite_max,\n",
    "                                  user_elite_min,\n",
    "                                  user_yelping_since,\n",
    "                                  target_ufc_bool,\n",
    "                                  target_ufc_count\n",
    "                              FROM working_data\n",
    "                          ''')"
   ]
  },
  {
   "cell_type": "code",
   "execution_count": 27,
   "metadata": {},
   "outputs": [
    {
     "name": "stdout",
     "output_type": "stream",
     "text": [
      "root\n",
      " |-- review_id: string (nullable = true)\n",
      " |-- user_id: string (nullable = true)\n",
      " |-- business_id: string (nullable = true)\n",
      " |-- review_stars: double (nullable = true)\n",
      " |-- biz_avg_stars: double (nullable = true)\n",
      " |-- biz_review_count: long (nullable = true)\n",
      " |-- biz_checkin_count: long (nullable = true)\n",
      " |-- biz_max_checkin_date: string (nullable = true)\n",
      " |-- biz_min_checkin_date: string (nullable = true)\n",
      " |-- biz_latitude: double (nullable = true)\n",
      " |-- biz_longitude: double (nullable = true)\n",
      " |-- biz_postal_code: string (nullable = true)\n",
      " |-- biz_state: string (nullable = true)\n",
      " |-- user_avg_stars: double (nullable = true)\n",
      " |-- user_review_count: long (nullable = true)\n",
      " |-- user_friend_count: long (nullable = true)\n",
      " |-- user_fan_count: long (nullable = true)\n",
      " |-- user_compliment_count: long (nullable = true)\n",
      " |-- user_elite_count: long (nullable = true)\n",
      " |-- user_elite_max: string (nullable = true)\n",
      " |-- user_elite_min: string (nullable = true)\n",
      " |-- user_yelping_since: string (nullable = true)\n",
      " |-- target_ufc_bool: string (nullable = true)\n",
      " |-- target_ufc_count: long (nullable = true)\n",
      "\n"
     ]
    }
   ],
   "source": [
    "non_text_data.printSchema()"
   ]
  },
  {
   "cell_type": "code",
   "execution_count": 28,
   "metadata": {},
   "outputs": [
    {
     "name": "stdout",
     "output_type": "stream",
     "text": [
      "+--------------------+--------------------+--------------------+------------+-------------+----------------+-----------------+--------------------+--------------------+------------+-------------+---------------+---------+--------------+-----------------+-----------------+--------------+---------------------+----------------+--------------+--------------+--------------------+---------------+----------------+\n",
      "|           review_id|             user_id|         business_id|review_stars|biz_avg_stars|biz_review_count|biz_checkin_count|biz_max_checkin_date|biz_min_checkin_date|biz_latitude|biz_longitude|biz_postal_code|biz_state|user_avg_stars|user_review_count|user_friend_count|user_fan_count|user_compliment_count|user_elite_count|user_elite_max|user_elite_min|  user_yelping_since|target_ufc_bool|target_ufc_count|\n",
      "+--------------------+--------------------+--------------------+------------+-------------+----------------+-----------------+--------------------+--------------------+------------+-------------+---------------+---------+--------------+-----------------+-----------------+--------------+---------------------+----------------+--------------+--------------+--------------------+---------------+----------------+\n",
      "|HfHK-fFTRfIIyQqPm...|RGf_efCk6ljgog9gg...|56-Qr9HXmN94RHVcc...|         1.0|          1.0|               5|             null|                null|                null|  28.5517989|  -81.4606415|          32808|       FL|           1.9|               10|               22|             0|                    0|               1|              |              |2015-04-30T17:42:...|           True|               1|\n",
      "|KJi3rMjdADYFM04us...|aZif5938A_0sHsc-B...|56-Qr9HXmN94RHVcc...|         1.0|          1.0|               5|             null|                null|                null|  28.5517989|  -81.4606415|          32808|       FL|           1.0|                4|              274|             0|                    0|               1|              |              |2015-03-04T01:54:...|           True|               1|\n",
      "|RkSTjgrwEuLsNCaqZ...|vhKgTLyKvS67qxm57...|56-Qr9HXmN94RHVcc...|         1.0|          1.0|               5|             null|                null|                null|  28.5517989|  -81.4606415|          32808|       FL|          3.14|               13|                1|             0|                    2|               1|              |              |2015-05-22T00:19:...|           True|               1|\n",
      "|bfzrGhNHUmwIjG-xj...|mSv1_4mKTGFcNKhlF...|56-Qr9HXmN94RHVcc...|         1.0|          1.0|               5|             null|                null|                null|  28.5517989|  -81.4606415|          32808|       FL|          2.57|               27|               47|             0|                    4|               1|              |              |2015-09-16T06:51:...|           True|               4|\n",
      "|jJavFkU09T_aAcEuv...|jMvzmDHL_0MMNQjHA...|56-Qr9HXmN94RHVcc...|         1.0|          1.0|               5|             null|                null|                null|  28.5517989|  -81.4606415|          32808|       FL|           1.0|                1|                1|             0|                    0|               1|              |              |2020-12-09T13:06:...|          False|               0|\n",
      "+--------------------+--------------------+--------------------+------------+-------------+----------------+-----------------+--------------------+--------------------+------------+-------------+---------------+---------+--------------+-----------------+-----------------+--------------+---------------------+----------------+--------------+--------------+--------------------+---------------+----------------+\n",
      "only showing top 5 rows\n",
      "\n"
     ]
    }
   ],
   "source": [
    "non_text_data.show(5)"
   ]
  },
  {
   "cell_type": "code",
   "execution_count": 29,
   "metadata": {},
   "outputs": [
    {
     "data": {
      "text/plain": [
       "6907890"
      ]
     },
     "execution_count": 29,
     "metadata": {},
     "output_type": "execute_result"
    }
   ],
   "source": [
    "non_text_data.count()"
   ]
  },
  {
   "cell_type": "markdown",
   "metadata": {},
   "source": [
    "### Save Data"
   ]
  },
  {
   "cell_type": "code",
   "execution_count": 37,
   "metadata": {},
   "outputs": [],
   "source": [
    "text_data.coalesce(1).write.json(path='text_data.json')"
   ]
  },
  {
   "cell_type": "code",
   "execution_count": 38,
   "metadata": {},
   "outputs": [],
   "source": [
    "non_text_data.coalesce(1).write.csv(path='non_text_data.csv')"
   ]
  },
  {
   "cell_type": "code",
   "execution_count": 39,
   "metadata": {},
   "outputs": [],
   "source": [
    "holdout_data.coalesce(1).write.json(path='holdout_data.json')"
   ]
  },
  {
   "cell_type": "code",
   "execution_count": null,
   "metadata": {},
   "outputs": [],
   "source": []
  }
 ],
 "metadata": {
  "kernelspec": {
   "display_name": "Python 3",
   "language": "python",
   "name": "python3"
  },
  "language_info": {
   "codemirror_mode": {
    "name": "ipython",
    "version": 3
   },
   "file_extension": ".py",
   "mimetype": "text/x-python",
   "name": "python",
   "nbconvert_exporter": "python",
   "pygments_lexer": "ipython3",
   "version": "3.8.6"
  }
 },
 "nbformat": 4,
 "nbformat_minor": 4
}
