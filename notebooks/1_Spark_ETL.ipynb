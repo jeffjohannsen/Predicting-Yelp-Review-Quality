{
 "cells": [
  {
   "cell_type": "markdown",
   "metadata": {},
   "source": [
    "# Yelp Spark ETL"
   ]
  },
  {
   "cell_type": "markdown",
   "metadata": {},
   "source": [
    "### Setting Up Spark"
   ]
  },
  {
   "cell_type": "code",
   "execution_count": 1,
   "metadata": {},
   "outputs": [],
   "source": [
    "import pyspark as ps\n",
    "from pyspark.sql import functions as F\n",
    "from pyspark.sql.types import TimestampType, ArrayType"
   ]
  },
  {
   "cell_type": "code",
   "execution_count": 2,
   "metadata": {},
   "outputs": [],
   "source": [
    "spark = (ps.sql.SparkSession.builder\n",
    "        .appName(\"Yelp_ETL\")\n",
    "        .config(\"spark.driver.extraClassPath\", \"/home/jovyan/postgresql-42.2.20.jar\")\n",
    "        .master('local[3]')\n",
    "        .getOrCreate()\n",
    "        )\n",
    "\n",
    "sc = spark.sparkContext"
   ]
  },
  {
   "cell_type": "code",
   "execution_count": 3,
   "metadata": {},
   "outputs": [
    {
     "data": {
      "text/html": [
       "\n",
       "            <div>\n",
       "                <p><b>SparkSession - in-memory</b></p>\n",
       "                \n",
       "        <div>\n",
       "            <p><b>SparkContext</b></p>\n",
       "\n",
       "            <p><a href=\"http://ea88de276ecc:4040\">Spark UI</a></p>\n",
       "\n",
       "            <dl>\n",
       "              <dt>Version</dt>\n",
       "                <dd><code>v3.0.1</code></dd>\n",
       "              <dt>Master</dt>\n",
       "                <dd><code>local[3]</code></dd>\n",
       "              <dt>AppName</dt>\n",
       "                <dd><code>Yelp_ETL</code></dd>\n",
       "            </dl>\n",
       "        </div>\n",
       "        \n",
       "            </div>\n",
       "        "
      ],
      "text/plain": [
       "<pyspark.sql.session.SparkSession at 0x7f4178909910>"
      ]
     },
     "execution_count": 3,
     "metadata": {},
     "output_type": "execute_result"
    }
   ],
   "source": [
    "spark"
   ]
  },
  {
   "cell_type": "markdown",
   "metadata": {},
   "source": [
    "### Connecting To Data"
   ]
  },
  {
   "cell_type": "code",
   "execution_count": 4,
   "metadata": {},
   "outputs": [],
   "source": [
    "data_location = \"/home/jovyan/work/Documents/Data_Science_Projects/Yelp_Reviews/data/full_data/original_json/\""
   ]
  },
  {
   "cell_type": "code",
   "execution_count": 5,
   "metadata": {},
   "outputs": [],
   "source": [
    "filename_prefix = \"yelp_academic_dataset_\""
   ]
  },
  {
   "cell_type": "markdown",
   "metadata": {},
   "source": [
    "### Checkin DataPrep"
   ]
  },
  {
   "cell_type": "code",
   "execution_count": 6,
   "metadata": {},
   "outputs": [],
   "source": [
    "df_checkin = spark.read.json(data_location + filename_prefix + \"checkin.json\")"
   ]
  },
  {
   "cell_type": "code",
   "execution_count": 7,
   "metadata": {},
   "outputs": [
    {
     "name": "stdout",
     "output_type": "stream",
     "text": [
      "root\n",
      " |-- business_id: string (nullable = true)\n",
      " |-- date: string (nullable = true)\n",
      "\n"
     ]
    }
   ],
   "source": [
    "df_checkin.printSchema()"
   ]
  },
  {
   "cell_type": "code",
   "execution_count": 8,
   "metadata": {},
   "outputs": [
    {
     "name": "stdout",
     "output_type": "stream",
     "text": [
      "+--------------------+--------------------+\n",
      "|         business_id|                date|\n",
      "+--------------------+--------------------+\n",
      "|--0r8K_AQ4FZfLsX3...| 2017-09-03 17:13:59|\n",
      "|--0zrn43LEaB4jUWT...|2010-10-08 22:21:...|\n",
      "|--164t1nclzzmca7e...|2010-02-26 02:06:...|\n",
      "|--2aF9NhXnNVpDV0K...|2014-11-03 16:35:...|\n",
      "|--2mEJ63SC_8_08_j...|2010-12-15 17:10:...|\n",
      "+--------------------+--------------------+\n",
      "only showing top 5 rows\n",
      "\n"
     ]
    }
   ],
   "source": [
    "df_checkin.show(5)"
   ]
  },
  {
   "cell_type": "code",
   "execution_count": 9,
   "metadata": {},
   "outputs": [
    {
     "data": {
      "text/plain": [
       "138876"
      ]
     },
     "execution_count": 9,
     "metadata": {},
     "output_type": "execute_result"
    }
   ],
   "source": [
    "df_checkin.count()"
   ]
  },
  {
   "cell_type": "code",
   "execution_count": 10,
   "metadata": {},
   "outputs": [],
   "source": [
    "df_checkin_2 = df_checkin.withColumn(\"date_array\", F.split(df_checkin.date, ',').cast(ArrayType(TimestampType())))"
   ]
  },
  {
   "cell_type": "code",
   "execution_count": 11,
   "metadata": {},
   "outputs": [
    {
     "name": "stdout",
     "output_type": "stream",
     "text": [
      "root\n",
      " |-- business_id: string (nullable = true)\n",
      " |-- date: string (nullable = true)\n",
      " |-- date_array: array (nullable = true)\n",
      " |    |-- element: timestamp (containsNull = true)\n",
      "\n"
     ]
    }
   ],
   "source": [
    "df_checkin_2.createOrReplaceTempView(\"df_checkin_2\")\n",
    "df_checkin_2.printSchema()"
   ]
  },
  {
   "cell_type": "code",
   "execution_count": 12,
   "metadata": {},
   "outputs": [],
   "source": [
    "df_checkin_final = spark.sql('''\n",
    "                                 SELECT business_id,\n",
    "                                     size(date_array) AS num_checkins,\n",
    "                                     to_timestamp(array_min(date_array)) AS checkin_min,\n",
    "                                     to_timestamp(array_max(date_array)) AS checkin_max\n",
    "                                 FROM df_checkin_2\n",
    "                             ''')"
   ]
  },
  {
   "cell_type": "code",
   "execution_count": 13,
   "metadata": {},
   "outputs": [
    {
     "name": "stdout",
     "output_type": "stream",
     "text": [
      "+--------------------+------------+-------------------+-------------------+\n",
      "|         business_id|num_checkins|        checkin_min|        checkin_max|\n",
      "+--------------------+------------+-------------------+-------------------+\n",
      "|--0r8K_AQ4FZfLsX3...|           1|2017-09-03 17:13:59|2017-09-03 17:13:59|\n",
      "|--0zrn43LEaB4jUWT...|           9|2010-10-08 22:21:20|2011-08-29 19:01:31|\n",
      "|--164t1nclzzmca7e...|         311|2010-02-26 02:06:53|2013-11-25 02:51:33|\n",
      "|--2aF9NhXnNVpDV0K...|           8|2014-11-03 16:35:35|2020-12-29 16:22:00|\n",
      "|--2mEJ63SC_8_08_j...|           4|2010-12-15 17:10:46|2016-06-11 19:56:11|\n",
      "|--6COJIAjkQwSUZci...|         180|2012-09-23 20:58:03|2017-08-20 17:41:05|\n",
      "|--DzGwfuJH12DjYz9...|           2|2014-08-02 14:12:55|2015-02-21 17:37:57|\n",
      "|--EoF6KmeDuki2vBW...|           2|2012-08-27 21:10:37|2012-09-21 22:35:50|\n",
      "|--JKSSgnfoOjVDFGv...|           4|2011-08-15 22:43:08|2018-09-12 14:04:02|\n",
      "|--JuLhLvq3gyjNnXT...|           1|2016-06-08 15:40:03|2016-06-08 15:40:03|\n",
      "|--Q3mAcX9t63f7Xcb...|          35|2020-07-15 22:29:52|2021-01-25 19:11:17|\n",
      "|--UNNdnHRhsyFUbDg...|        2324|2010-02-07 05:58:54|2020-10-15 04:11:31|\n",
      "|--_nBudPOb1lNRgKf...|           7|2014-11-18 23:27:59|2015-03-14 22:24:45|\n",
      "|--bbZa1KPYSmW0X4o...|          47|2015-11-28 01:53:03|2020-12-07 02:18:17|\n",
      "|--c6cQzOAzqky9L_p...|           1|2014-12-07 08:02:13|2014-12-07 08:02:13|\n",
      "|--fFGOHU7mjZ670Mk...|          18|2011-01-24 17:55:32|2013-09-22 10:05:56|\n",
      "|--g3lcoxHd8djBe1y...|           1|2017-02-24 21:57:27|2017-02-24 21:57:27|\n",
      "|--hLwt1d-CymEs7KT...|           7|2015-04-10 22:11:28|2017-06-18 02:57:34|\n",
      "|--hkbIWgBKBOZq4Vc...|        1204|2014-05-28 22:05:40|2021-01-17 19:38:24|\n",
      "|--iiZK8pW7kC2Tr2P...|          43|2010-12-22 21:57:02|2020-02-27 21:44:46|\n",
      "+--------------------+------------+-------------------+-------------------+\n",
      "only showing top 20 rows\n",
      "\n"
     ]
    }
   ],
   "source": [
    "df_checkin_final.show(20)"
   ]
  },
  {
   "cell_type": "code",
   "execution_count": 14,
   "metadata": {},
   "outputs": [
    {
     "name": "stdout",
     "output_type": "stream",
     "text": [
      "root\n",
      " |-- business_id: string (nullable = true)\n",
      " |-- num_checkins: integer (nullable = false)\n",
      " |-- checkin_min: timestamp (nullable = true)\n",
      " |-- checkin_max: timestamp (nullable = true)\n",
      "\n"
     ]
    }
   ],
   "source": [
    "df_checkin_final.printSchema()"
   ]
  },
  {
   "cell_type": "code",
   "execution_count": 15,
   "metadata": {},
   "outputs": [],
   "source": [
    "# df_checkin_final.coalesce(1).write.csv(\"checkin_post_etl.csv\", header=True)"
   ]
  },
  {
   "cell_type": "markdown",
   "metadata": {},
   "source": [
    "### User DataPrep"
   ]
  },
  {
   "cell_type": "code",
   "execution_count": 16,
   "metadata": {},
   "outputs": [],
   "source": [
    "df_user = spark.read.json(data_location + filename_prefix + \"user.json\")"
   ]
  },
  {
   "cell_type": "code",
   "execution_count": 17,
   "metadata": {},
   "outputs": [
    {
     "name": "stdout",
     "output_type": "stream",
     "text": [
      "root\n",
      " |-- average_stars: double (nullable = true)\n",
      " |-- compliment_cool: long (nullable = true)\n",
      " |-- compliment_cute: long (nullable = true)\n",
      " |-- compliment_funny: long (nullable = true)\n",
      " |-- compliment_hot: long (nullable = true)\n",
      " |-- compliment_list: long (nullable = true)\n",
      " |-- compliment_more: long (nullable = true)\n",
      " |-- compliment_note: long (nullable = true)\n",
      " |-- compliment_photos: long (nullable = true)\n",
      " |-- compliment_plain: long (nullable = true)\n",
      " |-- compliment_profile: long (nullable = true)\n",
      " |-- compliment_writer: long (nullable = true)\n",
      " |-- cool: long (nullable = true)\n",
      " |-- elite: string (nullable = true)\n",
      " |-- fans: long (nullable = true)\n",
      " |-- friends: string (nullable = true)\n",
      " |-- funny: long (nullable = true)\n",
      " |-- name: string (nullable = true)\n",
      " |-- review_count: long (nullable = true)\n",
      " |-- useful: long (nullable = true)\n",
      " |-- user_id: string (nullable = true)\n",
      " |-- yelping_since: string (nullable = true)\n",
      "\n"
     ]
    }
   ],
   "source": [
    "df_user.printSchema()"
   ]
  },
  {
   "cell_type": "code",
   "execution_count": 18,
   "metadata": {},
   "outputs": [
    {
     "data": {
      "text/plain": [
       "2189457"
      ]
     },
     "execution_count": 18,
     "metadata": {},
     "output_type": "execute_result"
    }
   ],
   "source": [
    "df_user.count()"
   ]
  },
  {
   "cell_type": "code",
   "execution_count": 19,
   "metadata": {},
   "outputs": [
    {
     "name": "stdout",
     "output_type": "stream",
     "text": [
      "+-------------+---------------+---------------+----------------+--------------+---------------+---------------+---------------+-----------------+----------------+------------------+-----------------+-----+--------------------+----+--------------------+-----+---------+------------+------+--------------------+-------------------+\n",
      "|average_stars|compliment_cool|compliment_cute|compliment_funny|compliment_hot|compliment_list|compliment_more|compliment_note|compliment_photos|compliment_plain|compliment_profile|compliment_writer| cool|               elite|fans|             friends|funny|     name|review_count|useful|             user_id|      yelping_since|\n",
      "+-------------+---------------+---------------+----------------+--------------+---------------+---------------+---------------+-----------------+----------------+------------------+-----------------+-----+--------------------+----+--------------------+-----+---------+------------+------+--------------------+-------------------+\n",
      "|         3.85|           2541|            361|            2541|          1710|            147|            163|           1212|              323|            5691|               190|              815|11291|2006,2007,2008,20...|1357|xBDpTUbai0DXrvxCe...|10030|     Jane|        1220| 15038|q_QQ5kBBwlCcbL1s4...|2005-03-14 20:26:35|\n",
      "|         4.09|           2205|            232|            2205|          1632|             96|             87|           1187|              294|            3293|                94|              472|18046|2007,2008,2009,20...|1025|XPzYf9_mwG2eXYP2B...|10289|     Gabi|        2136| 21272|dIIKEfOgo0KqUfGQv...|2007-08-10 19:01:51|\n",
      "|         3.76|             31|              0|              31|            22|              0|              1|              5|                1|              20|                 3|                3|  130|           2010,2011|  16|GfB6sC4NJQvSI2ewb...|  128|    Jason|         119|   188|D6ErcUnFALnCQN4b1...|2007-02-07 15:47:53|\n",
      "|         3.77|           1566|            219|            1566|          1180|             90|            129|           1120|              326|            4510|                93|              391| 4035|2009,2010,2011,20...| 420|HQZPQhKMwRAyS6BCs...| 4722|      Kat|         987|  7234|JnPIjvC0cmooNDfsa...|2009-02-09 16:14:29|\n",
      "|         3.72|            310|             16|             310|           248|             15|             19|             77|               44|             131|                32|               98| 1124|      2009,2010,2011|  47|-Q88pZUcrfN0BLBDp...|  727|Christine|         495|  1577|37Hc8hr3cw0iHLoPz...|2008-03-03 04:57:05|\n",
      "+-------------+---------------+---------------+----------------+--------------+---------------+---------------+---------------+-----------------+----------------+------------------+-----------------+-----+--------------------+----+--------------------+-----+---------+------------+------+--------------------+-------------------+\n",
      "only showing top 5 rows\n",
      "\n"
     ]
    }
   ],
   "source": [
    "df_user.show(5)"
   ]
  },
  {
   "cell_type": "code",
   "execution_count": 20,
   "metadata": {},
   "outputs": [],
   "source": [
    "df_user.createOrReplaceTempView(\"df_user\")"
   ]
  },
  {
   "cell_type": "code",
   "execution_count": 21,
   "metadata": {},
   "outputs": [],
   "source": [
    "df_user_1 = spark.sql('''\n",
    "                          SELECT user_id, \n",
    "                              to_timestamp(yelping_since) AS yelping_since,\n",
    "                              split(replace(elite, '20,20', '2020'), \",\") AS elite_array,\n",
    "                              average_stars,\n",
    "                              review_count,\n",
    "                              fans,\n",
    "                              size(split(friends, \",\")) AS friend_count,\n",
    "                              (compliment_cool + compliment_cute + compliment_funny \n",
    "                              + compliment_hot + compliment_list + compliment_more\n",
    "                              + compliment_note + compliment_photos + compliment_plain\n",
    "                              + compliment_profile + compliment_writer) AS compliments,\n",
    "                              (cool + funny + useful) AS ufc_count\n",
    "                          FROM df_user\n",
    "                      ''')"
   ]
  },
  {
   "cell_type": "code",
   "execution_count": 22,
   "metadata": {},
   "outputs": [],
   "source": [
    "df_user_1.createOrReplaceTempView(\"df_user_1\")\n",
    "df_user_final = spark.sql('''\n",
    "                              SELECT user_id,\n",
    "                                  yelping_since,\n",
    "                                  average_stars,\n",
    "                                  review_count,\n",
    "                                  fans,\n",
    "                                  friend_count,\n",
    "                                  compliments,\n",
    "                                  ufc_count,\n",
    "                                  CASE\n",
    "                                      WHEN size(elite_array) = 1 AND element_at(elite_array, 1) = \"\" THEN 0\n",
    "                                      ELSE size(elite_array)\n",
    "                                  END AS elite_count,\n",
    "                                  CASE\n",
    "                                      WHEN size(elite_array) = 1 AND element_at(elite_array, 1) = \"\" THEN 0\n",
    "                                      ELSE int(array_min(elite_array))\n",
    "                                  END AS elite_min,\n",
    "                                  CASE\n",
    "                                      WHEN size(elite_array) = 1 AND element_at(elite_array, 1) = \"\" THEN 0\n",
    "                                      ELSE int(array_max(elite_array))\n",
    "                                  END AS elite_max\n",
    "                              FROM df_user_1\n",
    "                          ''')"
   ]
  },
  {
   "cell_type": "code",
   "execution_count": 23,
   "metadata": {},
   "outputs": [
    {
     "name": "stdout",
     "output_type": "stream",
     "text": [
      "root\n",
      " |-- user_id: string (nullable = true)\n",
      " |-- yelping_since: timestamp (nullable = true)\n",
      " |-- average_stars: double (nullable = true)\n",
      " |-- review_count: long (nullable = true)\n",
      " |-- fans: long (nullable = true)\n",
      " |-- friend_count: integer (nullable = false)\n",
      " |-- compliments: long (nullable = true)\n",
      " |-- ufc_count: long (nullable = true)\n",
      " |-- elite_count: integer (nullable = false)\n",
      " |-- elite_min: integer (nullable = true)\n",
      " |-- elite_max: integer (nullable = true)\n",
      "\n"
     ]
    }
   ],
   "source": [
    "df_user_final.printSchema()"
   ]
  },
  {
   "cell_type": "code",
   "execution_count": 24,
   "metadata": {},
   "outputs": [
    {
     "name": "stdout",
     "output_type": "stream",
     "text": [
      "+--------------------+-------------------+-------------+------------+----+------------+-----------+---------+-----------+---------+---------+\n",
      "|             user_id|      yelping_since|average_stars|review_count|fans|friend_count|compliments|ufc_count|elite_count|elite_min|elite_max|\n",
      "+--------------------+-------------------+-------------+------------+----+------------+-----------+---------+-----------+---------+---------+\n",
      "|q_QQ5kBBwlCcbL1s4...|2005-03-14 20:26:35|         3.85|        1220|1357|        5813|      15694|    36359|          9|     2006|     2014|\n",
      "|dIIKEfOgo0KqUfGQv...|2007-08-10 19:01:51|         4.09|        2136|1025|        6296|      11797|    49607|         14|     2007|     2020|\n",
      "|D6ErcUnFALnCQN4b1...|2007-02-07 15:47:53|         3.76|         119|  16|         835|        117|      446|          2|     2010|     2011|\n",
      "|JnPIjvC0cmooNDfsa...|2009-02-09 16:14:29|         3.77|         987| 420|        1452|      11190|    15991|          6|     2009|     2014|\n",
      "|37Hc8hr3cw0iHLoPz...|2008-03-03 04:57:05|         3.72|         495|  47|         532|       1300|     3428|          3|     2009|     2011|\n",
      "+--------------------+-------------------+-------------+------------+----+------------+-----------+---------+-----------+---------+---------+\n",
      "only showing top 5 rows\n",
      "\n"
     ]
    }
   ],
   "source": [
    "df_user_final.show(5)"
   ]
  },
  {
   "cell_type": "code",
   "execution_count": 25,
   "metadata": {},
   "outputs": [],
   "source": [
    "# df_user_final.coalesce(1).write.csv(\"user_post_etl.csv\", header=True)"
   ]
  },
  {
   "cell_type": "markdown",
   "metadata": {},
   "source": [
    "### Business DataPrep"
   ]
  },
  {
   "cell_type": "code",
   "execution_count": 26,
   "metadata": {},
   "outputs": [],
   "source": [
    "df_business = spark.read.json(data_location + filename_prefix + \"business.json\")"
   ]
  },
  {
   "cell_type": "code",
   "execution_count": 27,
   "metadata": {},
   "outputs": [
    {
     "name": "stdout",
     "output_type": "stream",
     "text": [
      "root\n",
      " |-- address: string (nullable = true)\n",
      " |-- attributes: struct (nullable = true)\n",
      " |    |-- AcceptsInsurance: string (nullable = true)\n",
      " |    |-- AgesAllowed: string (nullable = true)\n",
      " |    |-- Alcohol: string (nullable = true)\n",
      " |    |-- Ambience: string (nullable = true)\n",
      " |    |-- BYOB: string (nullable = true)\n",
      " |    |-- BYOBCorkage: string (nullable = true)\n",
      " |    |-- BestNights: string (nullable = true)\n",
      " |    |-- BikeParking: string (nullable = true)\n",
      " |    |-- BusinessAcceptsBitcoin: string (nullable = true)\n",
      " |    |-- BusinessAcceptsCreditCards: string (nullable = true)\n",
      " |    |-- BusinessParking: string (nullable = true)\n",
      " |    |-- ByAppointmentOnly: string (nullable = true)\n",
      " |    |-- Caters: string (nullable = true)\n",
      " |    |-- CoatCheck: string (nullable = true)\n",
      " |    |-- Corkage: string (nullable = true)\n",
      " |    |-- DietaryRestrictions: string (nullable = true)\n",
      " |    |-- DogsAllowed: string (nullable = true)\n",
      " |    |-- DriveThru: string (nullable = true)\n",
      " |    |-- GoodForDancing: string (nullable = true)\n",
      " |    |-- GoodForKids: string (nullable = true)\n",
      " |    |-- GoodForMeal: string (nullable = true)\n",
      " |    |-- HairSpecializesIn: string (nullable = true)\n",
      " |    |-- HappyHour: string (nullable = true)\n",
      " |    |-- HasTV: string (nullable = true)\n",
      " |    |-- Music: string (nullable = true)\n",
      " |    |-- NoiseLevel: string (nullable = true)\n",
      " |    |-- Open24Hours: string (nullable = true)\n",
      " |    |-- OutdoorSeating: string (nullable = true)\n",
      " |    |-- RestaurantsAttire: string (nullable = true)\n",
      " |    |-- RestaurantsCounterService: string (nullable = true)\n",
      " |    |-- RestaurantsDelivery: string (nullable = true)\n",
      " |    |-- RestaurantsGoodForGroups: string (nullable = true)\n",
      " |    |-- RestaurantsPriceRange2: string (nullable = true)\n",
      " |    |-- RestaurantsReservations: string (nullable = true)\n",
      " |    |-- RestaurantsTableService: string (nullable = true)\n",
      " |    |-- RestaurantsTakeOut: string (nullable = true)\n",
      " |    |-- Smoking: string (nullable = true)\n",
      " |    |-- WheelchairAccessible: string (nullable = true)\n",
      " |    |-- WiFi: string (nullable = true)\n",
      " |-- business_id: string (nullable = true)\n",
      " |-- categories: string (nullable = true)\n",
      " |-- city: string (nullable = true)\n",
      " |-- hours: struct (nullable = true)\n",
      " |    |-- Friday: string (nullable = true)\n",
      " |    |-- Monday: string (nullable = true)\n",
      " |    |-- Saturday: string (nullable = true)\n",
      " |    |-- Sunday: string (nullable = true)\n",
      " |    |-- Thursday: string (nullable = true)\n",
      " |    |-- Tuesday: string (nullable = true)\n",
      " |    |-- Wednesday: string (nullable = true)\n",
      " |-- is_open: long (nullable = true)\n",
      " |-- latitude: double (nullable = true)\n",
      " |-- longitude: double (nullable = true)\n",
      " |-- name: string (nullable = true)\n",
      " |-- postal_code: string (nullable = true)\n",
      " |-- review_count: long (nullable = true)\n",
      " |-- stars: double (nullable = true)\n",
      " |-- state: string (nullable = true)\n",
      "\n"
     ]
    }
   ],
   "source": [
    "df_business.printSchema()"
   ]
  },
  {
   "cell_type": "code",
   "execution_count": 28,
   "metadata": {},
   "outputs": [
    {
     "data": {
      "text/plain": [
       "160585"
      ]
     },
     "execution_count": 28,
     "metadata": {},
     "output_type": "execute_result"
    }
   ],
   "source": [
    "df_business.count()"
   ]
  },
  {
   "cell_type": "code",
   "execution_count": 29,
   "metadata": {},
   "outputs": [
    {
     "name": "stdout",
     "output_type": "stream",
     "text": [
      "+-------------------+--------------------+--------------------+--------------------+-----------+--------------------+-------+-------------+---------------+--------------------+-----------+------------+-----+-----+\n",
      "|            address|          attributes|         business_id|          categories|       city|               hours|is_open|     latitude|      longitude|                name|postal_code|review_count|stars|state|\n",
      "+-------------------+--------------------+--------------------+--------------------+-----------+--------------------+-------+-------------+---------------+--------------------+-----------+------------+-----+-----+\n",
      "|       921 Pearl St|[,, 'beer_and_win...|6iYb2HFDywm3zjuRg...|Gastropubs, Food,...|    Boulder|[11:0-23:0, 11:0-...|      1|   40.0175444|   -105.2833481| Oskar Blues Taproom|      80302|          86|  4.0|   CO|\n",
      "|7000 NE Airport Way|[,, u'beer_and_wi...|tCbdrRPZA0oiIYSmH...|Salad, Soup, Sand...|   Portland|[5:0-18:0, 5:0-18...|      1|45.5889058992|-122.5933307507|Flying Elephants ...|      97218|         126|  4.0|   OR|\n",
      "| 4720 Hawthorne Ave|[,,,,,,, False,, ...|bvN78flM8NLprQ1a1...|Antiques, Fashion...|   Portland|[11:0-18:0,, 11:0...|      1|45.5119069956|-122.6136928797|      The Reclaimory|      97214|          13|  4.5|   OR|\n",
      "| 2566 Enterprise Rd|[,,,,,,,,, True,,...|oaepsyvc0J17qwi8c...|Beauty & Spas, Ha...|Orange City|                null|      1|   28.9144823|    -81.2959787|         Great Clips|      32763|           8|  3.0|   FL|\n",
      "|1046 Memorial Dr SE|[,,,,,,,,, True, ...|PE9uqAjdw0E4-8mjG...|Gyms, Active Life...|    Atlanta|[16:0-19:0, 16:0-...|      1|   33.7470274|    -84.3534244|   Crossfit Terminus|      30316|          14|  4.0|   GA|\n",
      "+-------------------+--------------------+--------------------+--------------------+-----------+--------------------+-------+-------------+---------------+--------------------+-----------+------------+-----+-----+\n",
      "only showing top 5 rows\n",
      "\n"
     ]
    }
   ],
   "source": [
    "df_business.show(5)"
   ]
  },
  {
   "cell_type": "code",
   "execution_count": 30,
   "metadata": {},
   "outputs": [],
   "source": [
    "df_business.createOrReplaceTempView(\"df_business\")"
   ]
  },
  {
   "cell_type": "code",
   "execution_count": 31,
   "metadata": {},
   "outputs": [],
   "source": [
    "df_business_final = spark.sql('''\n",
    "                                  SELECT business_id,\n",
    "                                      latitude,\n",
    "                                      longitude,\n",
    "                                      postal_code,\n",
    "                                      state,\n",
    "                                      stars,\n",
    "                                      review_count\n",
    "                                  FROM df_business\n",
    "                              ''')"
   ]
  },
  {
   "cell_type": "code",
   "execution_count": 32,
   "metadata": {},
   "outputs": [
    {
     "name": "stdout",
     "output_type": "stream",
     "text": [
      "root\n",
      " |-- business_id: string (nullable = true)\n",
      " |-- latitude: double (nullable = true)\n",
      " |-- longitude: double (nullable = true)\n",
      " |-- postal_code: string (nullable = true)\n",
      " |-- state: string (nullable = true)\n",
      " |-- stars: double (nullable = true)\n",
      " |-- review_count: long (nullable = true)\n",
      "\n"
     ]
    }
   ],
   "source": [
    "df_business_final.printSchema()"
   ]
  },
  {
   "cell_type": "code",
   "execution_count": 33,
   "metadata": {},
   "outputs": [
    {
     "name": "stdout",
     "output_type": "stream",
     "text": [
      "+--------------------+-------------+---------------+-----------+-----+-----+------------+\n",
      "|         business_id|     latitude|      longitude|postal_code|state|stars|review_count|\n",
      "+--------------------+-------------+---------------+-----------+-----+-----+------------+\n",
      "|6iYb2HFDywm3zjuRg...|   40.0175444|   -105.2833481|      80302|   CO|  4.0|          86|\n",
      "|tCbdrRPZA0oiIYSmH...|45.5889058992|-122.5933307507|      97218|   OR|  4.0|         126|\n",
      "|bvN78flM8NLprQ1a1...|45.5119069956|-122.6136928797|      97214|   OR|  4.5|          13|\n",
      "|oaepsyvc0J17qwi8c...|   28.9144823|    -81.2959787|      32763|   FL|  3.0|           8|\n",
      "|PE9uqAjdw0E4-8mjG...|   33.7470274|    -84.3534244|      30316|   GA|  4.0|          14|\n",
      "+--------------------+-------------+---------------+-----------+-----+-----+------------+\n",
      "only showing top 5 rows\n",
      "\n"
     ]
    }
   ],
   "source": [
    "df_business_final.show(5)"
   ]
  },
  {
   "cell_type": "code",
   "execution_count": 34,
   "metadata": {},
   "outputs": [],
   "source": [
    "# df_business_final.coalesce(1).write.csv(\"business_post_etl.csv\", header=True)"
   ]
  },
  {
   "cell_type": "markdown",
   "metadata": {},
   "source": [
    "### Review DataPrep"
   ]
  },
  {
   "cell_type": "code",
   "execution_count": 35,
   "metadata": {},
   "outputs": [],
   "source": [
    "df_review = spark.read.json(data_location + filename_prefix + \"review.json\")"
   ]
  },
  {
   "cell_type": "code",
   "execution_count": 36,
   "metadata": {},
   "outputs": [
    {
     "name": "stdout",
     "output_type": "stream",
     "text": [
      "root\n",
      " |-- business_id: string (nullable = true)\n",
      " |-- cool: long (nullable = true)\n",
      " |-- date: string (nullable = true)\n",
      " |-- funny: long (nullable = true)\n",
      " |-- review_id: string (nullable = true)\n",
      " |-- stars: double (nullable = true)\n",
      " |-- text: string (nullable = true)\n",
      " |-- useful: long (nullable = true)\n",
      " |-- user_id: string (nullable = true)\n",
      "\n"
     ]
    }
   ],
   "source": [
    "df_review.printSchema()"
   ]
  },
  {
   "cell_type": "code",
   "execution_count": 37,
   "metadata": {},
   "outputs": [
    {
     "data": {
      "text/plain": [
       "8635403"
      ]
     },
     "execution_count": 37,
     "metadata": {},
     "output_type": "execute_result"
    }
   ],
   "source": [
    "df_review.count()"
   ]
  },
  {
   "cell_type": "code",
   "execution_count": 38,
   "metadata": {},
   "outputs": [
    {
     "name": "stdout",
     "output_type": "stream",
     "text": [
      "+--------------------+----+-------------------+-----+--------------------+-----+--------------------+------+--------------------+\n",
      "|         business_id|cool|               date|funny|           review_id|stars|                text|useful|             user_id|\n",
      "+--------------------+----+-------------------+-----+--------------------+-----+--------------------+------+--------------------+\n",
      "|buF9druCkbuXLX526...|   1|2014-10-11 03:34:02|    1|lWC-xP3rd6obsecCY...|  4.0|Apparently Prides...|     3|ak0TdVmGKo4pwqdJS...|\n",
      "|RA4V8pr014UyUbDvI...|   0|2015-07-03 20:38:25|    0|8bFej1QE5LXp4O05q...|  4.0|This store is pre...|     1|YoVfDbnISlW0f7abN...|\n",
      "|_sS2LBIGNT5NQb6PD...|   0|2013-05-28 20:38:06|    0|NDhkzczKjLshODbqD...|  5.0|I called WVM on t...|     0|eC5evKn1TWDyHCyQA...|\n",
      "|0AzLzHfOJgL7ROwhd...|   1|2010-01-08 02:29:15|    1|T5fAqjjFooT4V0OeZ...|  2.0|I've stayed at ma...|     1|SFQ1jcnGguO0LYWnb...|\n",
      "|8zehGz9jnxPqXtOc7...|   0|2011-07-28 18:05:01|    0|sjm_uUcQVxab_EeLC...|  4.0|The food is alway...|     0|0kA0PAJ8QFMeveQWH...|\n",
      "+--------------------+----+-------------------+-----+--------------------+-----+--------------------+------+--------------------+\n",
      "only showing top 5 rows\n",
      "\n"
     ]
    }
   ],
   "source": [
    "df_review.show(5)"
   ]
  },
  {
   "cell_type": "code",
   "execution_count": 39,
   "metadata": {},
   "outputs": [],
   "source": [
    "df_review.createOrReplaceTempView(\"df_review\")"
   ]
  },
  {
   "cell_type": "code",
   "execution_count": 40,
   "metadata": {},
   "outputs": [],
   "source": [
    "df_review_final = spark.sql('''\n",
    "                                SELECT review_id,\n",
    "                                    to_timestamp(date) AS review_date,\n",
    "                                    user_id,\n",
    "                                    business_id,\n",
    "                                    stars,\n",
    "                                    text,\n",
    "                                    ufc_total AS ufc_count_target,\n",
    "                                CASE\n",
    "                                    WHEN ufc_total >= 1 THEN \"True\"\n",
    "                                    ELSE \"False\"\n",
    "                                END AS ufc_bool_target\n",
    "                                FROM (SELECT review_id,\n",
    "                                          date,\n",
    "                                          user_id,\n",
    "                                          business_id,\n",
    "                                          stars,\n",
    "                                          text,\n",
    "                                          cool + funny + useful AS ufc_total\n",
    "                                      FROM df_review)\n",
    "                            ''')"
   ]
  },
  {
   "cell_type": "code",
   "execution_count": 41,
   "metadata": {},
   "outputs": [
    {
     "name": "stdout",
     "output_type": "stream",
     "text": [
      "root\n",
      " |-- review_id: string (nullable = true)\n",
      " |-- review_date: timestamp (nullable = true)\n",
      " |-- user_id: string (nullable = true)\n",
      " |-- business_id: string (nullable = true)\n",
      " |-- stars: double (nullable = true)\n",
      " |-- text: string (nullable = true)\n",
      " |-- ufc_count_target: long (nullable = true)\n",
      " |-- ufc_bool_target: string (nullable = false)\n",
      "\n"
     ]
    }
   ],
   "source": [
    "df_review_final.printSchema()"
   ]
  },
  {
   "cell_type": "code",
   "execution_count": 42,
   "metadata": {},
   "outputs": [
    {
     "name": "stdout",
     "output_type": "stream",
     "text": [
      "+--------------------+-------------------+--------------------+--------------------+-----+--------------------+----------------+---------------+\n",
      "|           review_id|        review_date|             user_id|         business_id|stars|                text|ufc_count_target|ufc_bool_target|\n",
      "+--------------------+-------------------+--------------------+--------------------+-----+--------------------+----------------+---------------+\n",
      "|lWC-xP3rd6obsecCY...|2014-10-11 03:34:02|ak0TdVmGKo4pwqdJS...|buF9druCkbuXLX526...|  4.0|Apparently Prides...|               5|           True|\n",
      "|8bFej1QE5LXp4O05q...|2015-07-03 20:38:25|YoVfDbnISlW0f7abN...|RA4V8pr014UyUbDvI...|  4.0|This store is pre...|               1|           True|\n",
      "|NDhkzczKjLshODbqD...|2013-05-28 20:38:06|eC5evKn1TWDyHCyQA...|_sS2LBIGNT5NQb6PD...|  5.0|I called WVM on t...|               0|          False|\n",
      "|T5fAqjjFooT4V0OeZ...|2010-01-08 02:29:15|SFQ1jcnGguO0LYWnb...|0AzLzHfOJgL7ROwhd...|  2.0|I've stayed at ma...|               3|           True|\n",
      "|sjm_uUcQVxab_EeLC...|2011-07-28 18:05:01|0kA0PAJ8QFMeveQWH...|8zehGz9jnxPqXtOc7...|  4.0|The food is alway...|               0|          False|\n",
      "|J4a2TuhDasjn2k3wW...|2018-01-21 04:41:03|RNm_RWkcd02Li2mKP...|xGXzsc-hzam-VArK6...|  1.0|This place used t...|               2|           True|\n",
      "|28gGfkLs3igtjVy61...|2006-04-16 02:58:44|Q8c91v7luItVB0cMF...|EXOsmAB1s71WePlQk...|  2.0|The setting is pe...|               0|          False|\n",
      "|9vqwvFCBG3FBiHGmO...|2017-12-02 18:16:13|XGkAG92TQ3MQUKGX9...|DbXHNl890xSXNiyRc...|  5.0|Probably one of t...|               0|          False|\n",
      "|2l_TDrQ7p-5tANOyi...|2012-05-28 15:00:47|LWUnzwK0ILquLLZcH...|mD-A9KOWADXvfrZfw...|  4.0|I am definitely a...|               1|           True|\n",
      "|KKVFopqzcVfcubIBx...|2014-05-07 18:10:21|99RsBrARhhx60UnAC...|EEHhKSxUvJkoPSzeG...|  5.0|I work in the Pru...|               0|          False|\n",
      "|FdoBFTjXXMn4hVnJ5...|2017-09-08 23:26:10|eLAYHxHUutiXswy-C...|WQFn1A7-UAA4JT5YW...|  1.0|They NEVER seem t...|               0|          False|\n",
      "|Qv_lQb1Yu9DGsUO3r...|2013-01-02 18:12:15|Ngl83gs3n22SzLAsN...|iZxfWlfNPXV_0S1xO...|  2.0|Disappointing. Bo...|               3|           True|\n",
      "|Gi5LSRmTXoL9Bp4jN...|2011-10-27 14:32:57|hn0ZbitvmlHnF--KJ...|TA1KUSCu8GkWP9w0r...|  4.0|I have been here ...|               0|          False|\n",
      "|m1GlqFGIN5eayrbb2...|2014-06-27 22:06:55|B7YSV6r1ePAXc69Fk...|wZgUAuDuEGPEzKK-P...|  1.0|I wish I could gi...|               0|          False|\n",
      "|j_eh6Iw7qseluR-7K...|2016-08-12 21:59:03|xpxWG7jQXZE6BcSeu...|mw_qxZJraNu7Q6u0G...|  5.0|This is a five-st...|               0|          False|\n",
      "|egHMQBhFeaLhVyC6w...|2015-10-04 05:37:01|HvpNr0ohHCaVLp014...|gGvNgShksetPoimyK...|  4.0|Quickly stopped i...|               0|          False|\n",
      "|LBJJWJ0uNlIybMfPn...|2014-02-05 21:09:05|bUHweiErUJ36WGeNr...|6Hm2FmfLcU_M91TrZ...|  5.0|I loved everythin...|              11|           True|\n",
      "|ucFOnqgaV40oQ2YNy...|2018-03-03 23:45:25|JHXQEayrDHOWGexs0...|KXCXaF5qimmtKKqnP...|  1.0|Great coffee and ...|               0|          False|\n",
      "|btNWW2kdJYfwpTDyz...|2012-12-04 04:29:47|DECuRZwkUw8ELQZfN...|zmZ3HkVCeZPBefJJx...|  4.0|Nothing special b...|               0|          False|\n",
      "|3c4LFWiVUHPDQzAd8...|2013-08-15 14:47:40|jySmPCkEkJR3cWJlk...|ZW7aI5FO_3q_vSzI4...|  5.0|Definitely 5 star...|              11|           True|\n",
      "+--------------------+-------------------+--------------------+--------------------+-----+--------------------+----------------+---------------+\n",
      "only showing top 20 rows\n",
      "\n"
     ]
    }
   ],
   "source": [
    "df_review_final.show(20)"
   ]
  },
  {
   "cell_type": "code",
   "execution_count": 43,
   "metadata": {},
   "outputs": [],
   "source": [
    "# df_review_final.coalesce(1).write.csv(\"review_post_etl.csv\", header=True)"
   ]
  },
  {
   "cell_type": "markdown",
   "metadata": {},
   "source": [
    "### Combining Data Tables"
   ]
  },
  {
   "cell_type": "markdown",
   "metadata": {},
   "source": [
    "#### Create Temp Tables"
   ]
  },
  {
   "cell_type": "code",
   "execution_count": 44,
   "metadata": {},
   "outputs": [],
   "source": [
    "df_checkin_final.createOrReplaceTempView(\"df_checkin_final\")\n",
    "df_user_final.createOrReplaceTempView(\"df_user_final\")\n",
    "df_business_final.createOrReplaceTempView(\"df_business_final\")\n",
    "df_review_final.createOrReplaceTempView(\"df_review_final\")"
   ]
  },
  {
   "cell_type": "code",
   "execution_count": 45,
   "metadata": {},
   "outputs": [],
   "source": [
    "all_data = spark.sql('''\n",
    "                         SELECT r.review_id,\n",
    "                             r.user_id,\n",
    "                             r.business_id,\n",
    "                             b.latitude AS biz_latitude,\n",
    "                             b.longitude AS biz_longitude,\n",
    "                             b.postal_code AS biz_postal_code,\n",
    "                             b.state AS biz_state,\n",
    "                             b.stars AS biz_avg_stars,\n",
    "                             b.review_count AS biz_review_count,\n",
    "                             c.num_checkins AS biz_checkin_count,\n",
    "                             c.checkin_min AS biz_min_checkin_date,\n",
    "                             c.checkin_max AS biz_max_checkin_date,\n",
    "                             u.yelping_since AS user_yelping_since,\n",
    "                             u.elite_count AS user_elite_count,\n",
    "                             u.elite_min AS user_elite_min,\n",
    "                             u.elite_max AS user_elite_max,\n",
    "                             u.average_stars AS user_avg_stars,\n",
    "                             u.review_count AS user_review_count,\n",
    "                             u.fans AS user_fan_count,\n",
    "                             u.friend_count AS user_friend_count,\n",
    "                             u.compliments AS user_compliment_count,\n",
    "                             u.ufc_count AS user_ufc_count,\n",
    "                             r.review_date AS review_date,\n",
    "                             r.stars AS review_stars,\n",
    "                             r.text AS review_text,\n",
    "                             r.ufc_count_target AS target_ufc_count,\n",
    "                             r.ufc_bool_target AS target_ufc_bool\n",
    "                         FROM df_review_final AS r\n",
    "                         LEFT JOIN df_user_final AS u\n",
    "                         ON r.user_id = u.user_id\n",
    "                         LEFT JOIN df_business_final AS b\n",
    "                         ON r.business_id = b.business_id\n",
    "                         LEFT JOIN df_checkin_final AS c\n",
    "                         ON r.business_id = c.business_id\n",
    "                     ''')"
   ]
  },
  {
   "cell_type": "code",
   "execution_count": 46,
   "metadata": {},
   "outputs": [
    {
     "name": "stdout",
     "output_type": "stream",
     "text": [
      "root\n",
      " |-- review_id: string (nullable = true)\n",
      " |-- user_id: string (nullable = true)\n",
      " |-- business_id: string (nullable = true)\n",
      " |-- biz_latitude: double (nullable = true)\n",
      " |-- biz_longitude: double (nullable = true)\n",
      " |-- biz_postal_code: string (nullable = true)\n",
      " |-- biz_state: string (nullable = true)\n",
      " |-- biz_avg_stars: double (nullable = true)\n",
      " |-- biz_review_count: long (nullable = true)\n",
      " |-- biz_checkin_count: integer (nullable = true)\n",
      " |-- biz_min_checkin_date: timestamp (nullable = true)\n",
      " |-- biz_max_checkin_date: timestamp (nullable = true)\n",
      " |-- user_yelping_since: timestamp (nullable = true)\n",
      " |-- user_elite_count: integer (nullable = true)\n",
      " |-- user_elite_min: integer (nullable = true)\n",
      " |-- user_elite_max: integer (nullable = true)\n",
      " |-- user_avg_stars: double (nullable = true)\n",
      " |-- user_review_count: long (nullable = true)\n",
      " |-- user_fan_count: long (nullable = true)\n",
      " |-- user_friend_count: integer (nullable = true)\n",
      " |-- user_compliment_count: long (nullable = true)\n",
      " |-- user_ufc_count: long (nullable = true)\n",
      " |-- review_date: timestamp (nullable = true)\n",
      " |-- review_stars: double (nullable = true)\n",
      " |-- review_text: string (nullable = true)\n",
      " |-- target_ufc_count: long (nullable = true)\n",
      " |-- target_ufc_bool: string (nullable = false)\n",
      "\n"
     ]
    }
   ],
   "source": [
    "all_data.printSchema()"
   ]
  },
  {
   "cell_type": "code",
   "execution_count": 47,
   "metadata": {},
   "outputs": [
    {
     "data": {
      "text/plain": [
       "8635403"
      ]
     },
     "execution_count": 47,
     "metadata": {},
     "output_type": "execute_result"
    }
   ],
   "source": [
    "all_data.count()"
   ]
  },
  {
   "cell_type": "code",
   "execution_count": 48,
   "metadata": {},
   "outputs": [
    {
     "name": "stdout",
     "output_type": "stream",
     "text": [
      "+--------------------+--------------------+--------------------+------------+-------------+---------------+---------+-------------+----------------+-----------------+--------------------+--------------------+-------------------+----------------+--------------+--------------+--------------+-----------------+--------------+-----------------+---------------------+--------------+-------------------+------------+--------------------+----------------+---------------+\n",
      "|           review_id|             user_id|         business_id|biz_latitude|biz_longitude|biz_postal_code|biz_state|biz_avg_stars|biz_review_count|biz_checkin_count|biz_min_checkin_date|biz_max_checkin_date| user_yelping_since|user_elite_count|user_elite_min|user_elite_max|user_avg_stars|user_review_count|user_fan_count|user_friend_count|user_compliment_count|user_ufc_count|        review_date|review_stars|         review_text|target_ufc_count|target_ufc_bool|\n",
      "+--------------------+--------------------+--------------------+------------+-------------+---------------+---------+-------------+----------------+-----------------+--------------------+--------------------+-------------------+----------------+--------------+--------------+--------------+-----------------+--------------+-----------------+---------------------+--------------+-------------------+------------+--------------------+----------------+---------------+\n",
      "|8u57Miw3BXhwKRf6A...|ofyOSbE04KsDt7e9T...|-36nnCT71XE0InJXK...|  45.6412317| -122.5571137|          98684|       WA|          2.0|              28|              319| 2010-09-27 22:07:06| 2020-11-08 17:48:14|2011-05-31 02:30:33|               0|             0|             0|          4.04|               26|             0|                1|                    3|            44|2019-03-16 00:26:30|         1.0|Deli refuses to l...|               0|          False|\n",
      "|k4-m65kRrLkRR1YU-...|oLd1zN3dy5cmPCCnd...|-36nnCT71XE0InJXK...|  45.6412317| -122.5571137|          98684|       WA|          2.0|              28|              319| 2010-09-27 22:07:06| 2020-11-08 17:48:14|2013-04-24 04:05:55|               3|          2015|          2017|          3.72|              186|             9|              109|                  110|           776|2020-07-06 20:10:39|         2.0|They keep it clea...|               1|           True|\n",
      "|YFlgwm1WqI-bxpe7g...|Xg7RVVk9zNXTXyvCZ...|-36nnCT71XE0InJXK...|  45.6412317| -122.5571137|          98684|       WA|          2.0|              28|              319| 2010-09-27 22:07:06| 2020-11-08 17:48:14|2010-08-04 15:33:26|               0|             0|             0|          2.58|               36|             1|                1|                    6|            73|2017-02-14 17:11:55|         1.0|Customer service ...|               0|          False|\n",
      "|j5seBC5B7KRRkCmFU...|Hi_DpLJZIzCEARnK2...|-36nnCT71XE0InJXK...|  45.6412317| -122.5571137|          98684|       WA|          2.0|              28|              319| 2010-09-27 22:07:06| 2020-11-08 17:48:14|2017-10-23 21:20:18|               0|             0|             0|          4.67|                3|             0|                1|                    0|             0|2018-06-28 23:06:32|         4.0|I wasn't going to...|               0|          False|\n",
      "|l0VvXStxwvbp-CkIY...|6E4iiEkZFGEVIo_Wh...|-36nnCT71XE0InJXK...|  45.6412317| -122.5571137|          98684|       WA|          2.0|              28|              319| 2010-09-27 22:07:06| 2020-11-08 17:48:14|2017-01-10 21:00:49|               0|             0|             0|          1.42|               10|             0|                1|                    0|             9|2018-07-30 12:50:13|         2.0|This store is clo...|               0|          False|\n",
      "+--------------------+--------------------+--------------------+------------+-------------+---------------+---------+-------------+----------------+-----------------+--------------------+--------------------+-------------------+----------------+--------------+--------------+--------------+-----------------+--------------+-----------------+---------------------+--------------+-------------------+------------+--------------------+----------------+---------------+\n",
      "only showing top 5 rows\n",
      "\n"
     ]
    }
   ],
   "source": [
    "all_data.show(5)"
   ]
  },
  {
   "cell_type": "markdown",
   "metadata": {},
   "source": [
    "## Save All Data"
   ]
  },
  {
   "cell_type": "code",
   "execution_count": 49,
   "metadata": {},
   "outputs": [],
   "source": [
    "# all_data.coalesce(1).write.csv(\"all_data.csv\", header=True, sep=',')"
   ]
  },
  {
   "cell_type": "code",
   "execution_count": 50,
   "metadata": {},
   "outputs": [],
   "source": [
    "# all_data.coalesce(1).write.json(path='all_data.json')"
   ]
  },
  {
   "cell_type": "markdown",
   "metadata": {},
   "source": [
    "## Split Data"
   ]
  },
  {
   "cell_type": "code",
   "execution_count": 51,
   "metadata": {},
   "outputs": [],
   "source": [
    "all_data.createOrReplaceTempView(\"all_data\")"
   ]
  },
  {
   "cell_type": "markdown",
   "metadata": {},
   "source": [
    "### Split Data Into Train, Test and Holdout Sets"
   ]
  },
  {
   "cell_type": "code",
   "execution_count": 52,
   "metadata": {},
   "outputs": [],
   "source": [
    "working_data, holdout_data = all_data.randomSplit([0.8, 0.2], seed=12345)"
   ]
  },
  {
   "cell_type": "code",
   "execution_count": 53,
   "metadata": {},
   "outputs": [
    {
     "data": {
      "text/plain": [
       "6906371"
      ]
     },
     "execution_count": 53,
     "metadata": {},
     "output_type": "execute_result"
    }
   ],
   "source": [
    "working_data.count()"
   ]
  },
  {
   "cell_type": "code",
   "execution_count": 54,
   "metadata": {},
   "outputs": [
    {
     "data": {
      "text/plain": [
       "1729032"
      ]
     },
     "execution_count": 54,
     "metadata": {},
     "output_type": "execute_result"
    }
   ],
   "source": [
    "holdout_data.count()"
   ]
  },
  {
   "cell_type": "code",
   "execution_count": 55,
   "metadata": {},
   "outputs": [],
   "source": [
    "train_data, test_data = working_data.randomSplit([0.8, 0.2], seed=12345)"
   ]
  },
  {
   "cell_type": "code",
   "execution_count": 56,
   "metadata": {},
   "outputs": [
    {
     "data": {
      "text/plain": [
       "5523992"
      ]
     },
     "execution_count": 56,
     "metadata": {},
     "output_type": "execute_result"
    }
   ],
   "source": [
    "train_data.count()"
   ]
  },
  {
   "cell_type": "code",
   "execution_count": 57,
   "metadata": {},
   "outputs": [
    {
     "data": {
      "text/plain": [
       "1382379"
      ]
     },
     "execution_count": 57,
     "metadata": {},
     "output_type": "execute_result"
    }
   ],
   "source": [
    "test_data.count()"
   ]
  },
  {
   "cell_type": "markdown",
   "metadata": {},
   "source": [
    "### Split Data Into Text and Non-Text"
   ]
  },
  {
   "cell_type": "code",
   "execution_count": 58,
   "metadata": {},
   "outputs": [],
   "source": [
    "train_data.createOrReplaceTempView(\"train_data\")\n",
    "test_data.createOrReplaceTempView(\"test_data\")"
   ]
  },
  {
   "cell_type": "code",
   "execution_count": 59,
   "metadata": {},
   "outputs": [],
   "source": [
    "text_data_train = spark.sql('''\n",
    "                               SELECT review_id,\n",
    "                                   review_stars,\n",
    "                                   review_text,\n",
    "                                   target_ufc_bool,\n",
    "                                   target_ufc_count\n",
    "                               FROM train_data\n",
    "                            ''')\n",
    "\n",
    "text_data_test = spark.sql('''\n",
    "                              SELECT review_id,\n",
    "                                  review_stars,\n",
    "                                  review_text,\n",
    "                                  target_ufc_bool,\n",
    "                                  target_ufc_count\n",
    "                              FROM test_data\n",
    "                           ''')"
   ]
  },
  {
   "cell_type": "code",
   "execution_count": 60,
   "metadata": {},
   "outputs": [
    {
     "name": "stdout",
     "output_type": "stream",
     "text": [
      "root\n",
      " |-- review_id: string (nullable = true)\n",
      " |-- review_stars: double (nullable = true)\n",
      " |-- review_text: string (nullable = true)\n",
      " |-- target_ufc_bool: string (nullable = false)\n",
      " |-- target_ufc_count: long (nullable = true)\n",
      "\n"
     ]
    }
   ],
   "source": [
    "text_data_train.printSchema()"
   ]
  },
  {
   "cell_type": "code",
   "execution_count": 61,
   "metadata": {},
   "outputs": [
    {
     "name": "stdout",
     "output_type": "stream",
     "text": [
      "root\n",
      " |-- review_id: string (nullable = true)\n",
      " |-- review_stars: double (nullable = true)\n",
      " |-- review_text: string (nullable = true)\n",
      " |-- target_ufc_bool: string (nullable = false)\n",
      " |-- target_ufc_count: long (nullable = true)\n",
      "\n"
     ]
    }
   ],
   "source": [
    "text_data_test.printSchema()"
   ]
  },
  {
   "cell_type": "code",
   "execution_count": 62,
   "metadata": {},
   "outputs": [
    {
     "name": "stdout",
     "output_type": "stream",
     "text": [
      "Text Train Records: 5523992\n",
      "Text Test Records: 1382379\n"
     ]
    }
   ],
   "source": [
    "print(f'Text Train Records: {text_data_train.count()}')\n",
    "print(f'Text Test Records: {text_data_test.count()}')"
   ]
  },
  {
   "cell_type": "code",
   "execution_count": 63,
   "metadata": {},
   "outputs": [
    {
     "name": "stdout",
     "output_type": "stream",
     "text": [
      "+--------------------+------------+--------------------+---------------+----------------+\n",
      "|           review_id|review_stars|         review_text|target_ufc_bool|target_ufc_count|\n",
      "+--------------------+------------+--------------------+---------------+----------------+\n",
      "|---zlFD4Kgfatr0Sb...|         4.0|Been looking for ...|          False|               0|\n",
      "|--BcxYRlOpG0v7nVQ...|         4.0|I visited Kyma la...|          False|               0|\n",
      "|--KO46TSxWzv32x00...|         5.0|It might be the m...|          False|               0|\n",
      "|--XNrIWxRUafMsGqz...|         5.0|Love this place! ...|           True|               1|\n",
      "|--aGgQu9HVva6F9fB...|         4.0|Great salad and c...|          False|               0|\n",
      "+--------------------+------------+--------------------+---------------+----------------+\n",
      "only showing top 5 rows\n",
      "\n"
     ]
    }
   ],
   "source": [
    "text_data_train.show(5)"
   ]
  },
  {
   "cell_type": "code",
   "execution_count": 64,
   "metadata": {},
   "outputs": [
    {
     "name": "stdout",
     "output_type": "stream",
     "text": [
      "+--------------------+------------+--------------------+---------------+----------------+\n",
      "|           review_id|review_stars|         review_text|target_ufc_bool|target_ufc_count|\n",
      "+--------------------+------------+--------------------+---------------+----------------+\n",
      "|--p3d1axlnA7ka_p6...|         5.0|Oh, we LOVE this ...|          False|               0|\n",
      "|-1v3W4XqQcIe44_I1...|         5.0|I didn't smell an...|           True|               5|\n",
      "|-21y2QEKfhjxh2alg...|         5.0|Wow this place is...|           True|               1|\n",
      "|-358vecdAUh6ECkNf...|         5.0|For a crepe, you ...|          False|               0|\n",
      "|-3_NmlYMibrapNEnS...|         5.0|I've visited Kyma...|           True|               1|\n",
      "+--------------------+------------+--------------------+---------------+----------------+\n",
      "only showing top 5 rows\n",
      "\n"
     ]
    }
   ],
   "source": [
    "text_data_test.show(5)"
   ]
  },
  {
   "cell_type": "code",
   "execution_count": 65,
   "metadata": {},
   "outputs": [],
   "source": [
    "non_text_data_train = spark.sql('''\n",
    "                                   SELECT review_id,\n",
    "                                       user_id,\n",
    "                                       business_id,\n",
    "                                       review_stars,\n",
    "                                       review_date,\n",
    "                                       biz_avg_stars,\n",
    "                                       biz_review_count,\n",
    "                                       biz_checkin_count,\n",
    "                                       biz_max_checkin_date,\n",
    "                                       biz_min_checkin_date,\n",
    "                                       biz_latitude,\n",
    "                                       biz_longitude,\n",
    "                                       biz_postal_code,\n",
    "                                       biz_state,\n",
    "                                       user_avg_stars,\n",
    "                                       user_review_count,\n",
    "                                       user_friend_count,\n",
    "                                       user_fan_count,\n",
    "                                       user_compliment_count,\n",
    "                                       user_elite_count,\n",
    "                                       user_elite_max,\n",
    "                                       user_elite_min,\n",
    "                                       user_yelping_since,\n",
    "                                       target_ufc_bool,\n",
    "                                       target_ufc_count\n",
    "                                   FROM train_data\n",
    "                               ''')\n",
    "\n",
    "non_text_data_test = spark.sql('''\n",
    "                                  SELECT review_id,\n",
    "                                      user_id,\n",
    "                                      business_id,\n",
    "                                      review_stars,\n",
    "                                      review_date,\n",
    "                                      biz_avg_stars,\n",
    "                                      biz_review_count,\n",
    "                                      biz_checkin_count,\n",
    "                                      biz_max_checkin_date,\n",
    "                                      biz_min_checkin_date,\n",
    "                                      biz_latitude,\n",
    "                                      biz_longitude,\n",
    "                                      biz_postal_code,\n",
    "                                      biz_state,\n",
    "                                      user_avg_stars,\n",
    "                                      user_review_count,\n",
    "                                      user_friend_count,\n",
    "                                      user_fan_count,\n",
    "                                      user_compliment_count,\n",
    "                                      user_elite_count,\n",
    "                                      user_elite_max,\n",
    "                                      user_elite_min,\n",
    "                                      user_yelping_since,\n",
    "                                      target_ufc_bool,\n",
    "                                      target_ufc_count\n",
    "                                  FROM test_data\n",
    "                               ''')"
   ]
  },
  {
   "cell_type": "code",
   "execution_count": 66,
   "metadata": {},
   "outputs": [
    {
     "name": "stdout",
     "output_type": "stream",
     "text": [
      "root\n",
      " |-- review_id: string (nullable = true)\n",
      " |-- user_id: string (nullable = true)\n",
      " |-- business_id: string (nullable = true)\n",
      " |-- review_stars: double (nullable = true)\n",
      " |-- review_date: timestamp (nullable = true)\n",
      " |-- biz_avg_stars: double (nullable = true)\n",
      " |-- biz_review_count: long (nullable = true)\n",
      " |-- biz_checkin_count: integer (nullable = true)\n",
      " |-- biz_max_checkin_date: timestamp (nullable = true)\n",
      " |-- biz_min_checkin_date: timestamp (nullable = true)\n",
      " |-- biz_latitude: double (nullable = true)\n",
      " |-- biz_longitude: double (nullable = true)\n",
      " |-- biz_postal_code: string (nullable = true)\n",
      " |-- biz_state: string (nullable = true)\n",
      " |-- user_avg_stars: double (nullable = true)\n",
      " |-- user_review_count: long (nullable = true)\n",
      " |-- user_friend_count: integer (nullable = true)\n",
      " |-- user_fan_count: long (nullable = true)\n",
      " |-- user_compliment_count: long (nullable = true)\n",
      " |-- user_elite_count: integer (nullable = true)\n",
      " |-- user_elite_max: integer (nullable = true)\n",
      " |-- user_elite_min: integer (nullable = true)\n",
      " |-- user_yelping_since: timestamp (nullable = true)\n",
      " |-- target_ufc_bool: string (nullable = false)\n",
      " |-- target_ufc_count: long (nullable = true)\n",
      "\n"
     ]
    }
   ],
   "source": [
    "non_text_data_train.printSchema()"
   ]
  },
  {
   "cell_type": "code",
   "execution_count": 67,
   "metadata": {},
   "outputs": [
    {
     "name": "stdout",
     "output_type": "stream",
     "text": [
      "root\n",
      " |-- review_id: string (nullable = true)\n",
      " |-- user_id: string (nullable = true)\n",
      " |-- business_id: string (nullable = true)\n",
      " |-- review_stars: double (nullable = true)\n",
      " |-- review_date: timestamp (nullable = true)\n",
      " |-- biz_avg_stars: double (nullable = true)\n",
      " |-- biz_review_count: long (nullable = true)\n",
      " |-- biz_checkin_count: integer (nullable = true)\n",
      " |-- biz_max_checkin_date: timestamp (nullable = true)\n",
      " |-- biz_min_checkin_date: timestamp (nullable = true)\n",
      " |-- biz_latitude: double (nullable = true)\n",
      " |-- biz_longitude: double (nullable = true)\n",
      " |-- biz_postal_code: string (nullable = true)\n",
      " |-- biz_state: string (nullable = true)\n",
      " |-- user_avg_stars: double (nullable = true)\n",
      " |-- user_review_count: long (nullable = true)\n",
      " |-- user_friend_count: integer (nullable = true)\n",
      " |-- user_fan_count: long (nullable = true)\n",
      " |-- user_compliment_count: long (nullable = true)\n",
      " |-- user_elite_count: integer (nullable = true)\n",
      " |-- user_elite_max: integer (nullable = true)\n",
      " |-- user_elite_min: integer (nullable = true)\n",
      " |-- user_yelping_since: timestamp (nullable = true)\n",
      " |-- target_ufc_bool: string (nullable = false)\n",
      " |-- target_ufc_count: long (nullable = true)\n",
      "\n"
     ]
    }
   ],
   "source": [
    "non_text_data_test.printSchema()"
   ]
  },
  {
   "cell_type": "code",
   "execution_count": 68,
   "metadata": {},
   "outputs": [
    {
     "name": "stdout",
     "output_type": "stream",
     "text": [
      "+--------------------+--------------------+--------------------+------------+-------------------+-------------+----------------+-----------------+--------------------+--------------------+------------+-------------+---------------+---------+--------------+-----------------+-----------------+--------------+---------------------+----------------+--------------+--------------+-------------------+---------------+----------------+\n",
      "|           review_id|             user_id|         business_id|review_stars|        review_date|biz_avg_stars|biz_review_count|biz_checkin_count|biz_max_checkin_date|biz_min_checkin_date|biz_latitude|biz_longitude|biz_postal_code|biz_state|user_avg_stars|user_review_count|user_friend_count|user_fan_count|user_compliment_count|user_elite_count|user_elite_max|user_elite_min| user_yelping_since|target_ufc_bool|target_ufc_count|\n",
      "+--------------------+--------------------+--------------------+------------+-------------------+-------------+----------------+-----------------+--------------------+--------------------+------------+-------------+---------------+---------+--------------+-----------------+-----------------+--------------+---------------------+----------------+--------------+--------------+-------------------+---------------+----------------+\n",
      "|---zlFD4Kgfatr0Sb...|kd_hsNZB3ttsO_9H6...|dcAzi-fNs05qLl3lw...|         4.0|2015-11-11 00:35:10|          3.0|              53|               29| 2019-01-01 21:05:15| 2011-10-14 23:21:16|   42.482079|    -71.15087|          01801|       MA|          3.14|                7|                1|             0|                    0|               0|             0|             0|2011-10-10 14:47:48|          False|               0|\n",
      "|--BcxYRlOpG0v7nVQ...|GEbIUEq5OldlOOniB...|3ZVgig7uux9jVtEZn...|         4.0|2011-08-03 23:46:06|          4.0|             508|              475| 2021-01-27 00:25:38| 2010-03-12 00:06:59|  33.8398553|  -84.3690321|          30305|       GA|          4.49|               46|                1|             1|                    6|               0|             0|             0|2010-03-09 00:08:19|          False|               0|\n",
      "|--KO46TSxWzv32x00...|qF8-sF2ryy8rXrIjN...|WqwJZaa7l1joH8yZU...|         5.0|2016-06-01 17:40:12|          4.0|             451|              958| 2020-12-12 01:39:07| 2015-03-26 15:45:53|  42.3497511|  -71.0828095|          02116|       MA|           3.6|               10|               12|             0|                    1|               0|             0|             0|2011-10-29 20:25:33|          False|               0|\n",
      "|--XNrIWxRUafMsGqz...|NliD9btN5UUfz9ejm...|uoxktGnhWOwumm37u...|         5.0|2014-02-13 01:57:17|          4.5|               7|                4| 2018-03-10 17:18:16| 2016-01-23 19:23:02|  28.2477632|   -81.283401|          34769|       FL|          4.42|               25|                6|             0|                    0|               0|             0|             0|2013-12-17 17:26:50|           True|               1|\n",
      "|--aGgQu9HVva6F9fB...|st1Whr_zLkrwO4EjZ...|9tkitxG3oc4xcP81-...|         4.0|2014-03-16 04:26:02|          2.5|              61|              589| 2020-11-06 22:11:29| 2012-10-14 23:32:12|  28.4920498|  -81.5089948|          32819|       FL|           3.2|               20|                9|             0|                    0|               0|             0|             0|2014-03-15 23:55:24|          False|               0|\n",
      "+--------------------+--------------------+--------------------+------------+-------------------+-------------+----------------+-----------------+--------------------+--------------------+------------+-------------+---------------+---------+--------------+-----------------+-----------------+--------------+---------------------+----------------+--------------+--------------+-------------------+---------------+----------------+\n",
      "only showing top 5 rows\n",
      "\n"
     ]
    }
   ],
   "source": [
    "non_text_data_train.show(5)"
   ]
  },
  {
   "cell_type": "code",
   "execution_count": 69,
   "metadata": {},
   "outputs": [
    {
     "name": "stdout",
     "output_type": "stream",
     "text": [
      "+--------------------+--------------------+--------------------+------------+-------------------+-------------+----------------+-----------------+--------------------+--------------------+------------+-------------+---------------+---------+--------------+-----------------+-----------------+--------------+---------------------+----------------+--------------+--------------+-------------------+---------------+----------------+\n",
      "|           review_id|             user_id|         business_id|review_stars|        review_date|biz_avg_stars|biz_review_count|biz_checkin_count|biz_max_checkin_date|biz_min_checkin_date|biz_latitude|biz_longitude|biz_postal_code|biz_state|user_avg_stars|user_review_count|user_friend_count|user_fan_count|user_compliment_count|user_elite_count|user_elite_max|user_elite_min| user_yelping_since|target_ufc_bool|target_ufc_count|\n",
      "+--------------------+--------------------+--------------------+------------+-------------------+-------------+----------------+-----------------+--------------------+--------------------+------------+-------------+---------------+---------+--------------+-----------------+-----------------+--------------+---------------------+----------------+--------------+--------------+-------------------+---------------+----------------+\n",
      "|--p3d1axlnA7ka_p6...|RrNeDDTs6f45lNy5c...|PBfFmFy8C0WOtpHF_...|         5.0|2011-08-01 00:25:39|          4.5|             662|             2219| 2020-12-09 19:21:26| 2010-01-27 16:03:08|   30.241217|  -97.7582442|          78704|       TX|          3.43|               97|                4|             3|                   11|               2|          2020|          2019|2009-08-19 02:04:01|          False|               0|\n",
      "|-1v3W4XqQcIe44_I1...|q_3xGtV1nF3bUByYQ...|OztN9An_uaa38MZZ2...|         5.0|2016-05-15 16:42:45|          3.0|             223|              221| 2020-12-19 17:07:41| 2016-05-13 23:21:33|    42.34979|   -71.082729|          02116|       MA|           5.0|                5|                1|             1|                    0|               0|             0|             0|2016-04-01 14:36:09|           True|               5|\n",
      "|-21y2QEKfhjxh2alg...|MHUF-IVsDM54dF4U0...|Nqy2tJV3AGqW9Uil-...|         5.0|2015-02-24 21:34:42|          4.0|             618|             5183| 2021-01-16 03:17:24| 2014-06-08 03:29:11|  45.5258341| -122.6860839|          97209|       OR|          4.65|               47|               56|             4|                   15|               0|             0|             0|2014-08-02 20:27:44|           True|               1|\n",
      "|-358vecdAUh6ECkNf...|sWKUzqWSe9Tuj0w2D...|WqwJZaa7l1joH8yZU...|         5.0|2019-10-12 05:25:56|          4.0|             451|              958| 2020-12-12 01:39:07| 2015-03-26 15:45:53|  42.3497511|  -71.0828095|          02116|       MA|          4.17|                5|                1|             0|                    0|               0|             0|             0|2015-04-02 15:03:20|          False|               0|\n",
      "|-3_NmlYMibrapNEnS...|u0ZqqVRfwFYVlDdfA...|3ZVgig7uux9jVtEZn...|         5.0|2010-06-29 14:29:56|          4.0|             508|              475| 2021-01-27 00:25:38| 2010-03-12 00:06:59|  33.8398553|  -84.3690321|          30305|       GA|           3.4|                5|               15|             2|                    5|               0|             0|             0|2009-01-13 22:55:28|           True|               1|\n",
      "+--------------------+--------------------+--------------------+------------+-------------------+-------------+----------------+-----------------+--------------------+--------------------+------------+-------------+---------------+---------+--------------+-----------------+-----------------+--------------+---------------------+----------------+--------------+--------------+-------------------+---------------+----------------+\n",
      "only showing top 5 rows\n",
      "\n"
     ]
    }
   ],
   "source": [
    "non_text_data_test.show(5)"
   ]
  },
  {
   "cell_type": "code",
   "execution_count": 70,
   "metadata": {},
   "outputs": [
    {
     "name": "stdout",
     "output_type": "stream",
     "text": [
      "Non-Text Train Records: 5523992\n",
      "Non-Text Test Records: 1382379\n"
     ]
    }
   ],
   "source": [
    "print(f'Non-Text Train Records: {non_text_data_train.count()}')\n",
    "print(f'Non-Text Test Records: {non_text_data_test.count()}')"
   ]
  },
  {
   "cell_type": "markdown",
   "metadata": {},
   "source": [
    "## Save Split Data"
   ]
  },
  {
   "cell_type": "markdown",
   "metadata": {},
   "source": [
    "### To File"
   ]
  },
  {
   "cell_type": "code",
   "execution_count": 71,
   "metadata": {},
   "outputs": [],
   "source": [
    "# text_data_train.coalesce(1).write.json(path='text_data_train.json')\n",
    "# text_data_test.coalesce(1).write.json(path='text_data_test.json')"
   ]
  },
  {
   "cell_type": "code",
   "execution_count": 72,
   "metadata": {},
   "outputs": [],
   "source": [
    "# non_text_data_train.coalesce(1).write.csv(path='non_text_data_train.csv', header=True, sep=',')\n",
    "# non_text_data_test.coalesce(1).write.csv(path='non_text_data_test.csv', header=True, sep=',')"
   ]
  },
  {
   "cell_type": "code",
   "execution_count": 73,
   "metadata": {},
   "outputs": [],
   "source": [
    "# holdout_data.coalesce(1).write.json(path='holdout_data.json')"
   ]
  },
  {
   "cell_type": "markdown",
   "metadata": {},
   "source": [
    "### To AWS RDS"
   ]
  },
  {
   "cell_type": "code",
   "execution_count": 74,
   "metadata": {},
   "outputs": [],
   "source": [
    "db_endpoint = None\n",
    "db_name = None\n",
    "db_password = None\n",
    "\n",
    "db_properties = {\n",
    "    \"user\": \"postgres\",\n",
    "    \"password\": db_password,\n",
    "    \"driver\": \"org.postgresql.Driver\"\n",
    "}\n",
    "\n",
    "db_url = f'jdbc:postgresql://{db_endpoint}/{db_name}'"
   ]
  },
  {
   "cell_type": "code",
   "execution_count": 75,
   "metadata": {},
   "outputs": [],
   "source": [
    "# text_data_train.write.jdbc(url=db_url,table='text_data_train',mode='overwrite',properties=db_properties)\n",
    "# text_data_test.write.jdbc(url=db_url,table='text_data_test',mode='overwrite',properties=db_properties)"
   ]
  },
  {
   "cell_type": "code",
   "execution_count": 76,
   "metadata": {},
   "outputs": [],
   "source": [
    "# non_text_data_train.write.jdbc(url=db_url,table='non_text_data_train',mode='overwrite',properties=db_properties)\n",
    "# non_text_data_test.write.jdbc(url=db_url,table='non_text_data_test',mode='overwrite',properties=db_properties)"
   ]
  },
  {
   "cell_type": "code",
   "execution_count": 77,
   "metadata": {},
   "outputs": [],
   "source": [
    "# holdout_data.write.jdbc(url=db_url,table='holdout_data',mode='overwrite',properties=db_properties)"
   ]
  }
 ],
 "metadata": {
  "kernelspec": {
   "display_name": "Python 3",
   "language": "python",
   "name": "python3"
  },
  "language_info": {
   "codemirror_mode": {
    "name": "ipython",
    "version": 3
   },
   "file_extension": ".py",
   "mimetype": "text/x-python",
   "name": "python",
   "nbconvert_exporter": "python",
   "pygments_lexer": "ipython3",
   "version": "3.7.7"
  }
 },
 "nbformat": 4,
 "nbformat_minor": 4
}
