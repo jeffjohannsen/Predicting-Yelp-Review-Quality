{
 "cells": [
  {
   "cell_type": "markdown",
   "metadata": {},
   "source": [
    "# Text Processing - Yelp 2021 - Part 1"
   ]
  },
  {
   "cell_type": "markdown",
   "metadata": {},
   "source": [
    "This notebook covers:\n",
    "* Basic Text Characteristics\n",
    "* Text Reading Level\n",
    "* Text Sentiment"
   ]
  },
  {
   "cell_type": "markdown",
   "metadata": {},
   "source": [
    "### Setting Up Spark"
   ]
  },
  {
   "cell_type": "code",
   "execution_count": 1,
   "metadata": {},
   "outputs": [],
   "source": [
    "import pyspark as ps\n",
    "from pyspark.sql import functions as F\n",
    "from pyspark.sql.types import *\n",
    "\n",
    "import textstat\n",
    "from textblob import TextBlob"
   ]
  },
  {
   "cell_type": "code",
   "execution_count": 2,
   "metadata": {},
   "outputs": [],
   "source": [
    "spark = (ps.sql.SparkSession.builder\n",
    "        .appName(\"NLP_2.1\")\n",
    "        .config(\"spark.driver.extraClassPath\", \"/home/jovyan/postgresql-42.2.20.jar\")\n",
    "        .config('spark.driver.memory','8G')\n",
    "        .master('local[3]')\n",
    "        .getOrCreate()\n",
    "        )\n",
    "\n",
    "sc = spark.sparkContext"
   ]
  },
  {
   "cell_type": "code",
   "execution_count": 3,
   "metadata": {},
   "outputs": [
    {
     "data": {
      "text/html": [
       "\n",
       "            <div>\n",
       "                <p><b>SparkSession - in-memory</b></p>\n",
       "                \n",
       "        <div>\n",
       "            <p><b>SparkContext</b></p>\n",
       "\n",
       "            <p><a href=\"http://ea88de276ecc:4040\">Spark UI</a></p>\n",
       "\n",
       "            <dl>\n",
       "              <dt>Version</dt>\n",
       "                <dd><code>v3.0.1</code></dd>\n",
       "              <dt>Master</dt>\n",
       "                <dd><code>local[3]</code></dd>\n",
       "              <dt>AppName</dt>\n",
       "                <dd><code>NLP_2.1</code></dd>\n",
       "            </dl>\n",
       "        </div>\n",
       "        \n",
       "            </div>\n",
       "        "
      ],
      "text/plain": [
       "<pyspark.sql.session.SparkSession at 0x7ff73707c460>"
      ]
     },
     "execution_count": 3,
     "metadata": {},
     "output_type": "execute_result"
    }
   ],
   "source": [
    "spark"
   ]
  },
  {
   "cell_type": "markdown",
   "metadata": {},
   "source": [
    "### Connecting To Data"
   ]
  },
  {
   "cell_type": "code",
   "execution_count": 4,
   "metadata": {},
   "outputs": [],
   "source": [
    "db_endpoint = None\n",
    "db_name = None\n",
    "db_password = None\n",
    "\n",
    "db_properties = {\n",
    "    \"user\": \"postgres\",\n",
    "    \"password\": db_password,\n",
    "    \"driver\": \"org.postgresql.Driver\"\n",
    "}\n",
    "\n",
    "db_url = f'jdbc:postgresql://{db_endpoint}/{db_name}'"
   ]
  },
  {
   "cell_type": "code",
   "execution_count": 5,
   "metadata": {},
   "outputs": [],
   "source": [
    "train = spark.read.jdbc(url=db_url,table='text_data_train',properties=db_properties)"
   ]
  },
  {
   "cell_type": "code",
   "execution_count": 6,
   "metadata": {},
   "outputs": [],
   "source": [
    "test = spark.read.jdbc(url=db_url,table='text_data_test',properties=db_properties)"
   ]
  },
  {
   "cell_type": "code",
   "execution_count": 7,
   "metadata": {},
   "outputs": [],
   "source": [
    "train.createOrReplaceTempView(\"train\")\n",
    "test.createOrReplaceTempView(\"test\")"
   ]
  },
  {
   "cell_type": "markdown",
   "metadata": {},
   "source": [
    "## Data Overview"
   ]
  },
  {
   "cell_type": "code",
   "execution_count": 8,
   "metadata": {},
   "outputs": [
    {
     "name": "stdout",
     "output_type": "stream",
     "text": [
      "root\n",
      " |-- review_id: string (nullable = true)\n",
      " |-- review_stars: double (nullable = true)\n",
      " |-- review_text: string (nullable = true)\n",
      " |-- target_ufc_bool: string (nullable = true)\n",
      " |-- target_ufc_count: long (nullable = true)\n",
      "\n"
     ]
    }
   ],
   "source": [
    "train.printSchema()"
   ]
  },
  {
   "cell_type": "code",
   "execution_count": 9,
   "metadata": {},
   "outputs": [
    {
     "name": "stdout",
     "output_type": "stream",
     "text": [
      "+--------------------+------------+--------------------+---------------+----------------+\n",
      "|           review_id|review_stars|         review_text|target_ufc_bool|target_ufc_count|\n",
      "+--------------------+------------+--------------------+---------------+----------------+\n",
      "|ajrHLNbs06pRlFcId...|         1.0|I was told by num...|          False|               0|\n",
      "|ak0gksy9n9mKmVN8U...|         4.0|I visited tonight...|          False|               0|\n",
      "|ak13mP9WRp2NViP5u...|         5.0|The lunch special...|          False|               0|\n",
      "|ak9YWfGs_1CNEufg1...|         4.0|Another coffee sh...|           True|               5|\n",
      "|akDkUx3DA1qTFN5Oi...|         5.0|If you like the u...|           True|               8|\n",
      "+--------------------+------------+--------------------+---------------+----------------+\n",
      "only showing top 5 rows\n",
      "\n"
     ]
    }
   ],
   "source": [
    "train.show(5)"
   ]
  },
  {
   "cell_type": "code",
   "execution_count": 10,
   "metadata": {},
   "outputs": [
    {
     "name": "stdout",
     "output_type": "stream",
     "text": [
      "Train Records: 5523992\n",
      "Test Records: 1382379\n"
     ]
    }
   ],
   "source": [
    "print(f'Train Records: {train.count()}')\n",
    "print(f'Test Records: {test.count()}')"
   ]
  },
  {
   "cell_type": "markdown",
   "metadata": {},
   "source": [
    "## Basic Text Characteristics"
   ]
  },
  {
   "cell_type": "markdown",
   "metadata": {},
   "source": [
    "### Feature Creation"
   ]
  },
  {
   "cell_type": "code",
   "execution_count": 20,
   "metadata": {},
   "outputs": [],
   "source": [
    "def avg_word(sentence):\n",
    "    words = sentence.split()\n",
    "    return (sum(len(word) for word in words)/len(words))"
   ]
  },
  {
   "cell_type": "code",
   "execution_count": 21,
   "metadata": {},
   "outputs": [],
   "source": [
    "train = (train.withColumn('word_count', F.udf(lambda x: len(str(x).split(\" \")), IntegerType())('review_text'))\n",
    "               .withColumn('character_count', F.udf(lambda x: len(x), IntegerType())('review_text'))\n",
    "               .withColumn('avg_word_length', F.udf(avg_word, FloatType())('review_text'))\n",
    "               .withColumn('num_count', F.udf(lambda x: len([x for x in x.split() if x.isdigit()]), IntegerType())('review_text'))\n",
    "               .withColumn('uppercase_count', F.udf(lambda x: len([x for x in x.split() if x.isupper()]), IntegerType())('review_text'))\n",
    "               .withColumn('#_@_count', F.udf(lambda x: len([x for x in x.split() if x.startswith('#') or x.startswith('@')]), IntegerType())('review_text'))\n",
    "               .withColumn('sentence_count', F.udf(textstat.sentence_count, IntegerType())('review_text'))\n",
    "               .withColumn('lexicon_count', F.udf(textstat.lexicon_count, IntegerType())('review_text'))\n",
    "               .withColumn('syllable_count', F.udf(textstat.syllable_count, IntegerType())('review_text')))"
   ]
  },
  {
   "cell_type": "code",
   "execution_count": 22,
   "metadata": {},
   "outputs": [],
   "source": [
    "test = (test.withColumn('word_count', F.udf(lambda x: len(str(x).split(\" \")), IntegerType())('review_text'))\n",
    "               .withColumn('character_count', F.udf(lambda x: len(x), IntegerType())('review_text'))\n",
    "               .withColumn('avg_word_length', F.udf(avg_word, FloatType())('review_text'))\n",
    "               .withColumn('num_count', F.udf(lambda x: len([x for x in x.split() if x.isdigit()]), IntegerType())('review_text'))\n",
    "               .withColumn('uppercase_count', F.udf(lambda x: len([x for x in x.split() if x.isupper()]), IntegerType())('review_text'))\n",
    "               .withColumn('#_@_count', F.udf(lambda x: len([x for x in x.split() if x.startswith('#') or x.startswith('@')]), IntegerType())('review_text'))\n",
    "               .withColumn('sentence_count', F.udf(textstat.sentence_count, IntegerType())('review_text'))\n",
    "               .withColumn('lexicon_count', F.udf(textstat.lexicon_count, IntegerType())('review_text'))\n",
    "               .withColumn('syllable_count', F.udf(textstat.syllable_count, IntegerType())('review_text')))"
   ]
  },
  {
   "cell_type": "markdown",
   "metadata": {},
   "source": [
    "## Reading Level"
   ]
  },
  {
   "cell_type": "code",
   "execution_count": 23,
   "metadata": {},
   "outputs": [],
   "source": [
    "train = train.withColumn('grade_level', F.udf(textstat.flesch_kincaid_grade, FloatType())('review_text'))\n",
    "test = test.withColumn('grade_level', F.udf(textstat.flesch_kincaid_grade, FloatType())('review_text'))"
   ]
  },
  {
   "cell_type": "markdown",
   "metadata": {},
   "source": [
    "## Sentiment Analysis"
   ]
  },
  {
   "cell_type": "code",
   "execution_count": 24,
   "metadata": {},
   "outputs": [],
   "source": [
    "train = (train.withColumn('polarity', F.udf(lambda x: TextBlob(x).sentiment.polarity, FloatType())('review_text'))\n",
    "         .withColumn('subjectivity', F.udf(lambda x: TextBlob(x).sentiment.subjectivity, FloatType())('review_text')))\n",
    "test = (test.withColumn('polarity', F.udf(lambda x: TextBlob(x).sentiment.polarity, FloatType())('review_text'))\n",
    "         .withColumn('subjectivity', F.udf(lambda x: TextBlob(x).sentiment.subjectivity, FloatType())('review_text')))"
   ]
  },
  {
   "cell_type": "code",
   "execution_count": 25,
   "metadata": {},
   "outputs": [
    {
     "name": "stdout",
     "output_type": "stream",
     "text": [
      "root\n",
      " |-- review_id: string (nullable = true)\n",
      " |-- review_stars: double (nullable = true)\n",
      " |-- review_text: string (nullable = true)\n",
      " |-- target_ufc_bool: string (nullable = true)\n",
      " |-- target_ufc_count: long (nullable = true)\n",
      " |-- word_count: integer (nullable = true)\n",
      " |-- character_count: integer (nullable = true)\n",
      " |-- avg_word_length: float (nullable = true)\n",
      " |-- num_count: integer (nullable = true)\n",
      " |-- uppercase_count: integer (nullable = true)\n",
      " |-- #_@_count: integer (nullable = true)\n",
      " |-- sentence_count: integer (nullable = true)\n",
      " |-- lexicon_count: integer (nullable = true)\n",
      " |-- syllable_count: integer (nullable = true)\n",
      " |-- grade_level: float (nullable = true)\n",
      " |-- polarity: float (nullable = true)\n",
      " |-- subjectivity: float (nullable = true)\n",
      "\n",
      "root\n",
      " |-- review_id: string (nullable = true)\n",
      " |-- review_stars: double (nullable = true)\n",
      " |-- review_text: string (nullable = true)\n",
      " |-- target_ufc_bool: string (nullable = true)\n",
      " |-- target_ufc_count: long (nullable = true)\n",
      " |-- word_count: integer (nullable = true)\n",
      " |-- character_count: integer (nullable = true)\n",
      " |-- avg_word_length: float (nullable = true)\n",
      " |-- num_count: integer (nullable = true)\n",
      " |-- uppercase_count: integer (nullable = true)\n",
      " |-- #_@_count: integer (nullable = true)\n",
      " |-- sentence_count: integer (nullable = true)\n",
      " |-- lexicon_count: integer (nullable = true)\n",
      " |-- syllable_count: integer (nullable = true)\n",
      " |-- grade_level: float (nullable = true)\n",
      " |-- polarity: float (nullable = true)\n",
      " |-- subjectivity: float (nullable = true)\n",
      "\n"
     ]
    }
   ],
   "source": [
    "train.printSchema()\n",
    "test.printSchema()"
   ]
  },
  {
   "cell_type": "code",
   "execution_count": 26,
   "metadata": {},
   "outputs": [
    {
     "name": "stdout",
     "output_type": "stream",
     "text": [
      "+--------------------+------------+--------------------+---------------+----------------+----------+---------------+---------------+---------+---------------+---------+--------------+-------------+--------------+-----------+-----------+------------+\n",
      "|           review_id|review_stars|         review_text|target_ufc_bool|target_ufc_count|word_count|character_count|avg_word_length|num_count|uppercase_count|#_@_count|sentence_count|lexicon_count|syllable_count|grade_level|   polarity|subjectivity|\n",
      "+--------------------+------------+--------------------+---------------+----------------+----------+---------------+---------------+---------+---------------+---------+--------------+-------------+--------------+-----------+-----------+------------+\n",
      "|ajrHLNbs06pRlFcId...|         1.0|I was told by num...|          False|               0|       131|            680|      4.1984735|        2|             11|        0|            11|          130|           173|        4.4|-0.14007936|  0.33055556|\n",
      "|ak0gksy9n9mKmVN8U...|         4.0|I visited tonight...|          False|               0|       124|            679|      4.5619836|        0|              4|        0|             4|          121|           170|       12.7|    0.34375|   0.5453125|\n",
      "|ak13mP9WRp2NViP5u...|         5.0|The lunch special...|          False|               0|        64|            319|            4.0|        0|              3|        0|             3|           61|            84|        8.8| 0.27433035|  0.49642858|\n",
      "|ak9YWfGs_1CNEufg1...|         4.0|Another coffee sh...|           True|               5|       125|            700|      4.7731094|        0|              0|        0|             1|          119|           174|       48.5| 0.07070857|  0.57131433|\n",
      "|akDkUx3DA1qTFN5Oi...|         5.0|If you like the u...|           True|               8|       335|           1655|       4.174051|        0|              2|        0|             1|          316|           413|      123.0| 0.05714886|  0.49384794|\n",
      "+--------------------+------------+--------------------+---------------+----------------+----------+---------------+---------------+---------+---------------+---------+--------------+-------------+--------------+-----------+-----------+------------+\n",
      "only showing top 5 rows\n",
      "\n"
     ]
    }
   ],
   "source": [
    "train.show(5)"
   ]
  },
  {
   "cell_type": "code",
   "execution_count": 27,
   "metadata": {},
   "outputs": [
    {
     "name": "stdout",
     "output_type": "stream",
     "text": [
      "+--------------------+------------+--------------------+---------------+----------------+----------+---------------+---------------+---------+---------------+---------+--------------+-------------+--------------+-----------+------------+------------+\n",
      "|           review_id|review_stars|         review_text|target_ufc_bool|target_ufc_count|word_count|character_count|avg_word_length|num_count|uppercase_count|#_@_count|sentence_count|lexicon_count|syllable_count|grade_level|    polarity|subjectivity|\n",
      "+--------------------+------------+--------------------+---------------+----------------+----------+---------------+---------------+---------+---------------+---------+--------------+-------------+--------------+-----------+------------+------------+\n",
      "|-19IRiVfPUFgTLS37...|         5.0|i love this place...|          False|               0|        60|            331|      4.5333333|        0|              0|        0|             1|           60|            79|       23.2|  0.51785713|  0.66071427|\n",
      "|-1FtQX89DVA2DgyAB...|         4.0|Went in the other...|           True|               1|        40|            223|      4.4390244|        0|              0|        0|             5|           41|            49|        1.8|-0.031111112|  0.27444443|\n",
      "|-1ey0iRcUI-_hHYaT...|         5.0|Okay, so this pla...|           True|               3|       168|            877|      4.2545457|        1|              7|        0|            11|          165|           219|        5.6|  0.43556547|   0.6560516|\n",
      "|-3N9uVVJ_ALUvx5oK...|         5.0|I had my car fixe...|          False|               0|        38|            190|       4.081081|        0|              3|        0|             2|           37|            49|        7.0|  0.36666667|  0.48333332|\n",
      "|-3QbjQoBMRkIlXA1F...|         4.0|A big ol' rectang...|           True|               2|       100|            486|       4.073684|        0|              4|        0|             1|           95|           124|       36.8|  0.05270202|  0.45722222|\n",
      "+--------------------+------------+--------------------+---------------+----------------+----------+---------------+---------------+---------+---------------+---------+--------------+-------------+--------------+-----------+------------+------------+\n",
      "only showing top 5 rows\n",
      "\n"
     ]
    }
   ],
   "source": [
    "test.show(5)"
   ]
  },
  {
   "cell_type": "markdown",
   "metadata": {},
   "source": [
    "## Save Data"
   ]
  },
  {
   "cell_type": "markdown",
   "metadata": {},
   "source": [
    "### To File"
   ]
  },
  {
   "cell_type": "code",
   "execution_count": 1,
   "metadata": {},
   "outputs": [],
   "source": [
    "# train.coalesce(1).write.json(path='train_b.json')"
   ]
  },
  {
   "cell_type": "markdown",
   "metadata": {},
   "source": [
    "### To AWS RDS"
   ]
  },
  {
   "cell_type": "code",
   "execution_count": 28,
   "metadata": {},
   "outputs": [],
   "source": [
    "# train.write.jdbc(url=db_url,table='text_data_train_b',mode='overwrite',properties=db_properties)\n",
    "# test.write.jdbc(url=db_url,table='text_data_test_b',mode='overwrite',properties=db_properties)"
   ]
  },
  {
   "cell_type": "code",
   "execution_count": null,
   "metadata": {},
   "outputs": [],
   "source": []
  }
 ],
 "metadata": {
  "kernelspec": {
   "display_name": "Python 3",
   "language": "python",
   "name": "python3"
  },
  "language_info": {
   "codemirror_mode": {
    "name": "ipython",
    "version": 3
   },
   "file_extension": ".py",
   "mimetype": "text/x-python",
   "name": "python",
   "nbconvert_exporter": "python",
   "pygments_lexer": "ipython3",
   "version": "3.7.7"
  }
 },
 "nbformat": 4,
 "nbformat_minor": 4
}
