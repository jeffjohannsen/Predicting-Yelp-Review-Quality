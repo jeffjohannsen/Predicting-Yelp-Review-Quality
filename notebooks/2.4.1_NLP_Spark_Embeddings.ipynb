{
 "cells": [
  {
   "cell_type": "markdown",
   "id": "ongoing-female",
   "metadata": {},
   "source": [
    "# Text Processing - Yelp 2021 - Part 4"
   ]
  },
  {
   "cell_type": "markdown",
   "id": "liberal-annotation",
   "metadata": {},
   "source": [
    "This notebook covers:\n",
    "* Word Embedding Models\n",
    "    * Word2Vec/GloVe\n",
    "    * Bert/Elmo\n",
    "    * Universal Sentence Encoder"
   ]
  },
  {
   "cell_type": "code",
   "execution_count": 2,
   "id": "dried-cigarette",
   "metadata": {},
   "outputs": [],
   "source": [
    "import time\n",
    "# Basic PySpark\n",
    "import pyspark as ps\n",
    "from pyspark.sql import functions as F\n",
    "from pyspark.sql.types import *\n",
    "# PySpark NLP\n",
    "from sparknlp.annotator import *\n",
    "from sparknlp.common import *\n",
    "from sparknlp.base import *\n",
    "from pyspark.ml import Pipeline\n",
    "from pyspark.ml.feature import HashingTF, IDF, StringIndexer, IndexToString, Word2Vec\n",
    "# PySpark Classification Models\n",
    "from pyspark.ml.classification import NaiveBayes, LinearSVC\n",
    "# PySpark Model Evaluation\n",
    "from pyspark.ml.evaluation import BinaryClassificationEvaluator, MulticlassClassificationEvaluator\n",
    "# Stopwords\n",
    "from nltk.corpus import stopwords"
   ]
  },
  {
   "cell_type": "markdown",
   "id": "separated-albania",
   "metadata": {},
   "source": [
    "## Set Up Spark"
   ]
  },
  {
   "cell_type": "code",
   "execution_count": 3,
   "id": "normal-broadcast",
   "metadata": {},
   "outputs": [],
   "source": [
    "spark = (ps.sql.SparkSession.builder\n",
    ".appName(\"Spark NLP\")\n",
    ".master(\"local[3]\")\n",
    ".config(\"spark.driver.memory\",\"8G\")\n",
    ".config(\"spark.driver.maxResultSize\", \"0\")\n",
    ".config(\"spark.kryoserializer.buffer.max\", \"2000M\")\n",
    ".config(\"spark.jars.packages\", \"com.johnsnowlabs.nlp:spark-nlp_2.12:3.1.0\")\n",
    ".config(\"spark.driver.extraClassPath\", \"/home/jovyan/postgresql-42.2.20.jar\")\n",
    ".getOrCreate())"
   ]
  },
  {
   "cell_type": "markdown",
   "id": "cooperative-somewhere",
   "metadata": {},
   "source": [
    "## Import Data"
   ]
  },
  {
   "cell_type": "markdown",
   "id": "after-edmonton",
   "metadata": {},
   "source": [
    "### Connecting To Data"
   ]
  },
  {
   "cell_type": "code",
   "execution_count": 4,
   "id": "opposite-occurrence",
   "metadata": {},
   "outputs": [],
   "source": [
    "db_properties = {\n",
    "    \"user\": \"postgres\",\n",
    "    \"password\": None,\n",
    "    \"driver\": \"org.postgresql.Driver\"\n",
    "}\n",
    "db_endpoint = None\n",
    "db_url = f'jdbc:postgresql://{db_endpoint}/yelp_2021_db'"
   ]
  },
  {
   "cell_type": "code",
   "execution_count": 5,
   "id": "focused-fireplace",
   "metadata": {},
   "outputs": [],
   "source": [
    "train = spark.read.jdbc(url=db_url,table='(SELECT review_id, review_text, target_ufc_bool FROM text_data_train LIMIT 1000) AS tmp_train',properties=db_properties)"
   ]
  },
  {
   "cell_type": "code",
   "execution_count": 6,
   "id": "protecting-canvas",
   "metadata": {},
   "outputs": [],
   "source": [
    "test = spark.read.jdbc(url=db_url,table='(SELECT review_id, review_text, target_ufc_bool FROM text_data_test LIMIT 1000) AS tmp_test',properties=db_properties)"
   ]
  },
  {
   "cell_type": "code",
   "execution_count": 7,
   "id": "different-device",
   "metadata": {},
   "outputs": [],
   "source": [
    "train.createOrReplaceTempView(\"train\")\n",
    "test.createOrReplaceTempView(\"test\")"
   ]
  },
  {
   "cell_type": "markdown",
   "id": "experimental-memphis",
   "metadata": {},
   "source": [
    "## Data Overview"
   ]
  },
  {
   "cell_type": "code",
   "execution_count": 8,
   "id": "alike-upgrade",
   "metadata": {},
   "outputs": [
    {
     "name": "stdout",
     "output_type": "stream",
     "text": [
      "root\n",
      " |-- review_id: string (nullable = true)\n",
      " |-- review_text: string (nullable = true)\n",
      " |-- target_ufc_bool: string (nullable = true)\n",
      "\n"
     ]
    }
   ],
   "source": [
    "train.printSchema()"
   ]
  },
  {
   "cell_type": "code",
   "execution_count": 9,
   "id": "amazing-pendant",
   "metadata": {},
   "outputs": [
    {
     "name": "stdout",
     "output_type": "stream",
     "text": [
      "+--------------------+--------------------+---------------+\n",
      "|           review_id|         review_text|target_ufc_bool|\n",
      "+--------------------+--------------------+---------------+\n",
      "|O3WmTrkzh7-7f2_Cf...|Part of my amazin...|           True|\n",
      "|O3aT56IZhBqRI53co...|I've never had is...|           True|\n",
      "|O3n5Oq-JFaBUk5ILg...|Solid experience ...|          False|\n",
      "|O493xYpCSILJ_Gtb2...|I went here last ...|           True|\n",
      "|O49wqBbevea8ZhuTp...|Overrated. Weak i...|           True|\n",
      "+--------------------+--------------------+---------------+\n",
      "only showing top 5 rows\n",
      "\n"
     ]
    }
   ],
   "source": [
    "train.show(5)"
   ]
  },
  {
   "cell_type": "code",
   "execution_count": 10,
   "id": "surgical-difficulty",
   "metadata": {},
   "outputs": [
    {
     "name": "stdout",
     "output_type": "stream",
     "text": [
      "Train Records: 1000\n",
      "Test Records: 1000\n"
     ]
    }
   ],
   "source": [
    "print(f'Train Records: {train.count()}')\n",
    "print(f'Test Records: {test.count()}')"
   ]
  },
  {
   "cell_type": "markdown",
   "id": "sixth-paint",
   "metadata": {},
   "source": [
    "## Prep Work"
   ]
  },
  {
   "cell_type": "markdown",
   "id": "proved-pursuit",
   "metadata": {},
   "source": [
    "### Majority Class Baseline (True or Quality)"
   ]
  },
  {
   "cell_type": "code",
   "execution_count": 11,
   "id": "worthy-closing",
   "metadata": {},
   "outputs": [
    {
     "name": "stdout",
     "output_type": "stream",
     "text": [
      "+---------------+-----+-------+\n",
      "|target_ufc_bool|count|percent|\n",
      "+---------------+-----+-------+\n",
      "|          False|  519|   51.9|\n",
      "|           True|  481|   48.1|\n",
      "+---------------+-----+-------+\n",
      "\n"
     ]
    }
   ],
   "source": [
    "# Train Baseline\n",
    "train_baseline = spark.sql(\n",
    "    \"\"\"\n",
    "    SELECT target_ufc_bool,\n",
    "           COUNT(*) AS count,\n",
    "           ROUND((COUNT(*) / (SELECT COUNT(*) FROM train)) * 100, 2) AS percent\n",
    "    FROM train\n",
    "    GROUP BY target_ufc_bool\n",
    "    ORDER BY count DESC\n",
    "    \"\"\"\n",
    ").show()"
   ]
  },
  {
   "cell_type": "code",
   "execution_count": 12,
   "id": "hindu-tradition",
   "metadata": {},
   "outputs": [
    {
     "name": "stdout",
     "output_type": "stream",
     "text": [
      "+---------------+-----+-------+\n",
      "|target_ufc_bool|count|percent|\n",
      "+---------------+-----+-------+\n",
      "|           True|  524|   52.4|\n",
      "|          False|  476|   47.6|\n",
      "+---------------+-----+-------+\n",
      "\n"
     ]
    }
   ],
   "source": [
    "# Test Baseline\n",
    "test_baseline = spark.sql(\n",
    "    \"\"\"\n",
    "    SELECT target_ufc_bool,\n",
    "           COUNT(*) AS count,\n",
    "           ROUND((COUNT(*) / (SELECT COUNT(*) FROM test)) * 100, 2) AS percent\n",
    "    FROM test\n",
    "    GROUP BY target_ufc_bool\n",
    "    ORDER BY count DESC\n",
    "    \"\"\"\n",
    ").show()"
   ]
  },
  {
   "cell_type": "markdown",
   "id": "abstract-syndicate",
   "metadata": {},
   "source": [
    "## Text Prep"
   ]
  },
  {
   "cell_type": "code",
   "execution_count": 13,
   "id": "secure-reflection",
   "metadata": {},
   "outputs": [
    {
     "name": "stdout",
     "output_type": "stream",
     "text": [
      "lemma_antbnc download started this may take some time.\n",
      "Approximate size to download 907.6 KB\n",
      "[OK!]\n"
     ]
    }
   ],
   "source": [
    "document_assembler = (DocumentAssembler()\n",
    "                      .setInputCol('review_text')\n",
    "                      .setOutputCol('document'))\n",
    "\n",
    "tokenizer = (Tokenizer()\n",
    "             .setInputCols(['document'])\n",
    "             .setOutputCol('tokens'))\n",
    "\n",
    "normalizer = (Normalizer()\n",
    "              .setInputCols(['tokens'])\n",
    "              .setOutputCol('normalized'))\n",
    "\n",
    "stopwords_cleaner = (StopWordsCleaner()\n",
    "                     .setInputCols(['normalized'])\n",
    "                     .setOutputCol('clean_tokens')\n",
    "                     .setCaseSensitive(False))\n",
    "\n",
    "lemmatizer = (LemmatizerModel.pretrained()\n",
    "              .setInputCols(['clean_tokens'])\n",
    "              .setOutputCol('lemma'))"
   ]
  },
  {
   "cell_type": "markdown",
   "id": "portuguese-cricket",
   "metadata": {},
   "source": [
    "### Class Labeling"
   ]
  },
  {
   "cell_type": "code",
   "execution_count": 14,
   "id": "italian-cleanup",
   "metadata": {},
   "outputs": [],
   "source": [
    "label_strIdx = StringIndexer(inputCol=\"target_ufc_bool\", outputCol=\"label\", stringOrderType='alphabetAsc')\n",
    "label_Idxstr = IndexToString(inputCol=\"prediction\", outputCol=\"predicted_class\", labels=[\"False\", \"True\"])"
   ]
  },
  {
   "cell_type": "markdown",
   "id": "legitimate-section",
   "metadata": {},
   "source": [
    "### Text Prep Options"
   ]
  },
  {
   "cell_type": "code",
   "execution_count": 15,
   "id": "unable-blind",
   "metadata": {},
   "outputs": [
    {
     "name": "stdout",
     "output_type": "stream",
     "text": [
      "glove_100d download started this may take some time.\n",
      "Approximate size to download 145.3 MB\n",
      "[OK!]\n"
     ]
    }
   ],
   "source": [
    "word_embeddings = (WordEmbeddingsModel().pretrained()\n",
    "                   .setInputCols([\"document\", \"lemma\"])\n",
    "                   .setOutputCol(\"word_embed\"))\n",
    "\n",
    "# bert_embeddings = (BertEmbeddings\n",
    "#                    .pretrained()\n",
    "#                    .setInputCols([\"document\",'lemma'])\n",
    "#                    .setOutputCol(\"word_embed\"))\n",
    "\n",
    "# elmo_embeddings = (ElmoEmbeddings\n",
    "#                    .pretrained()\n",
    "#                    .setInputCols([\"document\",'lemma'])\n",
    "#                    .setOutputCol(\"word_embed\"))\n",
    "\n",
    "embeddings_sentence = (SentenceEmbeddings()\n",
    "                      .setInputCols([\"document\", \"word_embed\"])\n",
    "                      .setOutputCol(\"sentence_embeddings\")\n",
    "                      .setPoolingStrategy(\"AVERAGE\"))"
   ]
  },
  {
   "cell_type": "markdown",
   "id": "available-enlargement",
   "metadata": {},
   "source": [
    "### No Preprocessing Pipelines"
   ]
  },
  {
   "cell_type": "code",
   "execution_count": 16,
   "id": "loose-gnome",
   "metadata": {},
   "outputs": [
    {
     "name": "stdout",
     "output_type": "stream",
     "text": [
      "tfhub_use download started this may take some time.\n",
      "Approximate size to download 923.7 MB\n",
      "[OK!]\n"
     ]
    }
   ],
   "source": [
    "use = (UniversalSentenceEncoder.pretrained()\n",
    "       .setInputCols([\"document\"])\n",
    "       .setOutputCol(\"sentence_embeddings\"))\n",
    "\n",
    "# bse = (BertSentenceEmbeddings.pretrained()\n",
    "#        .setInputCols([\"document\"])\n",
    "#        .setOutputCol(\"sentence_embeddings\"))"
   ]
  },
  {
   "cell_type": "markdown",
   "id": "exclusive-resolution",
   "metadata": {},
   "source": [
    "### Classification Models"
   ]
  },
  {
   "cell_type": "code",
   "execution_count": 17,
   "id": "israeli-things",
   "metadata": {},
   "outputs": [],
   "source": [
    "MNB_CLF = NaiveBayes(smoothing=1.0) # https://spark.apache.org/docs/latest/api/python/reference/api/pyspark.ml.classification.NaiveBayes.html\n",
    "SVM_CLF = LinearSVC(standardization=False) # https://spark.apache.org/docs/latest/api/python/reference/api/pyspark.ml.classification.LinearSVC.html\n",
    "DL_CLF = (ClassifierDLApproach()\n",
    "          .setInputCols(\"sentence_embeddings\")\n",
    "          .setOutputCol(\"prediction\")\n",
    "          .setLabelColumn(\"target_ufc_bool\")\n",
    "          .setMaxEpochs(25)\n",
    "          .setEnableOutputLogs(True))"
   ]
  },
  {
   "cell_type": "markdown",
   "id": "soviet-bread",
   "metadata": {},
   "source": [
    "### Loading Everything to Pipeline"
   ]
  },
  {
   "cell_type": "code",
   "execution_count": 18,
   "id": "straight-trial",
   "metadata": {},
   "outputs": [],
   "source": [
    "pipeline = (Pipeline()\n",
    "            .setStages([document_assembler,\n",
    "                        tokenizer,\n",
    "                        normalizer,\n",
    "                        stopwords_cleaner,\n",
    "                        lemmatizer,\n",
    "                        word_embeddings,\n",
    "                        embeddings_sentence,\n",
    "                        label_strIdx,\n",
    "                        DL_CLF,\n",
    "                       ]))\n",
    "\n",
    "# pipeline = (Pipeline()\n",
    "#             .setStages([document_assembler,\n",
    "#                         use,\n",
    "#                         label_strIdx,\n",
    "#                         DL_CLF,\n",
    "#                        ]))"
   ]
  },
  {
   "cell_type": "markdown",
   "id": "restricted-possibility",
   "metadata": {},
   "source": [
    "### Fit and Predict"
   ]
  },
  {
   "cell_type": "code",
   "execution_count": 19,
   "id": "dietary-duration",
   "metadata": {},
   "outputs": [],
   "source": [
    "fit_start = time.perf_counter()\n",
    "cls_model = pipeline.fit(train)\n",
    "fit_end = time.perf_counter()"
   ]
  },
  {
   "cell_type": "code",
   "execution_count": 20,
   "id": "productive-medicine",
   "metadata": {},
   "outputs": [],
   "source": [
    "transform_start = time.perf_counter()\n",
    "test_pred = cls_model.transform(test)\n",
    "test_pred = test_pred.select([\"review_id\", \"target_ufc_bool\", \"prediction.result\", \"prediction.metadata\", \"label\"])\n",
    "test_pred = (test_pred.withColumn(\"prediction\", test_pred[\"result\"].getItem(0))\n",
    "             .withColumn(\"true_prob\", test_pred[\"metadata\"].getItem(0).getItem(\"True\").cast(\"double\"))\n",
    "             .withColumn(\"prediction_label\", F.udf(lambda x: 1.0 if x == \"True\" else 0.0, DoubleType())(\"prediction\")))\n",
    "test_pred = test_pred.select([\"review_id\", \"label\", \"target_ufc_bool\", \"prediction\", \"prediction_label\", \"true_prob\"])\n",
    "\n",
    "train_pred = cls_model.transform(test)\n",
    "train_pred = train_pred.select([\"review_id\", \"target_ufc_bool\", \"prediction.result\", \"prediction.metadata\", \"label\"])\n",
    "train_pred = (train_pred.withColumn(\"prediction\", train_pred[\"result\"].getItem(0))\n",
    "              .withColumn(\"true_prob\", train_pred[\"metadata\"].getItem(0).getItem(\"True\").cast(\"double\"))\n",
    "              .withColumn(\"prediction_label\", F.udf(lambda x: 1.0 if x == \"True\" else 0.0, DoubleType())(\"prediction\")))\n",
    "train_pred = train_pred.select([\"review_id\", \"label\", \"target_ufc_bool\", \"prediction\", \"prediction_label\", \"true_prob\"])\n",
    "transform_end = time.perf_counter()"
   ]
  },
  {
   "cell_type": "code",
   "execution_count": 21,
   "id": "divided-medium",
   "metadata": {},
   "outputs": [
    {
     "name": "stdout",
     "output_type": "stream",
     "text": [
      "+----------------------+-----+---------------+----------+----------------+-----------+\n",
      "|review_id             |label|target_ufc_bool|prediction|prediction_label|true_prob  |\n",
      "+----------------------+-----+---------------+----------+----------------+-----------+\n",
      "|--p3d1axlnA7ka_p6hO-QQ|0.0  |False          |True      |1.0             |0.68538624 |\n",
      "|-1v3W4XqQcIe44_I1lZYyA|1.0  |True           |True      |1.0             |0.85042953 |\n",
      "|-21y2QEKfhjxh2algH_0nQ|1.0  |True           |False     |0.0             |0.065926254|\n",
      "|-358vecdAUh6ECkNfawvHw|0.0  |False          |False     |0.0             |0.014743484|\n",
      "|-3_NmlYMibrapNEnS_gfcg|1.0  |True           |False     |0.0             |0.07291885 |\n",
      "|-5JXmLmRoECQ2coWszNZYg|0.0  |False          |True      |1.0             |0.8159384  |\n",
      "|-5tMbhsrpjFUGPttynBHKA|1.0  |True           |False     |0.0             |0.4661805  |\n",
      "|-94ADRRTfjkHsyt6KVyfLg|1.0  |True           |True      |1.0             |0.81080085 |\n",
      "|-C8Op9jCno7LikFtegYZqg|0.0  |False          |True      |1.0             |0.60774726 |\n",
      "|-CRezM_gS3k1mE0DTPEk1g|1.0  |True           |False     |0.0             |0.36296633 |\n",
      "|-CrDANDLHRh-f1fQJsF0pg|0.0  |False          |False     |0.0             |0.104465164|\n",
      "|-FLOyBd9KC5QANDy2Oo9JQ|1.0  |True           |False     |0.0             |0.19343129 |\n",
      "|-G1lx3ThcvaHjA3u3OoNEw|0.0  |False          |False     |0.0             |0.42310894 |\n",
      "|-MZcA4e0wJlG3I3GBqeIsw|1.0  |True           |False     |0.0             |0.3804228  |\n",
      "|-MZn0pcLOEqF_E_H_uAe7w|1.0  |True           |True      |1.0             |0.8140042  |\n",
      "|-Oxm3H4OKVIB3Sue6xo7jA|0.0  |False          |True      |1.0             |0.77664876 |\n",
      "|-GgsY3-Y0siHJZeNgXi7Ng|1.0  |True           |True      |1.0             |0.7724875  |\n",
      "|-GzcIKwshy6qqgzsXgVvSw|1.0  |True           |True      |1.0             |0.8231891  |\n",
      "|-HV3oatE8XxljQFYxmQ6qg|1.0  |True           |False     |0.0             |0.004086963|\n",
      "|-HaxGF7Hu68HIFx4GWId5w|1.0  |True           |False     |0.0             |0.15964153 |\n",
      "|-I9dOlrJBMPUGs1q-fBt2A|0.0  |False          |True      |1.0             |0.8952331  |\n",
      "|-IsBHUf732Rf_EL_fn2Z5Q|1.0  |True           |True      |1.0             |0.8218767  |\n",
      "|-JQI1D1PQkl3KdXKfz1tsg|1.0  |True           |True      |1.0             |0.70196605 |\n",
      "|-JbV9-K_5Caa8YoznsRrHw|0.0  |False          |False     |0.0             |0.31443754 |\n",
      "|-LOR_bwHBC59wERPqew1QA|0.0  |False          |True      |1.0             |0.84531724 |\n",
      "|-MNALeF0M1hnDYgMVuqHmA|1.0  |True           |True      |1.0             |0.9063823  |\n",
      "|H_kNV7wVTiGc0LzxLrHb0Q|1.0  |True           |True      |1.0             |0.79259765 |\n",
      "|-P-XfF0UFwJLiCSX9zvVyQ|1.0  |True           |True      |1.0             |0.8685357  |\n",
      "|-QaoMXbOo6Iy0BvWPlMH-A|1.0  |True           |False     |0.0             |0.12046403 |\n",
      "|-Qmt9hfaV1fPXSsZ36cFfQ|1.0  |True           |False     |0.0             |0.15076692 |\n",
      "|-RU-70L0GNbXhdxIgOt4Ng|1.0  |True           |False     |0.0             |0.48071134 |\n",
      "|-SKo6IFq2HynJeBNkA1XWA|1.0  |True           |True      |1.0             |0.7692985  |\n",
      "|-Sg9O1AdSw9KKOsfmlqDAA|1.0  |True           |True      |1.0             |0.8247257  |\n",
      "|-U-slpT1vOOaKaI3TfKQng|1.0  |True           |True      |1.0             |0.8609956  |\n",
      "|-UNDT1U6dmYj43rO9Lmpqg|1.0  |True           |True      |1.0             |0.860598   |\n",
      "|-UZuYAlIrtV4RNUftJ09Dg|0.0  |False          |True      |1.0             |0.86917996 |\n",
      "|-UnkjdWM5KhnR-i9pcjFKg|0.0  |False          |False     |0.0             |0.17774114 |\n",
      "|-Ve9CBHKtJS2LLHJNp3fqQ|1.0  |True           |False     |0.0             |0.37774572 |\n",
      "|-Wiaq_wr8CfykXXHeUpaDw|1.0  |True           |True      |1.0             |0.6398412  |\n",
      "|-X7dcJjV-WcwGsL_TSzXYg|0.0  |False          |False     |0.0             |0.27080703 |\n",
      "|-XApUJQ_hhja1PUe51F4ig|1.0  |True           |True      |1.0             |0.5157185  |\n",
      "|-Ydk40QDOXpgANK0lKccyQ|1.0  |True           |False     |0.0             |0.02959852 |\n",
      "|-Z_MgmkjR97W0asCbqdJJw|1.0  |True           |False     |0.0             |0.3046705  |\n",
      "|-ZlS2SKrlXbtWCwFSptc3A|0.0  |False          |True      |1.0             |0.7764002  |\n",
      "|-ZwPB97f3q6bQKtdn_95cg|1.0  |True           |False     |0.0             |0.05930553 |\n",
      "|-_-zjQQj1v21I1WZc7_nnw|1.0  |True           |False     |0.0             |0.35707045 |\n",
      "|0XVWywcvACz3EOXBNfjdWQ|0.0  |False          |False     |0.0             |0.032163672|\n",
      "|-_CqquJ18fB2NRkwpxB66Q|0.0  |False          |True      |1.0             |0.74657285 |\n",
      "|-_QUz4SdXYPh8s9s3w8IZg|1.0  |True           |True      |1.0             |0.8749349  |\n",
      "|-_kE1PfFFBp8A6GLgVZcWA|1.0  |True           |True      |1.0             |0.90569365 |\n",
      "+----------------------+-----+---------------+----------+----------------+-----------+\n",
      "only showing top 50 rows\n",
      "\n"
     ]
    }
   ],
   "source": [
    "train_pred.show(50, truncate=False)"
   ]
  },
  {
   "cell_type": "markdown",
   "id": "latter-consensus",
   "metadata": {},
   "source": [
    "### Model Evaluation"
   ]
  },
  {
   "cell_type": "code",
   "execution_count": 22,
   "id": "social-aggregate",
   "metadata": {},
   "outputs": [],
   "source": [
    "eval_start = time.perf_counter()\n",
    "evaluator = BinaryClassificationEvaluator().setRawPredictionCol(\"true_prob\")\n",
    "auc = evaluator.evaluate(test_pred, {evaluator.metricName: \"areaUnderROC\"})\n",
    "aupr = evaluator.evaluate(test_pred, {evaluator.metricName: \"areaUnderPR\"})"
   ]
  },
  {
   "cell_type": "code",
   "execution_count": 23,
   "id": "concrete-integration",
   "metadata": {},
   "outputs": [],
   "source": [
    "multi_evaluator = MulticlassClassificationEvaluator().setPredictionCol(\"prediction_label\")\n",
    "accuracy = multi_evaluator.evaluate(test_pred, {multi_evaluator.metricName: \"accuracy\"})\n",
    "precision = multi_evaluator.evaluate(test_pred, {multi_evaluator.metricName: \"weightedPrecision\"})\n",
    "recall = multi_evaluator.evaluate(test_pred, {multi_evaluator.metricName: \"weightedRecall\"})\n",
    "f1 = multi_evaluator.evaluate(test_pred, {multi_evaluator.metricName: \"f1\"})\n",
    "eval_end = time.perf_counter()"
   ]
  },
  {
   "cell_type": "code",
   "execution_count": 24,
   "id": "hispanic-relative",
   "metadata": {},
   "outputs": [
    {
     "name": "stdout",
     "output_type": "stream",
     "text": [
      "Accuracy: 0.591\n",
      "AUC: 0.637\n",
      "AUPR: 0.646\n",
      "Precision: 0.591\n",
      "Recall: 0.591\n",
      "F1 Score: 0.591\n",
      "Fit Time: 0.40 minutes\n",
      "Transform/Predict Time: 1.08 seconds\n",
      "Eval Time: 0.90 minutes\n"
     ]
    }
   ],
   "source": [
    "print(f\"Accuracy: {accuracy:.3f}\")\n",
    "print(f\"AUC: {auc:.3f}\")\n",
    "print(f\"AUPR: {aupr:.3f}\")\n",
    "print(f\"Precision: {precision:.3f}\")\n",
    "print(f\"Recall: {recall:.3f}\")\n",
    "print(f\"F1 Score: {f1:.3f}\")\n",
    "print(f\"Fit Time: {(fit_end - fit_start)/60:.2f} minutes\")\n",
    "print(f\"Transform/Predict Time: {transform_end - transform_start:.2f} seconds\")\n",
    "print(f\"Eval Time: {(eval_end - eval_start)/60:.2f} minutes\")"
   ]
  },
  {
   "cell_type": "markdown",
   "id": "superior-adaptation",
   "metadata": {},
   "source": [
    "### Saving Predictions"
   ]
  },
  {
   "cell_type": "code",
   "execution_count": 26,
   "id": "tamil-growing",
   "metadata": {},
   "outputs": [],
   "source": [
    "train_pred.createOrReplaceTempView(\"train_pred\")\n",
    "test_pred.createOrReplaceTempView(\"test_pred\")"
   ]
  },
  {
   "cell_type": "code",
   "execution_count": 27,
   "id": "moral-white",
   "metadata": {},
   "outputs": [],
   "source": [
    "train_finished = spark.sql(\"\"\"\n",
    "                            SELECT review_id,\n",
    "                                ROUND(true_prob, 3) AS glove_prob\n",
    "                            FROM train_pred\n",
    "                           \"\"\")\n",
    "\n",
    "test_finished = spark.sql(\"\"\"\n",
    "                            SELECT review_id,\n",
    "                                ROUND(true_prob, 3) AS glove_prob\n",
    "                            FROM test_pred\n",
    "                          \"\"\")"
   ]
  },
  {
   "cell_type": "code",
   "execution_count": 28,
   "id": "sharp-campbell",
   "metadata": {},
   "outputs": [
    {
     "name": "stdout",
     "output_type": "stream",
     "text": [
      "root\n",
      " |-- review_id: string (nullable = true)\n",
      " |-- glove_prob: double (nullable = true)\n",
      "\n"
     ]
    }
   ],
   "source": [
    "train_finished.printSchema()"
   ]
  },
  {
   "cell_type": "code",
   "execution_count": 29,
   "id": "virgin-friday",
   "metadata": {},
   "outputs": [
    {
     "name": "stdout",
     "output_type": "stream",
     "text": [
      "+----------------------+----------+\n",
      "|review_id             |glove_prob|\n",
      "+----------------------+----------+\n",
      "|--p3d1axlnA7ka_p6hO-QQ|0.685     |\n",
      "|-1v3W4XqQcIe44_I1lZYyA|0.85      |\n",
      "|-21y2QEKfhjxh2algH_0nQ|0.066     |\n",
      "|-358vecdAUh6ECkNfawvHw|0.015     |\n",
      "|-3_NmlYMibrapNEnS_gfcg|0.073     |\n",
      "|-5JXmLmRoECQ2coWszNZYg|0.816     |\n",
      "|-5tMbhsrpjFUGPttynBHKA|0.466     |\n",
      "|-94ADRRTfjkHsyt6KVyfLg|0.811     |\n",
      "|-C8Op9jCno7LikFtegYZqg|0.608     |\n",
      "|-CRezM_gS3k1mE0DTPEk1g|0.363     |\n",
      "|-CrDANDLHRh-f1fQJsF0pg|0.104     |\n",
      "|-FLOyBd9KC5QANDy2Oo9JQ|0.193     |\n",
      "|-G1lx3ThcvaHjA3u3OoNEw|0.423     |\n",
      "|-MZcA4e0wJlG3I3GBqeIsw|0.38      |\n",
      "|-MZn0pcLOEqF_E_H_uAe7w|0.814     |\n",
      "|-Oxm3H4OKVIB3Sue6xo7jA|0.777     |\n",
      "|-GgsY3-Y0siHJZeNgXi7Ng|0.772     |\n",
      "|-GzcIKwshy6qqgzsXgVvSw|0.823     |\n",
      "|-HV3oatE8XxljQFYxmQ6qg|0.004     |\n",
      "|-HaxGF7Hu68HIFx4GWId5w|0.16      |\n",
      "|-I9dOlrJBMPUGs1q-fBt2A|0.895     |\n",
      "|-IsBHUf732Rf_EL_fn2Z5Q|0.822     |\n",
      "|-JQI1D1PQkl3KdXKfz1tsg|0.702     |\n",
      "|-JbV9-K_5Caa8YoznsRrHw|0.314     |\n",
      "|-LOR_bwHBC59wERPqew1QA|0.845     |\n",
      "|-MNALeF0M1hnDYgMVuqHmA|0.906     |\n",
      "|H_kNV7wVTiGc0LzxLrHb0Q|0.793     |\n",
      "|-P-XfF0UFwJLiCSX9zvVyQ|0.869     |\n",
      "|-QaoMXbOo6Iy0BvWPlMH-A|0.12      |\n",
      "|-Qmt9hfaV1fPXSsZ36cFfQ|0.151     |\n",
      "|-RU-70L0GNbXhdxIgOt4Ng|0.481     |\n",
      "|-SKo6IFq2HynJeBNkA1XWA|0.769     |\n",
      "|-Sg9O1AdSw9KKOsfmlqDAA|0.825     |\n",
      "|-U-slpT1vOOaKaI3TfKQng|0.861     |\n",
      "|-UNDT1U6dmYj43rO9Lmpqg|0.861     |\n",
      "|-UZuYAlIrtV4RNUftJ09Dg|0.869     |\n",
      "|-UnkjdWM5KhnR-i9pcjFKg|0.178     |\n",
      "|-Ve9CBHKtJS2LLHJNp3fqQ|0.378     |\n",
      "|-Wiaq_wr8CfykXXHeUpaDw|0.64      |\n",
      "|-X7dcJjV-WcwGsL_TSzXYg|0.271     |\n",
      "|-XApUJQ_hhja1PUe51F4ig|0.516     |\n",
      "|-Ydk40QDOXpgANK0lKccyQ|0.03      |\n",
      "|-Z_MgmkjR97W0asCbqdJJw|0.305     |\n",
      "|-ZlS2SKrlXbtWCwFSptc3A|0.776     |\n",
      "|-ZwPB97f3q6bQKtdn_95cg|0.059     |\n",
      "|-_-zjQQj1v21I1WZc7_nnw|0.357     |\n",
      "|0XVWywcvACz3EOXBNfjdWQ|0.032     |\n",
      "|-_CqquJ18fB2NRkwpxB66Q|0.747     |\n",
      "|-_QUz4SdXYPh8s9s3w8IZg|0.875     |\n",
      "|-_kE1PfFFBp8A6GLgVZcWA|0.906     |\n",
      "+----------------------+----------+\n",
      "only showing top 50 rows\n",
      "\n"
     ]
    }
   ],
   "source": [
    "train_finished.show(50, truncate=False)"
   ]
  },
  {
   "cell_type": "code",
   "execution_count": null,
   "id": "signed-trace",
   "metadata": {},
   "outputs": [],
   "source": [
    "# train_finished.write.jdbc(url=db_url,table='text_data_train_glove',mode='overwrite',properties=db_properties)\n",
    "# test_finished.write.jdbc(url=db_url,table='text_data_test_glove',mode='overwrite',properties=db_properties)"
   ]
  },
  {
   "cell_type": "markdown",
   "id": "permanent-wildlife",
   "metadata": {},
   "source": [
    "### Saving Model"
   ]
  },
  {
   "cell_type": "code",
   "execution_count": null,
   "id": "logical-truth",
   "metadata": {},
   "outputs": [],
   "source": [
    "sc = spark.sparkContext"
   ]
  },
  {
   "cell_type": "code",
   "execution_count": null,
   "id": "proper-technician",
   "metadata": {},
   "outputs": [],
   "source": [
    "model_name = \"GloVe_all\""
   ]
  },
  {
   "cell_type": "code",
   "execution_count": null,
   "id": "labeled-azerbaijan",
   "metadata": {},
   "outputs": [],
   "source": [
    "# cls_model.save(f\"spark_models/{model_name}\")"
   ]
  }
 ],
 "metadata": {
  "kernelspec": {
   "display_name": "Python 3",
   "language": "python",
   "name": "python3"
  },
  "language_info": {
   "codemirror_mode": {
    "name": "ipython",
    "version": 3
   },
   "file_extension": ".py",
   "mimetype": "text/x-python",
   "name": "python",
   "nbconvert_exporter": "python",
   "pygments_lexer": "ipython3",
   "version": "3.7.7"
  }
 },
 "nbformat": 4,
 "nbformat_minor": 5
}
