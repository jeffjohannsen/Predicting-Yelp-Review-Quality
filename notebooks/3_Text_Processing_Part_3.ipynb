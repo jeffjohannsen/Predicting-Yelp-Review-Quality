{
 "cells": [
  {
   "cell_type": "markdown",
   "id": "welcome-accused",
   "metadata": {},
   "source": [
    "# Text Processing - Yelp 2021 - Part 3"
   ]
  },
  {
   "cell_type": "markdown",
   "id": "photographic-matthew",
   "metadata": {},
   "source": [
    "This notebook covers:\n",
    "* Word Embedding Models\n",
    "* Word2Vec\n",
    "* Doc2Vec\n",
    "* Bert\n",
    "* Deep Learning Classification"
   ]
  },
  {
   "cell_type": "markdown",
   "id": "saved-flower",
   "metadata": {},
   "source": [
    "## Imports and Global Settings"
   ]
  },
  {
   "cell_type": "code",
   "execution_count": 1,
   "id": "reverse-oasis",
   "metadata": {},
   "outputs": [
    {
     "name": "stderr",
     "output_type": "stream",
     "text": [
      "/home/jeff/anaconda3/lib/python3.7/site-packages/gensim/similarities/__init__.py:15: UserWarning: The gensim.similarities.levenshtein submodule is disabled, because the optional Levenshtein package <https://pypi.org/project/python-Levenshtein/> is unavailable. Install Levenhstein (e.g. `pip install python-Levenshtein`) to suppress this warning.\n",
      "  warnings.warn(msg)\n"
     ]
    }
   ],
   "source": [
    "# Common Libraries\n",
    "import re\n",
    "import numpy as np\n",
    "import pandas as pd\n",
    "import matplotlib.pyplot as plt\n",
    "import seaborn as sns\n",
    "# Main NLP libraries\n",
    "import nltk\n",
    "import gensim\n",
    "# Word2Vec\n",
    "from gensim.models import Word2Vec\n",
    "import gensim.downloader as api\n",
    "\n",
    "\n",
    "pd.set_option('display.float_format', lambda x: '%.5f' % x)"
   ]
  },
  {
   "cell_type": "markdown",
   "id": "beneficial-cursor",
   "metadata": {},
   "source": [
    "## Import Data"
   ]
  },
  {
   "cell_type": "code",
   "execution_count": 2,
   "id": "likely-calvin",
   "metadata": {},
   "outputs": [],
   "source": [
    "file_location = \"../data/full_data/analytics_ready/\"\n",
    "filename = \"text_data.json\""
   ]
  },
  {
   "cell_type": "code",
   "execution_count": 3,
   "id": "stylish-scanner",
   "metadata": {},
   "outputs": [],
   "source": [
    "# 6907890 records available\n",
    "num_records_to_load = 1000"
   ]
  },
  {
   "cell_type": "code",
   "execution_count": 4,
   "id": "pretty-saturn",
   "metadata": {},
   "outputs": [],
   "source": [
    "df = pd.read_json(file_location + filename, nrows=num_records_to_load, orient=\"records\", lines=True)"
   ]
  },
  {
   "cell_type": "markdown",
   "id": "lasting-teaching",
   "metadata": {},
   "source": [
    "## Dataframe Pre-Processing"
   ]
  },
  {
   "cell_type": "code",
   "execution_count": 5,
   "id": "responsible-settle",
   "metadata": {},
   "outputs": [
    {
     "data": {
      "text/html": [
       "<div>\n",
       "<style scoped>\n",
       "    .dataframe tbody tr th:only-of-type {\n",
       "        vertical-align: middle;\n",
       "    }\n",
       "\n",
       "    .dataframe tbody tr th {\n",
       "        vertical-align: top;\n",
       "    }\n",
       "\n",
       "    .dataframe thead th {\n",
       "        text-align: right;\n",
       "    }\n",
       "</style>\n",
       "<table border=\"1\" class=\"dataframe\">\n",
       "  <thead>\n",
       "    <tr style=\"text-align: right;\">\n",
       "      <th></th>\n",
       "      <th>review_id</th>\n",
       "      <th>review_stars</th>\n",
       "      <th>review_text</th>\n",
       "      <th>target_ufc_bool</th>\n",
       "      <th>target_ufc_count</th>\n",
       "    </tr>\n",
       "  </thead>\n",
       "  <tbody>\n",
       "    <tr>\n",
       "      <th>0</th>\n",
       "      <td>---zlFD4Kgfatr0SbDh_zg</td>\n",
       "      <td>4</td>\n",
       "      <td>Been looking for a halfway decent Chinese/Amer...</td>\n",
       "      <td>False</td>\n",
       "      <td>0</td>\n",
       "    </tr>\n",
       "    <tr>\n",
       "      <th>1</th>\n",
       "      <td>--BcxYRlOpG0v7nVQWseYA</td>\n",
       "      <td>4</td>\n",
       "      <td>I visited Kyma last week for the first time an...</td>\n",
       "      <td>False</td>\n",
       "      <td>0</td>\n",
       "    </tr>\n",
       "    <tr>\n",
       "      <th>2</th>\n",
       "      <td>--KO46TSxWzv32x00s5w9Q</td>\n",
       "      <td>5</td>\n",
       "      <td>It might be the most expensive gelato I've eve...</td>\n",
       "      <td>False</td>\n",
       "      <td>0</td>\n",
       "    </tr>\n",
       "    <tr>\n",
       "      <th>3</th>\n",
       "      <td>--XNrIWxRUafMsGqzB5o0g</td>\n",
       "      <td>5</td>\n",
       "      <td>Love this place!  They have great antiques, be...</td>\n",
       "      <td>True</td>\n",
       "      <td>1</td>\n",
       "    </tr>\n",
       "    <tr>\n",
       "      <th>4</th>\n",
       "      <td>--aGgQu9HVva6F9fB2-0ew</td>\n",
       "      <td>4</td>\n",
       "      <td>Great salad and cold sandwich.. The soup is am...</td>\n",
       "      <td>False</td>\n",
       "      <td>0</td>\n",
       "    </tr>\n",
       "  </tbody>\n",
       "</table>\n",
       "</div>"
      ],
      "text/plain": [
       "                review_id  review_stars  \\\n",
       "0  ---zlFD4Kgfatr0SbDh_zg             4   \n",
       "1  --BcxYRlOpG0v7nVQWseYA             4   \n",
       "2  --KO46TSxWzv32x00s5w9Q             5   \n",
       "3  --XNrIWxRUafMsGqzB5o0g             5   \n",
       "4  --aGgQu9HVva6F9fB2-0ew             4   \n",
       "\n",
       "                                         review_text target_ufc_bool  \\\n",
       "0  Been looking for a halfway decent Chinese/Amer...           False   \n",
       "1  I visited Kyma last week for the first time an...           False   \n",
       "2  It might be the most expensive gelato I've eve...           False   \n",
       "3  Love this place!  They have great antiques, be...            True   \n",
       "4  Great salad and cold sandwich.. The soup is am...           False   \n",
       "\n",
       "   target_ufc_count  \n",
       "0                 0  \n",
       "1                 0  \n",
       "2                 0  \n",
       "3                 1  \n",
       "4                 0  "
      ]
     },
     "execution_count": 5,
     "metadata": {},
     "output_type": "execute_result"
    }
   ],
   "source": [
    "df.head(5)"
   ]
  },
  {
   "cell_type": "code",
   "execution_count": 6,
   "id": "systematic-equilibrium",
   "metadata": {},
   "outputs": [
    {
     "name": "stdout",
     "output_type": "stream",
     "text": [
      "<class 'pandas.core.frame.DataFrame'>\n",
      "RangeIndex: 1000 entries, 0 to 999\n",
      "Data columns (total 5 columns):\n",
      " #   Column            Non-Null Count  Dtype \n",
      "---  ------            --------------  ----- \n",
      " 0   review_id         1000 non-null   object\n",
      " 1   review_stars      1000 non-null   int64 \n",
      " 2   review_text       1000 non-null   object\n",
      " 3   target_ufc_bool   1000 non-null   object\n",
      " 4   target_ufc_count  1000 non-null   int64 \n",
      "dtypes: int64(2), object(3)\n",
      "memory usage: 39.2+ KB\n"
     ]
    }
   ],
   "source": [
    "df.info()"
   ]
  },
  {
   "cell_type": "code",
   "execution_count": 7,
   "id": "ambient-fortune",
   "metadata": {},
   "outputs": [
    {
     "data": {
      "text/plain": [
       "True     546\n",
       "False    454\n",
       "Name: target_ufc_bool, dtype: int64"
      ]
     },
     "execution_count": 7,
     "metadata": {},
     "output_type": "execute_result"
    }
   ],
   "source": [
    "df.target_ufc_bool.value_counts()"
   ]
  },
  {
   "cell_type": "markdown",
   "id": "thermal-cutting",
   "metadata": {},
   "source": [
    "## Splitting Text"
   ]
  },
  {
   "cell_type": "code",
   "execution_count": 8,
   "id": "naked-worthy",
   "metadata": {},
   "outputs": [
    {
     "name": "stdout",
     "output_type": "stream",
     "text": [
      "Corpus Size: Total:1000, Quality:546, Not Quality:454\n"
     ]
    }
   ],
   "source": [
    "corpus = df.review_text\n",
    "text_target = df[['target_ufc_bool', 'review_text']]\n",
    "Q_corpus = df[df[\"target_ufc_bool\"] == \"True\"][\"review_text\"]\n",
    "NQ_corpus = df[df[\"target_ufc_bool\"] == \"False\"][\"review_text\"]\n",
    "print(f'Corpus Size: Total:{corpus.size}, Quality:{Q_corpus.size}, Not Quality:{NQ_corpus.size}')"
   ]
  },
  {
   "cell_type": "markdown",
   "id": "unavailable-texas",
   "metadata": {},
   "source": [
    "## Word2Vec"
   ]
  },
  {
   "cell_type": "markdown",
   "id": "waiting-exhaust",
   "metadata": {},
   "source": [
    "### Preprocessing"
   ]
  },
  {
   "cell_type": "code",
   "execution_count": null,
   "id": "metropolitan-trailer",
   "metadata": {},
   "outputs": [],
   "source": [
    "w2v_df = text_target.copy()"
   ]
  },
  {
   "cell_type": "code",
   "execution_count": null,
   "id": "gorgeous-music",
   "metadata": {},
   "outputs": [],
   "source": [
    "w2v_df['review_text_clean'] = w2v_df['review_text'].apply(lambda x: preprocess_text(x, run_stemm=False,\n",
    "                                                                                   run_lemm=False,\n",
    "                                                                                   remove_num=True,\n",
    "                                                                                   stopwords=None))"
   ]
  },
  {
   "cell_type": "code",
   "execution_count": null,
   "id": "convinced-superior",
   "metadata": {},
   "outputs": [],
   "source": [
    "w2v_df['clean_text_lst'] = w2v_df['review_text_clean'].apply(lambda x: x.split())"
   ]
  },
  {
   "cell_type": "code",
   "execution_count": null,
   "id": "federal-hammer",
   "metadata": {},
   "outputs": [],
   "source": [
    "w2v_df.head()"
   ]
  },
  {
   "cell_type": "code",
   "execution_count": null,
   "id": "scientific-value",
   "metadata": {},
   "outputs": [],
   "source": []
  },
  {
   "cell_type": "markdown",
   "id": "necessary-aspect",
   "metadata": {},
   "source": [
    "### All Text Combined"
   ]
  },
  {
   "cell_type": "code",
   "execution_count": null,
   "id": "patient-punishment",
   "metadata": {},
   "outputs": [],
   "source": [
    "all_text = \" \".join(w2v_df['review_text_clean'])\n",
    "all_text_lst = [x for x in w2v_df['clean_text_lst']]\n",
    "all_text_lst"
   ]
  },
  {
   "cell_type": "code",
   "execution_count": null,
   "id": "synthetic-tucson",
   "metadata": {},
   "outputs": [],
   "source": []
  },
  {
   "cell_type": "markdown",
   "id": "atomic-municipality",
   "metadata": {},
   "source": []
  },
  {
   "cell_type": "code",
   "execution_count": null,
   "id": "desirable-custody",
   "metadata": {},
   "outputs": [],
   "source": [
    "word2vec_model = Word2Vec(all_text_lst, min_count=2)"
   ]
  },
  {
   "cell_type": "code",
   "execution_count": null,
   "id": "immune-glasgow",
   "metadata": {},
   "outputs": [],
   "source": [
    "word2vec_model.wv.most_similar('good', topn=10)"
   ]
  },
  {
   "cell_type": "code",
   "execution_count": null,
   "id": "strong-strip",
   "metadata": {},
   "outputs": [],
   "source": [
    "word2vec_model.wv.('good', 'beef')"
   ]
  },
  {
   "cell_type": "code",
   "execution_count": null,
   "id": "elder-institute",
   "metadata": {},
   "outputs": [],
   "source": [
    "api.info('word2vec-google-news-300')"
   ]
  },
  {
   "cell_type": "code",
   "execution_count": null,
   "id": "twenty-challenge",
   "metadata": {},
   "outputs": [],
   "source": [
    "# Overloads\n",
    "# pre_trained_word2vec_model = api.load('word2vec-google-news-300')"
   ]
  },
  {
   "cell_type": "code",
   "execution_count": null,
   "id": "respective-arthritis",
   "metadata": {},
   "outputs": [],
   "source": []
  },
  {
   "cell_type": "code",
   "execution_count": null,
   "id": "apart-family",
   "metadata": {},
   "outputs": [],
   "source": []
  },
  {
   "cell_type": "code",
   "execution_count": null,
   "id": "durable-penny",
   "metadata": {},
   "outputs": [],
   "source": []
  },
  {
   "cell_type": "raw",
   "id": "according-pixel",
   "metadata": {},
   "source": []
  },
  {
   "cell_type": "code",
   "execution_count": null,
   "id": "industrial-fence",
   "metadata": {},
   "outputs": [],
   "source": []
  }
 ],
 "metadata": {
  "kernelspec": {
   "display_name": "Python 3",
   "language": "python",
   "name": "python3"
  },
  "language_info": {
   "codemirror_mode": {
    "name": "ipython",
    "version": 3
   },
   "file_extension": ".py",
   "mimetype": "text/x-python",
   "name": "python",
   "nbconvert_exporter": "python",
   "pygments_lexer": "ipython3",
   "version": "3.7.7"
  }
 },
 "nbformat": 4,
 "nbformat_minor": 5
}
