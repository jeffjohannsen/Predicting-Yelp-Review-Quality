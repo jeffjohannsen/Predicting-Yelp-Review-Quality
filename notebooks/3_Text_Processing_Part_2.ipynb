{
 "cells": [
  {
   "cell_type": "markdown",
   "id": "welcome-accused",
   "metadata": {},
   "source": [
    "# Text Processing - Yelp 2021 - Part 2"
   ]
  },
  {
   "cell_type": "markdown",
   "id": "beautiful-death",
   "metadata": {},
   "source": [
    "This notebook covers:\n",
    "* Tf-Idf Text Vectorization\n",
    "* Naive Bayes Predictions\n",
    "* Support Vector Machine Predictions"
   ]
  },
  {
   "cell_type": "markdown",
   "id": "saved-flower",
   "metadata": {},
   "source": [
    "## Imports and Global Settings"
   ]
  },
  {
   "cell_type": "code",
   "execution_count": 83,
   "id": "reverse-oasis",
   "metadata": {},
   "outputs": [],
   "source": [
    "# Common Libraries\n",
    "import numpy as np\n",
    "import pandas as pd\n",
    "import matplotlib.pyplot as plt\n",
    "# Main NLP libraries\n",
    "import nltk\n",
    "# Classification\n",
    "from sklearn.model_selection import cross_validate, GridSearchCV, train_test_split\n",
    "from sklearn.pipeline import Pipeline\n",
    "from sklearn.feature_extraction.text import CountVectorizer, TfidfTransformer, TfidfVectorizer\n",
    "from sklearn.feature_selection import chi2, SelectKBest\n",
    "from sklearn.naive_bayes import MultinomialNB\n",
    "from sklearn.linear_model import SGDClassifier\n",
    "from sklearn.metrics import make_scorer, recall_score, precision_score\n",
    "\n",
    "pd.set_option('display.float_format', lambda x: '%.5f' % x)"
   ]
  },
  {
   "cell_type": "markdown",
   "id": "beneficial-cursor",
   "metadata": {},
   "source": [
    "## Import Data"
   ]
  },
  {
   "cell_type": "code",
   "execution_count": 2,
   "id": "likely-calvin",
   "metadata": {},
   "outputs": [],
   "source": [
    "file_location = \"../data/full_data/analytics_ready/\"\n",
    "filename = \"text_data.json\""
   ]
  },
  {
   "cell_type": "code",
   "execution_count": 3,
   "id": "stylish-scanner",
   "metadata": {},
   "outputs": [],
   "source": [
    "# 6907890 records available\n",
    "num_records_to_load = 10000"
   ]
  },
  {
   "cell_type": "code",
   "execution_count": 4,
   "id": "pretty-saturn",
   "metadata": {},
   "outputs": [],
   "source": [
    "df = pd.read_json(file_location + filename, nrows=num_records_to_load, orient=\"records\", lines=True)"
   ]
  },
  {
   "cell_type": "markdown",
   "id": "lasting-teaching",
   "metadata": {},
   "source": [
    "## Dataframe Pre-Processing"
   ]
  },
  {
   "cell_type": "code",
   "execution_count": 5,
   "id": "responsible-settle",
   "metadata": {},
   "outputs": [
    {
     "data": {
      "text/html": [
       "<div>\n",
       "<style scoped>\n",
       "    .dataframe tbody tr th:only-of-type {\n",
       "        vertical-align: middle;\n",
       "    }\n",
       "\n",
       "    .dataframe tbody tr th {\n",
       "        vertical-align: top;\n",
       "    }\n",
       "\n",
       "    .dataframe thead th {\n",
       "        text-align: right;\n",
       "    }\n",
       "</style>\n",
       "<table border=\"1\" class=\"dataframe\">\n",
       "  <thead>\n",
       "    <tr style=\"text-align: right;\">\n",
       "      <th></th>\n",
       "      <th>review_id</th>\n",
       "      <th>review_stars</th>\n",
       "      <th>review_text</th>\n",
       "      <th>target_ufc_bool</th>\n",
       "      <th>target_ufc_count</th>\n",
       "    </tr>\n",
       "  </thead>\n",
       "  <tbody>\n",
       "    <tr>\n",
       "      <th>0</th>\n",
       "      <td>---zlFD4Kgfatr0SbDh_zg</td>\n",
       "      <td>4</td>\n",
       "      <td>Been looking for a halfway decent Chinese/Amer...</td>\n",
       "      <td>False</td>\n",
       "      <td>0</td>\n",
       "    </tr>\n",
       "    <tr>\n",
       "      <th>1</th>\n",
       "      <td>--BcxYRlOpG0v7nVQWseYA</td>\n",
       "      <td>4</td>\n",
       "      <td>I visited Kyma last week for the first time an...</td>\n",
       "      <td>False</td>\n",
       "      <td>0</td>\n",
       "    </tr>\n",
       "    <tr>\n",
       "      <th>2</th>\n",
       "      <td>--KO46TSxWzv32x00s5w9Q</td>\n",
       "      <td>5</td>\n",
       "      <td>It might be the most expensive gelato I've eve...</td>\n",
       "      <td>False</td>\n",
       "      <td>0</td>\n",
       "    </tr>\n",
       "    <tr>\n",
       "      <th>3</th>\n",
       "      <td>--XNrIWxRUafMsGqzB5o0g</td>\n",
       "      <td>5</td>\n",
       "      <td>Love this place!  They have great antiques, be...</td>\n",
       "      <td>True</td>\n",
       "      <td>1</td>\n",
       "    </tr>\n",
       "    <tr>\n",
       "      <th>4</th>\n",
       "      <td>--aGgQu9HVva6F9fB2-0ew</td>\n",
       "      <td>4</td>\n",
       "      <td>Great salad and cold sandwich.. The soup is am...</td>\n",
       "      <td>False</td>\n",
       "      <td>0</td>\n",
       "    </tr>\n",
       "  </tbody>\n",
       "</table>\n",
       "</div>"
      ],
      "text/plain": [
       "                review_id  review_stars  \\\n",
       "0  ---zlFD4Kgfatr0SbDh_zg             4   \n",
       "1  --BcxYRlOpG0v7nVQWseYA             4   \n",
       "2  --KO46TSxWzv32x00s5w9Q             5   \n",
       "3  --XNrIWxRUafMsGqzB5o0g             5   \n",
       "4  --aGgQu9HVva6F9fB2-0ew             4   \n",
       "\n",
       "                                         review_text target_ufc_bool  \\\n",
       "0  Been looking for a halfway decent Chinese/Amer...           False   \n",
       "1  I visited Kyma last week for the first time an...           False   \n",
       "2  It might be the most expensive gelato I've eve...           False   \n",
       "3  Love this place!  They have great antiques, be...            True   \n",
       "4  Great salad and cold sandwich.. The soup is am...           False   \n",
       "\n",
       "   target_ufc_count  \n",
       "0                 0  \n",
       "1                 0  \n",
       "2                 0  \n",
       "3                 1  \n",
       "4                 0  "
      ]
     },
     "execution_count": 5,
     "metadata": {},
     "output_type": "execute_result"
    }
   ],
   "source": [
    "df.head(5)"
   ]
  },
  {
   "cell_type": "code",
   "execution_count": 6,
   "id": "systematic-equilibrium",
   "metadata": {},
   "outputs": [
    {
     "name": "stdout",
     "output_type": "stream",
     "text": [
      "<class 'pandas.core.frame.DataFrame'>\n",
      "RangeIndex: 10000 entries, 0 to 9999\n",
      "Data columns (total 5 columns):\n",
      " #   Column            Non-Null Count  Dtype \n",
      "---  ------            --------------  ----- \n",
      " 0   review_id         10000 non-null  object\n",
      " 1   review_stars      10000 non-null  int64 \n",
      " 2   review_text       10000 non-null  object\n",
      " 3   target_ufc_bool   10000 non-null  object\n",
      " 4   target_ufc_count  10000 non-null  int64 \n",
      "dtypes: int64(2), object(3)\n",
      "memory usage: 390.8+ KB\n"
     ]
    }
   ],
   "source": [
    "df.info()"
   ]
  },
  {
   "cell_type": "code",
   "execution_count": 7,
   "id": "ambient-fortune",
   "metadata": {},
   "outputs": [
    {
     "data": {
      "text/plain": [
       "True     5134\n",
       "False    4866\n",
       "Name: target_ufc_bool, dtype: int64"
      ]
     },
     "execution_count": 7,
     "metadata": {},
     "output_type": "execute_result"
    }
   ],
   "source": [
    "df.target_ufc_bool.value_counts()"
   ]
  },
  {
   "cell_type": "markdown",
   "id": "thermal-cutting",
   "metadata": {},
   "source": [
    "## Splitting Text"
   ]
  },
  {
   "cell_type": "code",
   "execution_count": 8,
   "id": "naked-worthy",
   "metadata": {},
   "outputs": [
    {
     "name": "stdout",
     "output_type": "stream",
     "text": [
      "Corpus Size: Total:10000, Quality:5134, Not Quality:4866\n"
     ]
    }
   ],
   "source": [
    "corpus = df.review_text\n",
    "text_target = df[['target_ufc_bool', 'review_text']]\n",
    "Q_corpus = df[df[\"target_ufc_bool\"] == \"True\"][\"review_text\"]\n",
    "NQ_corpus = df[df[\"target_ufc_bool\"] == \"False\"][\"review_text\"]\n",
    "print(f'Corpus Size: Total:{corpus.size}, Quality:{Q_corpus.size}, Not Quality:{NQ_corpus.size}')"
   ]
  },
  {
   "cell_type": "markdown",
   "id": "broad-airline",
   "metadata": {},
   "source": [
    "## Prep Work"
   ]
  },
  {
   "cell_type": "code",
   "execution_count": 9,
   "id": "advance-fetish",
   "metadata": {},
   "outputs": [
    {
     "name": "stdout",
     "output_type": "stream",
     "text": [
      "<class 'pandas.core.frame.DataFrame'>\n",
      "RangeIndex: 10000 entries, 0 to 9999\n",
      "Data columns (total 2 columns):\n",
      " #   Column           Non-Null Count  Dtype \n",
      "---  ------           --------------  ----- \n",
      " 0   review_text      10000 non-null  object\n",
      " 1   target_ufc_bool  10000 non-null  object\n",
      "dtypes: object(2)\n",
      "memory usage: 156.4+ KB\n"
     ]
    }
   ],
   "source": [
    "baseline_cls_data = df[['review_text', 'target_ufc_bool']]\n",
    "baseline_cls_data.info()"
   ]
  },
  {
   "cell_type": "code",
   "execution_count": 10,
   "id": "pharmaceutical-canvas",
   "metadata": {},
   "outputs": [],
   "source": [
    "X = baseline_cls_data.review_text\n",
    "y = baseline_cls_data.target_ufc_bool"
   ]
  },
  {
   "cell_type": "code",
   "execution_count": 11,
   "id": "floral-diversity",
   "metadata": {},
   "outputs": [],
   "source": [
    "scoring = {'roc_auc': 'roc_auc',\n",
    "           'accuracy': 'accuracy',\n",
    "           'precision': make_scorer(precision_score, pos_label=\"True\"),\n",
    "           'recall': make_scorer(recall_score, pos_label=\"True\")}"
   ]
  },
  {
   "cell_type": "code",
   "execution_count": 12,
   "id": "european-surface",
   "metadata": {},
   "outputs": [],
   "source": [
    "def display_clf_results(cv_clf):\n",
    "    print('Model Performance')\n",
    "    print(f'Fit Time: {np.mean(cv_clf[\"fit_time\"]):.2f} secs, Score Time: {np.mean(cv_clf[\"score_time\"]):.2f} secs')\n",
    "    print(f'Accuracy: {np.mean(cv_clf[\"test_accuracy\"]):.2f}')\n",
    "    print(f'ROC AUC: {np.mean(cv_clf[\"test_roc_auc\"]):.2f}')\n",
    "    print(f'Precision: {np.mean(cv_clf[\"test_precision\"]):.2f}')\n",
    "    print(f'Recall: {np.mean(cv_clf[\"test_recall\"]):.2f}')"
   ]
  },
  {
   "cell_type": "markdown",
   "id": "packed-maria",
   "metadata": {},
   "source": [
    "### Majority Class Baseline (True or Quality)"
   ]
  },
  {
   "cell_type": "code",
   "execution_count": 84,
   "id": "academic-tyler",
   "metadata": {},
   "outputs": [
    {
     "name": "stdout",
     "output_type": "stream",
     "text": [
      "Majority Class Baseline: 0.51\n"
     ]
    }
   ],
   "source": [
    "majority_class_baseline = round(len(y[y==\"True\"]) / len(y), 2)\n",
    "print(f'Majority Class Baseline: {majority_class_baseline}')"
   ]
  },
  {
   "cell_type": "markdown",
   "id": "recreational-female",
   "metadata": {},
   "source": [
    "### Word Count Baseline"
   ]
  },
  {
   "cell_type": "code",
   "execution_count": 85,
   "id": "portable-honey",
   "metadata": {},
   "outputs": [],
   "source": [
    "word_count_pipeline = Pipeline([\n",
    "    ('vect', CountVectorizer()),\n",
    "    ('clf', SGDClassifier()),\n",
    "])"
   ]
  },
  {
   "cell_type": "code",
   "execution_count": 86,
   "id": "adequate-excuse",
   "metadata": {},
   "outputs": [],
   "source": [
    "wc_results = cross_validate(word_count_pipeline, X, y, cv=5, scoring=scoring)"
   ]
  },
  {
   "cell_type": "code",
   "execution_count": 87,
   "id": "desirable-vacuum",
   "metadata": {},
   "outputs": [
    {
     "name": "stdout",
     "output_type": "stream",
     "text": [
      "Model Performance\n",
      "Fit Time: 0.77 secs, Score Time: 0.30 secs\n",
      "Accuracy: 0.59\n",
      "ROC AUC: 0.61\n",
      "Precision: 0.61\n",
      "Recall: 0.55\n"
     ]
    }
   ],
   "source": [
    "display_clf_results(wc_results)"
   ]
  },
  {
   "cell_type": "markdown",
   "id": "forty-watch",
   "metadata": {},
   "source": [
    "### Tf-idf Baseline"
   ]
  },
  {
   "cell_type": "code",
   "execution_count": 88,
   "id": "wanted-journal",
   "metadata": {},
   "outputs": [],
   "source": [
    "tfidf_pipeline = Pipeline([\n",
    "    ('vect', CountVectorizer()),\n",
    "    ('tfidf', TfidfTransformer()),\n",
    "    ('clf', SGDClassifier()),\n",
    "])"
   ]
  },
  {
   "cell_type": "code",
   "execution_count": 89,
   "id": "demographic-discharge",
   "metadata": {},
   "outputs": [],
   "source": [
    "tfidf_results = cross_validate(tfidf_pipeline, X, y, cv=5, scoring=scoring)"
   ]
  },
  {
   "cell_type": "code",
   "execution_count": 90,
   "id": "southern-indonesia",
   "metadata": {},
   "outputs": [
    {
     "name": "stdout",
     "output_type": "stream",
     "text": [
      "Model Performance\n",
      "Fit Time: 0.75 secs, Score Time: 0.32 secs\n",
      "Accuracy: 0.61\n",
      "ROC AUC: 0.65\n",
      "Precision: 0.62\n",
      "Recall: 0.62\n"
     ]
    }
   ],
   "source": [
    "display_clf_results(tfidf_results)"
   ]
  },
  {
   "cell_type": "markdown",
   "id": "bored-artwork",
   "metadata": {},
   "source": [
    "### Tf-idf Grid Search Hyperparameter Tuning"
   ]
  },
  {
   "cell_type": "code",
   "execution_count": 20,
   "id": "loose-bridal",
   "metadata": {},
   "outputs": [],
   "source": [
    "tfidf_grid_cv_pipeline = Pipeline([\n",
    "    ('vect', CountVectorizer()),\n",
    "    ('tfidf', TfidfTransformer()),\n",
    "    ('clf', MultinomialNB()),\n",
    "])\n",
    "\n",
    "tfidf_grid_cv_params = {\n",
    "    'vect__strip_accents': [None, 'ascii'],\n",
    "    'vect__lowercase': [True, False],\n",
    "    'vect__stop_words': [None, 'english'],\n",
    "    'vect__ngram_range': [(1,1), (1,2), (1,3)],\n",
    "    'tfidf__norm': ['l1', 'l2'],\n",
    "    'clf__alpha': [0.1, 1, 10]\n",
    "}"
   ]
  },
  {
   "cell_type": "code",
   "execution_count": 21,
   "id": "cordless-death",
   "metadata": {
    "scrolled": true
   },
   "outputs": [
    {
     "name": "stdout",
     "output_type": "stream",
     "text": [
      "Fitting 5 folds for each of 144 candidates, totalling 720 fits\n"
     ]
    },
    {
     "data": {
      "text/plain": [
       "GridSearchCV(cv=5,\n",
       "             estimator=Pipeline(steps=[('vect', CountVectorizer()),\n",
       "                                       ('tfidf', TfidfTransformer()),\n",
       "                                       ('clf', MultinomialNB())]),\n",
       "             n_jobs=-1,\n",
       "             param_grid={'clf__alpha': [0.1, 1, 10],\n",
       "                         'tfidf__norm': ['l1', 'l2'],\n",
       "                         'vect__lowercase': [True, False],\n",
       "                         'vect__ngram_range': [(1, 1), (1, 2), (1, 3)],\n",
       "                         'vect__stop_words': [None, 'english'],\n",
       "                         'vect__strip_accents': [None, 'ascii']},\n",
       "             refit='accuracy',\n",
       "             scoring={'accuracy': 'accuracy',\n",
       "                      'precision': make_scorer(precision_score, pos_label=True),\n",
       "                      'recall': make_scorer(recall_score, pos_label=True),\n",
       "                      'roc_auc': 'roc_auc'},\n",
       "             verbose=3)"
      ]
     },
     "execution_count": 21,
     "metadata": {},
     "output_type": "execute_result"
    }
   ],
   "source": [
    "tfidf_grid_cv_MNB = GridSearchCV(tfidf_grid_cv_pipeline, tfidf_grid_cv_params,\n",
    "                      n_jobs=1, cv=5, scoring=scoring, refit='accuracy', verbose=3)\n",
    "tfidf_grid_cv_MNB.fit(X, y)"
   ]
  },
  {
   "cell_type": "code",
   "execution_count": 25,
   "id": "bronze-decrease",
   "metadata": {},
   "outputs": [],
   "source": [
    "idx = tfidf_grid_cv_MNB.best_index_\n",
    "results = tfidf_grid_cv_MNB.cv_results_"
   ]
  },
  {
   "cell_type": "code",
   "execution_count": 26,
   "id": "valid-confidentiality",
   "metadata": {},
   "outputs": [],
   "source": [
    "def display_clf_grid_search_results(cv_clf_gs, best_idx):\n",
    "    print('Model Performance')\n",
    "    print(f'Fit Time: {cv_clf_gs[\"mean_fit_time\"][best_idx]:.2f} secs, Score Time: {cv_clf_gs[\"mean_score_time\"][best_idx]:.2f} secs')\n",
    "    print(f'Accuracy: {cv_clf_gs[\"mean_test_accuracy\"][best_idx]:.2f}')\n",
    "    print(f'ROC AUC: {cv_clf_gs[\"mean_test_roc_auc\"][best_idx]:.2f}')\n",
    "    print(f'Precision: {cv_clf_gs[\"mean_test_precision\"][best_idx]:.2f}')\n",
    "    print(f'Recall: {cv_clf_gs[\"mean_test_recall\"][best_idx]:.2f}')\n",
    "    print('Best model choosen using accuracy.')\n",
    "    print(f'Best ROC AUC: {max(cv_clf_gs[\"mean_test_roc_auc\"]):.2f}')\n",
    "    print(f'Best Precision: {max(cv_clf_gs[\"mean_test_precision\"]):.2f}')\n",
    "    print(f'Best Recall: {max(cv_clf_gs[\"mean_test_recall\"]):.2f}')"
   ]
  },
  {
   "cell_type": "code",
   "execution_count": 27,
   "id": "varied-outdoors",
   "metadata": {},
   "outputs": [
    {
     "name": "stdout",
     "output_type": "stream",
     "text": [
      "Model Performance\n",
      "Fit Time: 1.49 secs, Score Time: 0.74 secs\n",
      "Accuracy: 0.61\n",
      "ROC AUC: 0.65\n",
      "Precision: 0.61\n",
      "Recall: 0.66\n",
      "Best model choosen using accuracy.\n",
      "Best ROC AUC: 0.68\n",
      "Best Precision: 0.61\n",
      "Best Recall: 1.00\n"
     ]
    }
   ],
   "source": [
    "display_clf_grid_search_results(results, idx)"
   ]
  },
  {
   "cell_type": "markdown",
   "id": "unexpected-equation",
   "metadata": {},
   "source": [
    "### Feature Reduction Using Chi-Squared Test"
   ]
  },
  {
   "cell_type": "code",
   "execution_count": 112,
   "id": "loved-divorce",
   "metadata": {},
   "outputs": [],
   "source": [
    "tfidf_chi2_pipeline = Pipeline([\n",
    "    ('tfidf', TfidfVectorizer(stop_words='english', ngram_range=(1,2))),\n",
    "    ('feature_selection', SelectKBest(chi2, k=10)),\n",
    "    ('clf', SGDClassifier()),\n",
    "])"
   ]
  },
  {
   "cell_type": "code",
   "execution_count": 113,
   "id": "modified-priest",
   "metadata": {},
   "outputs": [],
   "source": [
    "tfidf_chi2_results = cross_validate(tfidf_chi2_pipeline, X, y, cv=5, scoring=scoring)"
   ]
  },
  {
   "cell_type": "code",
   "execution_count": 114,
   "id": "described-mongolia",
   "metadata": {},
   "outputs": [
    {
     "name": "stdout",
     "output_type": "stream",
     "text": [
      "Model Performance\n",
      "Fit Time: 2.04 secs, Score Time: 0.54 secs\n",
      "Accuracy: 0.55\n",
      "ROC AUC: 0.55\n",
      "Precision: 0.54\n",
      "Recall: 0.89\n"
     ]
    }
   ],
   "source": [
    "display_clf_results(tfidf_chi2_results)"
   ]
  },
  {
   "cell_type": "code",
   "execution_count": null,
   "id": "settled-writer",
   "metadata": {},
   "outputs": [],
   "source": []
  }
 ],
 "metadata": {
  "kernelspec": {
   "display_name": "Python 3",
   "language": "python",
   "name": "python3"
  },
  "language_info": {
   "codemirror_mode": {
    "name": "ipython",
    "version": 3
   },
   "file_extension": ".py",
   "mimetype": "text/x-python",
   "name": "python",
   "nbconvert_exporter": "python",
   "pygments_lexer": "ipython3",
   "version": "3.7.7"
  }
 },
 "nbformat": 4,
 "nbformat_minor": 5
}
