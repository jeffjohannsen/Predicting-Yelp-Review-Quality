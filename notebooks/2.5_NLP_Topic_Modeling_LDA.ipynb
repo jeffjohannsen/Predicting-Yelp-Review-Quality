{
 "cells": [
  {
   "cell_type": "markdown",
   "id": "f17f9329",
   "metadata": {},
   "source": [
    "# Topic Modeling for Exploration and Feature Creation"
   ]
  },
  {
   "cell_type": "markdown",
   "id": "immediate-wagon",
   "metadata": {},
   "source": [
    "## Imports and Global Settings"
   ]
  },
  {
   "cell_type": "code",
   "execution_count": 1,
   "id": "rotary-deputy",
   "metadata": {},
   "outputs": [
    {
     "name": "stderr",
     "output_type": "stream",
     "text": [
      "/home/ubuntu/anaconda3/lib/python3.8/site-packages/scipy/sparse/sparsetools.py:21: DeprecationWarning: `scipy.sparse.sparsetools` is deprecated!\n",
      "scipy.sparse.sparsetools is a private module for scipy.sparse, and should not be used.\n",
      "  _deprecated()\n",
      "[nltk_data] Downloading package wordnet to /home/ubuntu/nltk_data...\n",
      "[nltk_data]   Package wordnet is already up-to-date!\n",
      "[nltk_data] Downloading package stopwords to /home/ubuntu/nltk_data...\n",
      "[nltk_data]   Package stopwords is already up-to-date!\n"
     ]
    }
   ],
   "source": [
    "import numpy as np\n",
    "import pandas as pd\n",
    "from pprint import pprint\n",
    "# Connecting to Postgres RDS on AWS\n",
    "from sqlalchemy import create_engine\n",
    "from sqlalchemy.dialects import postgresql\n",
    "# sklearn\n",
    "from sklearn.feature_extraction.text import CountVectorizer\n",
    "from sklearn.decomposition import LatentDirichletAllocation\n",
    "# visuals\n",
    "import pyLDAvis\n",
    "import pyLDAvis.gensim\n",
    "# gensim\n",
    "import gensim\n",
    "from gensim.utils import simple_preprocess\n",
    "from gensim.parsing.preprocessing import STOPWORDS\n",
    "import gensim.corpora as corpora\n",
    "from gensim.models import CoherenceModel\n",
    "# nltk\n",
    "import nltk\n",
    "nltk.download('wordnet')\n",
    "nltk.download('stopwords')\n",
    "from nltk.corpus import stopwords\n",
    "# spacy\n",
    "import spacy\n",
    "\n",
    "pd.set_option('display.float_format', lambda x: '%.5f' % x)\n",
    "pd.set_option(\"display.max_columns\", 200)\n",
    "pd.set_option(\"display.max_rows\", 200)"
   ]
  },
  {
   "cell_type": "markdown",
   "id": "massive-clock",
   "metadata": {},
   "source": [
    "## Loading Data"
   ]
  },
  {
   "cell_type": "code",
   "execution_count": 2,
   "id": "aa2355a4",
   "metadata": {},
   "outputs": [],
   "source": [
    "db_endpoint = None\n",
    "db_password = None\n",
    "\n",
    "engine = create_engine(\n",
    "    f\"postgresql+psycopg2://postgres:{db_password}@{db_endpoint}/yelp_2021_db\"\n",
    ")"
   ]
  },
  {
   "cell_type": "code",
   "execution_count": 3,
   "id": "e4baaa75",
   "metadata": {},
   "outputs": [],
   "source": [
    "train = pd.read_sql(sql=f\"SELECT review_id, review_text FROM text_data_train LIMIT 10000\", con=engine)\n",
    "test = pd.read_sql(sql=f\"SELECT review_id, review_text FROM text_data_test LIMIT 1000\", con=engine)"
   ]
  },
  {
   "cell_type": "code",
   "execution_count": 4,
   "id": "532adf9b",
   "metadata": {},
   "outputs": [
    {
     "data": {
      "text/plain": [
       "(10000, 2)"
      ]
     },
     "execution_count": 4,
     "metadata": {},
     "output_type": "execute_result"
    }
   ],
   "source": [
    "train.shape"
   ]
  },
  {
   "cell_type": "code",
   "execution_count": 5,
   "id": "8986f1fe",
   "metadata": {},
   "outputs": [
    {
     "data": {
      "text/plain": [
       "(1000, 2)"
      ]
     },
     "execution_count": 5,
     "metadata": {},
     "output_type": "execute_result"
    }
   ],
   "source": [
    "test.shape"
   ]
  },
  {
   "cell_type": "markdown",
   "id": "3778114e",
   "metadata": {},
   "source": [
    "## LDA via Gensim"
   ]
  },
  {
   "cell_type": "markdown",
   "id": "a42a233f",
   "metadata": {},
   "source": [
    "### Preprocess"
   ]
  },
  {
   "cell_type": "code",
   "execution_count": 6,
   "id": "bdeeb1bc",
   "metadata": {},
   "outputs": [],
   "source": [
    "# Stopwords\n",
    "stop_words = stopwords.words('english')\n",
    "stop_words.extend([])"
   ]
  },
  {
   "cell_type": "code",
   "execution_count": 7,
   "id": "a4c26eaa",
   "metadata": {},
   "outputs": [],
   "source": [
    "# Spacy Prep Model\n",
    "nlp = spacy.load(\"en_core_web_sm\", disable=['parser', 'ner'])"
   ]
  },
  {
   "cell_type": "code",
   "execution_count": 8,
   "id": "13266501",
   "metadata": {},
   "outputs": [],
   "source": [
    "def preprocess_text(df, stopwords):\n",
    "    # Convert to List\n",
    "    text = df['review_text'].values.tolist()\n",
    "    # Create Tokens\n",
    "    text_list = list(map(lambda x: (gensim.utils.simple_preprocess(str(x), deacc=True)), text))\n",
    "    # Remove Stopwords\n",
    "    text_list = list(map(lambda x: [word for word in x if word not in stopwords], text_list))\n",
    "    # Add Bigrams\n",
    "    bigram = gensim.models.Phrases(text_list, min_count=5, threshold=50)\n",
    "    bigram_mod = gensim.models.phrases.Phraser(bigram)\n",
    "    text_list = list(map(lambda x: bigram_mod[x], text_list))\n",
    "    # Lemmatize\n",
    "    allowed_postags=['NOUN', 'ADJ', 'VERB', 'ADV']\n",
    "    tokens = list(map(lambda x: [token.lemma_ for token in nlp(\" \".join(x)) if token.pos_ in allowed_postags],\n",
    "                      text_list))\n",
    "    return tokens"
   ]
  },
  {
   "cell_type": "code",
   "execution_count": 9,
   "id": "3e3be6a7",
   "metadata": {},
   "outputs": [],
   "source": [
    "processed_train = preprocess_text(train, stop_words)\n",
    "processed_test = preprocess_text(test, stop_words)"
   ]
  },
  {
   "cell_type": "code",
   "execution_count": 10,
   "id": "d81fdbd2",
   "metadata": {},
   "outputs": [],
   "source": [
    "# Prepare Data for Model\n",
    "id2word = corpora.Dictionary(processed_train)\n",
    "train_corpus = [id2word.doc2bow(text) for text in processed_train]\n",
    "test_corpus = [id2word.doc2bow(text) for text in processed_test]"
   ]
  },
  {
   "cell_type": "markdown",
   "id": "bc9e1f09",
   "metadata": {},
   "source": [
    "## Determine Number of Topics"
   ]
  },
  {
   "cell_type": "code",
   "execution_count": 12,
   "id": "f367b339",
   "metadata": {},
   "outputs": [],
   "source": [
    "def eval_lda_models(bow_corpus, id2word, processed_texts, topic_counts_to_test):\n",
    "    results = {}\n",
    "    lda = None\n",
    "    for i in topic_counts_to_test:\n",
    "        lda = gensim.models.LdaMulticore(bow_corpus, num_topics=i, id2word=id2word, passes=5)\n",
    "        perplexity = lda.log_perplexity(bow_corpus)\n",
    "        coherence_model_lda = CoherenceModel(model=lda, texts=processed_texts, dictionary=id2word, coherence='c_v')\n",
    "        coherence = coherence_model_lda.get_coherence()\n",
    "        results[f'{i}_topics'] = {}\n",
    "        results[f'{i}_topics']['model'] = lda\n",
    "        results[f'{i}_topics']['perplexity'] = perplexity\n",
    "        results[f'{i}_topics']['coherence'] = coherence\n",
    "        print(f'{i}_topics: {results[f\"{i}_topics\"]}')\n",
    "    return results"
   ]
  },
  {
   "cell_type": "code",
   "execution_count": null,
   "id": "815fa2db",
   "metadata": {},
   "outputs": [],
   "source": [
    "lda_eval_results = eval_lda_models(train_corpus, id2word, processed_train, [3, 5, 7, 10, 20, 50, 100])"
   ]
  },
  {
   "cell_type": "markdown",
   "id": "4ed4e583",
   "metadata": {},
   "source": [
    "### Model Creation"
   ]
  },
  {
   "cell_type": "code",
   "execution_count": 14,
   "id": "554961ae",
   "metadata": {},
   "outputs": [],
   "source": [
    "final_lda_model = gensim.models.LdaMulticore(train_corpus, num_topics=10, id2word=id2word, passes=10,\n",
    "                                             alpha='asymmetric', eta='auto')"
   ]
  },
  {
   "cell_type": "markdown",
   "id": "d27df57e",
   "metadata": {},
   "source": [
    "### Model Scoring"
   ]
  },
  {
   "cell_type": "code",
   "execution_count": 16,
   "id": "03375048",
   "metadata": {},
   "outputs": [
    {
     "name": "stdout",
     "output_type": "stream",
     "text": [
      "\n",
      "Perplexity:  -7.900115522932563\n",
      "\n",
      "Coherence Score:  0.4074330545876653\n"
     ]
    }
   ],
   "source": [
    "print('\\nPerplexity: ', final_lda_model.log_perplexity(train_corpus))\n",
    "coherence_model_lda = CoherenceModel(model=final_lda_model, texts=processed_train, dictionary=id2word,\n",
    "                                     coherence='c_v')\n",
    "coherence_lda = coherence_model_lda.get_coherence()\n",
    "print('\\nCoherence Score: ', coherence_lda)"
   ]
  },
  {
   "cell_type": "markdown",
   "id": "a693a9d6",
   "metadata": {},
   "source": [
    "### Visualization"
   ]
  },
  {
   "cell_type": "code",
   "execution_count": null,
   "id": "39a98cca",
   "metadata": {},
   "outputs": [],
   "source": [
    "model = lda_eval_results['3_topics']['model']\n",
    "\n",
    "# Visualize the topics\n",
    "pyLDAvis.enable_notebook()\n",
    "vis = pyLDAvis.gensim.prepare(model, corpus, id2word)\n",
    "vis"
   ]
  },
  {
   "cell_type": "markdown",
   "id": "f950bd59",
   "metadata": {},
   "source": [
    "### Save Model"
   ]
  },
  {
   "cell_type": "code",
   "execution_count": 19,
   "id": "60e5c4f0",
   "metadata": {},
   "outputs": [],
   "source": [
    "final_lda_model.save('lda_100k.model')"
   ]
  },
  {
   "cell_type": "markdown",
   "id": "0d6f0886",
   "metadata": {},
   "source": [
    "### Load Model"
   ]
  },
  {
   "cell_type": "code",
   "execution_count": 11,
   "id": "2a1b4bb8",
   "metadata": {},
   "outputs": [],
   "source": [
    "final_lda_model = gensim.models.LdaMulticore.load('lda_model_1M')"
   ]
  },
  {
   "cell_type": "markdown",
   "id": "73e6de18",
   "metadata": {},
   "source": [
    "### Create Feature Vectors"
   ]
  },
  {
   "cell_type": "code",
   "execution_count": 12,
   "id": "e8bd9796",
   "metadata": {},
   "outputs": [],
   "source": [
    "topic_count = 5"
   ]
  },
  {
   "cell_type": "code",
   "execution_count": 13,
   "id": "f3c86c39",
   "metadata": {},
   "outputs": [],
   "source": [
    "train_dicts = []\n",
    "for i in range(len(train)):\n",
    "    topics = final_lda_model.get_document_topics(train_corpus[i], minimum_probability=0.0)\n",
    "    topic_dict = {f'topic_{j}_lda':topics[j][1] for j in range(topic_count)}\n",
    "    train_dicts.append(topic_dict)"
   ]
  },
  {
   "cell_type": "code",
   "execution_count": 14,
   "id": "e99dfd47",
   "metadata": {},
   "outputs": [],
   "source": [
    "finished_train = pd.concat([train, pd.DataFrame(train_dicts)], axis=1)\n",
    "finished_train = finished_train.drop(columns=['review_text'])"
   ]
  },
  {
   "cell_type": "code",
   "execution_count": 15,
   "id": "03737967",
   "metadata": {
    "scrolled": true
   },
   "outputs": [
    {
     "data": {
      "text/html": [
       "<div>\n",
       "<style scoped>\n",
       "    .dataframe tbody tr th:only-of-type {\n",
       "        vertical-align: middle;\n",
       "    }\n",
       "\n",
       "    .dataframe tbody tr th {\n",
       "        vertical-align: top;\n",
       "    }\n",
       "\n",
       "    .dataframe thead th {\n",
       "        text-align: right;\n",
       "    }\n",
       "</style>\n",
       "<table border=\"1\" class=\"dataframe\">\n",
       "  <thead>\n",
       "    <tr style=\"text-align: right;\">\n",
       "      <th></th>\n",
       "      <th>review_id</th>\n",
       "      <th>topic_0_lda</th>\n",
       "      <th>topic_1_lda</th>\n",
       "      <th>topic_2_lda</th>\n",
       "      <th>topic_3_lda</th>\n",
       "      <th>topic_4_lda</th>\n",
       "    </tr>\n",
       "  </thead>\n",
       "  <tbody>\n",
       "    <tr>\n",
       "      <th>0</th>\n",
       "      <td>3zgiXC-s7v1AeFmxSU-1nA</td>\n",
       "      <td>0.00518</td>\n",
       "      <td>0.00512</td>\n",
       "      <td>0.63333</td>\n",
       "      <td>0.00512</td>\n",
       "      <td>0.35125</td>\n",
       "    </tr>\n",
       "    <tr>\n",
       "      <th>1</th>\n",
       "      <td>3zr5Izh5zdjffqzRgDU5WQ</td>\n",
       "      <td>0.68811</td>\n",
       "      <td>0.13960</td>\n",
       "      <td>0.15149</td>\n",
       "      <td>0.01035</td>\n",
       "      <td>0.01045</td>\n",
       "    </tr>\n",
       "    <tr>\n",
       "      <th>2</th>\n",
       "      <td>3zueavCiQ3SUinF0_l_uIA</td>\n",
       "      <td>0.00504</td>\n",
       "      <td>0.00502</td>\n",
       "      <td>0.23784</td>\n",
       "      <td>0.74705</td>\n",
       "      <td>0.00505</td>\n",
       "    </tr>\n",
       "    <tr>\n",
       "      <th>3</th>\n",
       "      <td>4-F08YvsIFeZ7Rto7KFNnw</td>\n",
       "      <td>0.02377</td>\n",
       "      <td>0.40712</td>\n",
       "      <td>0.02385</td>\n",
       "      <td>0.52139</td>\n",
       "      <td>0.02388</td>\n",
       "    </tr>\n",
       "    <tr>\n",
       "      <th>4</th>\n",
       "      <td>4-MsrSjKfpfE3BSdvM1-MA</td>\n",
       "      <td>0.22151</td>\n",
       "      <td>0.07559</td>\n",
       "      <td>0.09533</td>\n",
       "      <td>0.22634</td>\n",
       "      <td>0.38124</td>\n",
       "    </tr>\n",
       "  </tbody>\n",
       "</table>\n",
       "</div>"
      ],
      "text/plain": [
       "                review_id  topic_0_lda  topic_1_lda  topic_2_lda  topic_3_lda  \\\n",
       "0  3zgiXC-s7v1AeFmxSU-1nA      0.00518      0.00512      0.63333      0.00512   \n",
       "1  3zr5Izh5zdjffqzRgDU5WQ      0.68811      0.13960      0.15149      0.01035   \n",
       "2  3zueavCiQ3SUinF0_l_uIA      0.00504      0.00502      0.23784      0.74705   \n",
       "3  4-F08YvsIFeZ7Rto7KFNnw      0.02377      0.40712      0.02385      0.52139   \n",
       "4  4-MsrSjKfpfE3BSdvM1-MA      0.22151      0.07559      0.09533      0.22634   \n",
       "\n",
       "   topic_4_lda  \n",
       "0      0.35125  \n",
       "1      0.01045  \n",
       "2      0.00505  \n",
       "3      0.02388  \n",
       "4      0.38124  "
      ]
     },
     "execution_count": 15,
     "metadata": {},
     "output_type": "execute_result"
    }
   ],
   "source": [
    "finished_train.head()"
   ]
  },
  {
   "cell_type": "code",
   "execution_count": 16,
   "id": "14f83fc4",
   "metadata": {},
   "outputs": [],
   "source": [
    "test_dicts = []\n",
    "for i in range(len(test)):\n",
    "    topics = final_lda_model.get_document_topics(test_corpus[i], minimum_probability=0.0)\n",
    "    topic_dict = {f'topic_{j}_lda':topics[j][1] for j in range(topic_count)}\n",
    "    test_dicts.append(topic_dict)"
   ]
  },
  {
   "cell_type": "code",
   "execution_count": 17,
   "id": "3cc85eae",
   "metadata": {},
   "outputs": [],
   "source": [
    "finished_test = pd.concat([test, pd.DataFrame(test_dicts)], axis=1)\n",
    "finished_test = finished_test.drop(columns=['review_text'])"
   ]
  },
  {
   "cell_type": "code",
   "execution_count": 18,
   "id": "e1c64ede",
   "metadata": {
    "scrolled": true
   },
   "outputs": [
    {
     "data": {
      "text/html": [
       "<div>\n",
       "<style scoped>\n",
       "    .dataframe tbody tr th:only-of-type {\n",
       "        vertical-align: middle;\n",
       "    }\n",
       "\n",
       "    .dataframe tbody tr th {\n",
       "        vertical-align: top;\n",
       "    }\n",
       "\n",
       "    .dataframe thead th {\n",
       "        text-align: right;\n",
       "    }\n",
       "</style>\n",
       "<table border=\"1\" class=\"dataframe\">\n",
       "  <thead>\n",
       "    <tr style=\"text-align: right;\">\n",
       "      <th></th>\n",
       "      <th>review_id</th>\n",
       "      <th>topic_0_lda</th>\n",
       "      <th>topic_1_lda</th>\n",
       "      <th>topic_2_lda</th>\n",
       "      <th>topic_3_lda</th>\n",
       "      <th>topic_4_lda</th>\n",
       "    </tr>\n",
       "  </thead>\n",
       "  <tbody>\n",
       "    <tr>\n",
       "      <th>0</th>\n",
       "      <td>--p3d1axlnA7ka_p6hO-QQ</td>\n",
       "      <td>0.31891</td>\n",
       "      <td>0.28160</td>\n",
       "      <td>0.25317</td>\n",
       "      <td>0.14141</td>\n",
       "      <td>0.00491</td>\n",
       "    </tr>\n",
       "    <tr>\n",
       "      <th>1</th>\n",
       "      <td>-1v3W4XqQcIe44_I1lZYyA</td>\n",
       "      <td>0.17574</td>\n",
       "      <td>0.43749</td>\n",
       "      <td>0.20904</td>\n",
       "      <td>0.17425</td>\n",
       "      <td>0.00347</td>\n",
       "    </tr>\n",
       "    <tr>\n",
       "      <th>2</th>\n",
       "      <td>-21y2QEKfhjxh2algH_0nQ</td>\n",
       "      <td>0.01720</td>\n",
       "      <td>0.15948</td>\n",
       "      <td>0.38075</td>\n",
       "      <td>0.42536</td>\n",
       "      <td>0.01721</td>\n",
       "    </tr>\n",
       "    <tr>\n",
       "      <th>3</th>\n",
       "      <td>-358vecdAUh6ECkNfawvHw</td>\n",
       "      <td>0.01080</td>\n",
       "      <td>0.69864</td>\n",
       "      <td>0.01098</td>\n",
       "      <td>0.26876</td>\n",
       "      <td>0.01081</td>\n",
       "    </tr>\n",
       "    <tr>\n",
       "      <th>4</th>\n",
       "      <td>-3_NmlYMibrapNEnS_gfcg</td>\n",
       "      <td>0.08150</td>\n",
       "      <td>0.00452</td>\n",
       "      <td>0.54247</td>\n",
       "      <td>0.36702</td>\n",
       "      <td>0.00449</td>\n",
       "    </tr>\n",
       "  </tbody>\n",
       "</table>\n",
       "</div>"
      ],
      "text/plain": [
       "                review_id  topic_0_lda  topic_1_lda  topic_2_lda  topic_3_lda  \\\n",
       "0  --p3d1axlnA7ka_p6hO-QQ      0.31891      0.28160      0.25317      0.14141   \n",
       "1  -1v3W4XqQcIe44_I1lZYyA      0.17574      0.43749      0.20904      0.17425   \n",
       "2  -21y2QEKfhjxh2algH_0nQ      0.01720      0.15948      0.38075      0.42536   \n",
       "3  -358vecdAUh6ECkNfawvHw      0.01080      0.69864      0.01098      0.26876   \n",
       "4  -3_NmlYMibrapNEnS_gfcg      0.08150      0.00452      0.54247      0.36702   \n",
       "\n",
       "   topic_4_lda  \n",
       "0      0.00491  \n",
       "1      0.00347  \n",
       "2      0.01721  \n",
       "3      0.01081  \n",
       "4      0.00449  "
      ]
     },
     "execution_count": 18,
     "metadata": {},
     "output_type": "execute_result"
    }
   ],
   "source": [
    "finished_test.head()"
   ]
  },
  {
   "cell_type": "markdown",
   "id": "072b2666",
   "metadata": {},
   "source": [
    "### Save Data"
   ]
  },
  {
   "cell_type": "code",
   "execution_count": 32,
   "id": "0fd6fb5b",
   "metadata": {},
   "outputs": [],
   "source": [
    "# finished_train.to_sql(\n",
    "#         \"text_topic_model_train\",\n",
    "#         con=engine,\n",
    "#         index=False,\n",
    "#         if_exists=\"replace\",\n",
    "#     )"
   ]
  },
  {
   "cell_type": "code",
   "execution_count": null,
   "id": "de57c7aa",
   "metadata": {},
   "outputs": [],
   "source": [
    "# finished_test.to_sql(\n",
    "#         \"text_topic_model_test\",\n",
    "#         con=engine,\n",
    "#         index=False,\n",
    "#         if_exists=\"replace\",\n",
    "#     )"
   ]
  }
 ],
 "metadata": {
  "kernelspec": {
   "display_name": "Python 3",
   "language": "python",
   "name": "python3"
  },
  "language_info": {
   "codemirror_mode": {
    "name": "ipython",
    "version": 3
   },
   "file_extension": ".py",
   "mimetype": "text/x-python",
   "name": "python",
   "nbconvert_exporter": "python",
   "pygments_lexer": "ipython3",
   "version": "3.7.7"
  }
 },
 "nbformat": 4,
 "nbformat_minor": 5
}
